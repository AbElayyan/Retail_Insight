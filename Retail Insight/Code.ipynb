{
  "cells": [
    {
      "cell_type": "code",
      "execution_count": 1,
      "metadata": {
        "id": "2gi3zJcakAdc"
      },
      "outputs": [],
      "source": [
        "import pandas as pd\n",
        "import seaborn as sns\n",
        "import numpy as np\n",
        "from matplotlib import pyplot as plt\n",
        "import datetime\n",
        "\n",
        "from plotly.subplots import make_subplots\n",
        "import plotly.graph_objects as go\n",
        "\n",
        "pd.options.display.max_columns = 40"
      ]
    },
    {
      "cell_type": "code",
      "source": [
        "df = pd.read_excel('/content/Project_sales.xlsx')\n"
      ],
      "metadata": {
        "id": "9Uw5i5Jejf2J"
      },
      "execution_count": 2,
      "outputs": []
    },
    {
      "cell_type": "code",
      "source": [
        "df.head()"
      ],
      "metadata": {
        "colab": {
          "base_uri": "https://localhost:8080/",
          "height": 426
        },
        "id": "s20HHo2F8IEv",
        "outputId": "deebc4be-edd5-47ad-b773-4463e47a2070"
      },
      "execution_count": 3,
      "outputs": [
        {
          "output_type": "execute_result",
          "data": {
            "text/plain": [
              "   Sales_ID  Quantity  Price  Rate  Holiday customer_first_name  \\\n",
              "0         0        40  310.8   8.8        0            Victoria   \n",
              "1         1         6   29.3   6.2        0            Thatcher   \n",
              "2         2         6  664.7   6.9        1              Rennie   \n",
              "3         3        22  412.9   9.4        1             Sheilah   \n",
              "4         4        45  170.5   2.5        0               Byrle   \n",
              "\n",
              "  customer_last_name               customer_email customer_birthdate  \\\n",
              "0            Rackley  vrackley0@printfriendly.com         1956-11-24   \n",
              "1           Hickford  thickford1@businessweek.com         1959-04-22   \n",
              "2             Osgood           rosgood2@ocn.ne.jp         1950-01-09   \n",
              "3              Labro            slabro3@mysql.com         1953-07-25   \n",
              "4            Caraher      bcaraher4@angelfire.com         1965-05-24   \n",
              "\n",
              "  customer_gender Customer_Type customer_City  City_Area  City_Population  \\\n",
              "0          Female        Normal        Mafraq      26551           300300   \n",
              "1          Female        Normal         Irbid       1572          1137100   \n",
              "2          Female        Member        Ajloun        420           146900   \n",
              "3          Female        Member         Balqa       1120           428000   \n",
              "4            Male        Member        Mafraq      26551           300300   \n",
              "\n",
              "   City_Density(people/km2) employee_first_name employee_last_name  \\\n",
              "0                      11.3             Juditha          Reckhouse   \n",
              "1                     723.4            Isabella             Mehmet   \n",
              "2                     350.1              Muffin             Maryan   \n",
              "3                     382.0                Raye              Grent   \n",
              "4                      11.3               Inger              Jovis   \n",
              "\n",
              "                    employee_email employee_BirthDate employee_HireDate  \\\n",
              "0           jreckhouse1s@wired.com         1990-01-04        2021-10-01   \n",
              "1         imehmet2c@whitehouse.gov         1994-09-11        2022-04-02   \n",
              "2             mmaryan2d@sphinn.com         1989-12-29        2021-02-01   \n",
              "3            rgrent1f@vkontakte.ru         1989-10-19        2021-07-23   \n",
              "4  ijovis18@networkadvertising.org         1986-03-28        2021-03-31   \n",
              "\n",
              "  RoleDesc   WH       EmpType Branch_Name Branch_Location PaymentMethod  \\\n",
              "0  Cashier   6h    Fixed term           A           Amman          Cash   \n",
              "1  Cashier   6h     Part-time           A           Amman       Ewallet   \n",
              "2  Cashier  12h     Part-time           C           Zarqa       Ewallet   \n",
              "3  Cashier  12h  Shiftworkers           C           Zarqa          Cash   \n",
              "4  Cashier  12h     Full-time           D           Balqa       Ewallet   \n",
              "\n",
              "   DEPARTMENT                             CATEGORY OrderedDate PromotionDate  \\\n",
              "0       Gifts                   Gifts by Recipient  2021-11-15    2021-11-01   \n",
              "1    Designer  SPACE: Emerging & Advanced Designer  2021-12-09    2021-10-14   \n",
              "2        Kids                         Girls' Shoes  2021-06-20    2021-05-02   \n",
              "3  Activewear                   Kids' Active Shoes  2021-12-09    2021-11-11   \n",
              "4        Kids                       Boys' Clothing  2021-09-16    2021-08-05   \n",
              "\n",
              "             PromotionType  \n",
              "0             No Promotion  \n",
              "1  Free Gift with Purchase  \n",
              "2  Free Gift with Purchase  \n",
              "3                Giveaways  \n",
              "4             No Promotion  "
            ],
            "text/html": [
              "\n",
              "  <div id=\"df-9a0ee418-4a44-4bf6-ab2c-026d407311d1\">\n",
              "    <div class=\"colab-df-container\">\n",
              "      <div>\n",
              "<style scoped>\n",
              "    .dataframe tbody tr th:only-of-type {\n",
              "        vertical-align: middle;\n",
              "    }\n",
              "\n",
              "    .dataframe tbody tr th {\n",
              "        vertical-align: top;\n",
              "    }\n",
              "\n",
              "    .dataframe thead th {\n",
              "        text-align: right;\n",
              "    }\n",
              "</style>\n",
              "<table border=\"1\" class=\"dataframe\">\n",
              "  <thead>\n",
              "    <tr style=\"text-align: right;\">\n",
              "      <th></th>\n",
              "      <th>Sales_ID</th>\n",
              "      <th>Quantity</th>\n",
              "      <th>Price</th>\n",
              "      <th>Rate</th>\n",
              "      <th>Holiday</th>\n",
              "      <th>customer_first_name</th>\n",
              "      <th>customer_last_name</th>\n",
              "      <th>customer_email</th>\n",
              "      <th>customer_birthdate</th>\n",
              "      <th>customer_gender</th>\n",
              "      <th>Customer_Type</th>\n",
              "      <th>customer_City</th>\n",
              "      <th>City_Area</th>\n",
              "      <th>City_Population</th>\n",
              "      <th>City_Density(people/km2)</th>\n",
              "      <th>employee_first_name</th>\n",
              "      <th>employee_last_name</th>\n",
              "      <th>employee_email</th>\n",
              "      <th>employee_BirthDate</th>\n",
              "      <th>employee_HireDate</th>\n",
              "      <th>RoleDesc</th>\n",
              "      <th>WH</th>\n",
              "      <th>EmpType</th>\n",
              "      <th>Branch_Name</th>\n",
              "      <th>Branch_Location</th>\n",
              "      <th>PaymentMethod</th>\n",
              "      <th>DEPARTMENT</th>\n",
              "      <th>CATEGORY</th>\n",
              "      <th>OrderedDate</th>\n",
              "      <th>PromotionDate</th>\n",
              "      <th>PromotionType</th>\n",
              "    </tr>\n",
              "  </thead>\n",
              "  <tbody>\n",
              "    <tr>\n",
              "      <th>0</th>\n",
              "      <td>0</td>\n",
              "      <td>40</td>\n",
              "      <td>310.8</td>\n",
              "      <td>8.8</td>\n",
              "      <td>0</td>\n",
              "      <td>Victoria</td>\n",
              "      <td>Rackley</td>\n",
              "      <td>vrackley0@printfriendly.com</td>\n",
              "      <td>1956-11-24</td>\n",
              "      <td>Female</td>\n",
              "      <td>Normal</td>\n",
              "      <td>Mafraq</td>\n",
              "      <td>26551</td>\n",
              "      <td>300300</td>\n",
              "      <td>11.3</td>\n",
              "      <td>Juditha</td>\n",
              "      <td>Reckhouse</td>\n",
              "      <td>jreckhouse1s@wired.com</td>\n",
              "      <td>1990-01-04</td>\n",
              "      <td>2021-10-01</td>\n",
              "      <td>Cashier</td>\n",
              "      <td>6h</td>\n",
              "      <td>Fixed term</td>\n",
              "      <td>A</td>\n",
              "      <td>Amman</td>\n",
              "      <td>Cash</td>\n",
              "      <td>Gifts</td>\n",
              "      <td>Gifts by Recipient</td>\n",
              "      <td>2021-11-15</td>\n",
              "      <td>2021-11-01</td>\n",
              "      <td>No Promotion</td>\n",
              "    </tr>\n",
              "    <tr>\n",
              "      <th>1</th>\n",
              "      <td>1</td>\n",
              "      <td>6</td>\n",
              "      <td>29.3</td>\n",
              "      <td>6.2</td>\n",
              "      <td>0</td>\n",
              "      <td>Thatcher</td>\n",
              "      <td>Hickford</td>\n",
              "      <td>thickford1@businessweek.com</td>\n",
              "      <td>1959-04-22</td>\n",
              "      <td>Female</td>\n",
              "      <td>Normal</td>\n",
              "      <td>Irbid</td>\n",
              "      <td>1572</td>\n",
              "      <td>1137100</td>\n",
              "      <td>723.4</td>\n",
              "      <td>Isabella</td>\n",
              "      <td>Mehmet</td>\n",
              "      <td>imehmet2c@whitehouse.gov</td>\n",
              "      <td>1994-09-11</td>\n",
              "      <td>2022-04-02</td>\n",
              "      <td>Cashier</td>\n",
              "      <td>6h</td>\n",
              "      <td>Part-time</td>\n",
              "      <td>A</td>\n",
              "      <td>Amman</td>\n",
              "      <td>Ewallet</td>\n",
              "      <td>Designer</td>\n",
              "      <td>SPACE: Emerging &amp; Advanced Designer</td>\n",
              "      <td>2021-12-09</td>\n",
              "      <td>2021-10-14</td>\n",
              "      <td>Free Gift with Purchase</td>\n",
              "    </tr>\n",
              "    <tr>\n",
              "      <th>2</th>\n",
              "      <td>2</td>\n",
              "      <td>6</td>\n",
              "      <td>664.7</td>\n",
              "      <td>6.9</td>\n",
              "      <td>1</td>\n",
              "      <td>Rennie</td>\n",
              "      <td>Osgood</td>\n",
              "      <td>rosgood2@ocn.ne.jp</td>\n",
              "      <td>1950-01-09</td>\n",
              "      <td>Female</td>\n",
              "      <td>Member</td>\n",
              "      <td>Ajloun</td>\n",
              "      <td>420</td>\n",
              "      <td>146900</td>\n",
              "      <td>350.1</td>\n",
              "      <td>Muffin</td>\n",
              "      <td>Maryan</td>\n",
              "      <td>mmaryan2d@sphinn.com</td>\n",
              "      <td>1989-12-29</td>\n",
              "      <td>2021-02-01</td>\n",
              "      <td>Cashier</td>\n",
              "      <td>12h</td>\n",
              "      <td>Part-time</td>\n",
              "      <td>C</td>\n",
              "      <td>Zarqa</td>\n",
              "      <td>Ewallet</td>\n",
              "      <td>Kids</td>\n",
              "      <td>Girls' Shoes</td>\n",
              "      <td>2021-06-20</td>\n",
              "      <td>2021-05-02</td>\n",
              "      <td>Free Gift with Purchase</td>\n",
              "    </tr>\n",
              "    <tr>\n",
              "      <th>3</th>\n",
              "      <td>3</td>\n",
              "      <td>22</td>\n",
              "      <td>412.9</td>\n",
              "      <td>9.4</td>\n",
              "      <td>1</td>\n",
              "      <td>Sheilah</td>\n",
              "      <td>Labro</td>\n",
              "      <td>slabro3@mysql.com</td>\n",
              "      <td>1953-07-25</td>\n",
              "      <td>Female</td>\n",
              "      <td>Member</td>\n",
              "      <td>Balqa</td>\n",
              "      <td>1120</td>\n",
              "      <td>428000</td>\n",
              "      <td>382.0</td>\n",
              "      <td>Raye</td>\n",
              "      <td>Grent</td>\n",
              "      <td>rgrent1f@vkontakte.ru</td>\n",
              "      <td>1989-10-19</td>\n",
              "      <td>2021-07-23</td>\n",
              "      <td>Cashier</td>\n",
              "      <td>12h</td>\n",
              "      <td>Shiftworkers</td>\n",
              "      <td>C</td>\n",
              "      <td>Zarqa</td>\n",
              "      <td>Cash</td>\n",
              "      <td>Activewear</td>\n",
              "      <td>Kids' Active Shoes</td>\n",
              "      <td>2021-12-09</td>\n",
              "      <td>2021-11-11</td>\n",
              "      <td>Giveaways</td>\n",
              "    </tr>\n",
              "    <tr>\n",
              "      <th>4</th>\n",
              "      <td>4</td>\n",
              "      <td>45</td>\n",
              "      <td>170.5</td>\n",
              "      <td>2.5</td>\n",
              "      <td>0</td>\n",
              "      <td>Byrle</td>\n",
              "      <td>Caraher</td>\n",
              "      <td>bcaraher4@angelfire.com</td>\n",
              "      <td>1965-05-24</td>\n",
              "      <td>Male</td>\n",
              "      <td>Member</td>\n",
              "      <td>Mafraq</td>\n",
              "      <td>26551</td>\n",
              "      <td>300300</td>\n",
              "      <td>11.3</td>\n",
              "      <td>Inger</td>\n",
              "      <td>Jovis</td>\n",
              "      <td>ijovis18@networkadvertising.org</td>\n",
              "      <td>1986-03-28</td>\n",
              "      <td>2021-03-31</td>\n",
              "      <td>Cashier</td>\n",
              "      <td>12h</td>\n",
              "      <td>Full-time</td>\n",
              "      <td>D</td>\n",
              "      <td>Balqa</td>\n",
              "      <td>Ewallet</td>\n",
              "      <td>Kids</td>\n",
              "      <td>Boys' Clothing</td>\n",
              "      <td>2021-09-16</td>\n",
              "      <td>2021-08-05</td>\n",
              "      <td>No Promotion</td>\n",
              "    </tr>\n",
              "  </tbody>\n",
              "</table>\n",
              "</div>\n",
              "      <button class=\"colab-df-convert\" onclick=\"convertToInteractive('df-9a0ee418-4a44-4bf6-ab2c-026d407311d1')\"\n",
              "              title=\"Convert this dataframe to an interactive table.\"\n",
              "              style=\"display:none;\">\n",
              "        \n",
              "  <svg xmlns=\"http://www.w3.org/2000/svg\" height=\"24px\"viewBox=\"0 0 24 24\"\n",
              "       width=\"24px\">\n",
              "    <path d=\"M0 0h24v24H0V0z\" fill=\"none\"/>\n",
              "    <path d=\"M18.56 5.44l.94 2.06.94-2.06 2.06-.94-2.06-.94-.94-2.06-.94 2.06-2.06.94zm-11 1L8.5 8.5l.94-2.06 2.06-.94-2.06-.94L8.5 2.5l-.94 2.06-2.06.94zm10 10l.94 2.06.94-2.06 2.06-.94-2.06-.94-.94-2.06-.94 2.06-2.06.94z\"/><path d=\"M17.41 7.96l-1.37-1.37c-.4-.4-.92-.59-1.43-.59-.52 0-1.04.2-1.43.59L10.3 9.45l-7.72 7.72c-.78.78-.78 2.05 0 2.83L4 21.41c.39.39.9.59 1.41.59.51 0 1.02-.2 1.41-.59l7.78-7.78 2.81-2.81c.8-.78.8-2.07 0-2.86zM5.41 20L4 18.59l7.72-7.72 1.47 1.35L5.41 20z\"/>\n",
              "  </svg>\n",
              "      </button>\n",
              "      \n",
              "  <style>\n",
              "    .colab-df-container {\n",
              "      display:flex;\n",
              "      flex-wrap:wrap;\n",
              "      gap: 12px;\n",
              "    }\n",
              "\n",
              "    .colab-df-convert {\n",
              "      background-color: #E8F0FE;\n",
              "      border: none;\n",
              "      border-radius: 50%;\n",
              "      cursor: pointer;\n",
              "      display: none;\n",
              "      fill: #1967D2;\n",
              "      height: 32px;\n",
              "      padding: 0 0 0 0;\n",
              "      width: 32px;\n",
              "    }\n",
              "\n",
              "    .colab-df-convert:hover {\n",
              "      background-color: #E2EBFA;\n",
              "      box-shadow: 0px 1px 2px rgba(60, 64, 67, 0.3), 0px 1px 3px 1px rgba(60, 64, 67, 0.15);\n",
              "      fill: #174EA6;\n",
              "    }\n",
              "\n",
              "    [theme=dark] .colab-df-convert {\n",
              "      background-color: #3B4455;\n",
              "      fill: #D2E3FC;\n",
              "    }\n",
              "\n",
              "    [theme=dark] .colab-df-convert:hover {\n",
              "      background-color: #434B5C;\n",
              "      box-shadow: 0px 1px 3px 1px rgba(0, 0, 0, 0.15);\n",
              "      filter: drop-shadow(0px 1px 2px rgba(0, 0, 0, 0.3));\n",
              "      fill: #FFFFFF;\n",
              "    }\n",
              "  </style>\n",
              "\n",
              "      <script>\n",
              "        const buttonEl =\n",
              "          document.querySelector('#df-9a0ee418-4a44-4bf6-ab2c-026d407311d1 button.colab-df-convert');\n",
              "        buttonEl.style.display =\n",
              "          google.colab.kernel.accessAllowed ? 'block' : 'none';\n",
              "\n",
              "        async function convertToInteractive(key) {\n",
              "          const element = document.querySelector('#df-9a0ee418-4a44-4bf6-ab2c-026d407311d1');\n",
              "          const dataTable =\n",
              "            await google.colab.kernel.invokeFunction('convertToInteractive',\n",
              "                                                     [key], {});\n",
              "          if (!dataTable) return;\n",
              "\n",
              "          const docLinkHtml = 'Like what you see? Visit the ' +\n",
              "            '<a target=\"_blank\" href=https://colab.research.google.com/notebooks/data_table.ipynb>data table notebook</a>'\n",
              "            + ' to learn more about interactive tables.';\n",
              "          element.innerHTML = '';\n",
              "          dataTable['output_type'] = 'display_data';\n",
              "          await google.colab.output.renderOutput(dataTable, element);\n",
              "          const docLink = document.createElement('div');\n",
              "          docLink.innerHTML = docLinkHtml;\n",
              "          element.appendChild(docLink);\n",
              "        }\n",
              "      </script>\n",
              "    </div>\n",
              "  </div>\n",
              "  "
            ]
          },
          "metadata": {},
          "execution_count": 3
        }
      ]
    },
    {
      "cell_type": "code",
      "execution_count": 4,
      "metadata": {
        "id": "8oMydr1GkAdd",
        "outputId": "9db3588c-c7fb-4662-c960-a637385553ae",
        "colab": {
          "base_uri": "https://localhost:8080/"
        }
      },
      "outputs": [
        {
          "output_type": "execute_result",
          "data": {
            "text/plain": [
              "Sales_ID                             int64\n",
              "Quantity                             int64\n",
              "Price                              float64\n",
              "Rate                               float64\n",
              "Holiday                              int64\n",
              "customer_first_name                 object\n",
              "customer_last_name                  object\n",
              "customer_email                      object\n",
              "customer_birthdate          datetime64[ns]\n",
              "customer_gender                     object\n",
              "Customer_Type                       object\n",
              "customer_City                       object\n",
              "City_Area                            int64\n",
              "City_Population                      int64\n",
              "City_Density(people/km2)           float64\n",
              "employee_first_name                 object\n",
              "employee_last_name                  object\n",
              "employee_email                      object\n",
              "employee_BirthDate          datetime64[ns]\n",
              "employee_HireDate           datetime64[ns]\n",
              "RoleDesc                            object\n",
              "WH                                  object\n",
              "EmpType                             object\n",
              "Branch_Name                         object\n",
              "Branch_Location                     object\n",
              "PaymentMethod                       object\n",
              "DEPARTMENT                          object\n",
              "CATEGORY                            object\n",
              "OrderedDate                 datetime64[ns]\n",
              "PromotionDate               datetime64[ns]\n",
              "PromotionType                       object\n",
              "dtype: object"
            ]
          },
          "metadata": {},
          "execution_count": 4
        }
      ],
      "source": [
        "df.dtypes"
      ]
    },
    {
      "cell_type": "markdown",
      "source": [
        "# Checking for Missing Values"
      ],
      "metadata": {
        "id": "3W2SGreJo7Yz"
      }
    },
    {
      "cell_type": "code",
      "execution_count": 5,
      "metadata": {
        "id": "LU3bJYW9kAde",
        "outputId": "37bfc106-2120-486a-efe3-ca98c15c5dd0",
        "colab": {
          "base_uri": "https://localhost:8080/",
          "height": 0
        }
      },
      "outputs": [
        {
          "output_type": "execute_result",
          "data": {
            "text/plain": [
              "Empty DataFrame\n",
              "Columns: [Sales_ID, Quantity, Price, Rate, Holiday, customer_first_name, customer_last_name, customer_email, customer_birthdate, customer_gender, Customer_Type, customer_City, City_Area, City_Population, City_Density(people/km2), employee_first_name, employee_last_name, employee_email, employee_BirthDate, employee_HireDate, RoleDesc, WH, EmpType, Branch_Name, Branch_Location, PaymentMethod, DEPARTMENT, CATEGORY, OrderedDate, PromotionDate, PromotionType]\n",
              "Index: []"
            ],
            "text/html": [
              "\n",
              "  <div id=\"df-309110d2-4ea1-4284-a6f2-a5690384d052\">\n",
              "    <div class=\"colab-df-container\">\n",
              "      <div>\n",
              "<style scoped>\n",
              "    .dataframe tbody tr th:only-of-type {\n",
              "        vertical-align: middle;\n",
              "    }\n",
              "\n",
              "    .dataframe tbody tr th {\n",
              "        vertical-align: top;\n",
              "    }\n",
              "\n",
              "    .dataframe thead th {\n",
              "        text-align: right;\n",
              "    }\n",
              "</style>\n",
              "<table border=\"1\" class=\"dataframe\">\n",
              "  <thead>\n",
              "    <tr style=\"text-align: right;\">\n",
              "      <th></th>\n",
              "      <th>Sales_ID</th>\n",
              "      <th>Quantity</th>\n",
              "      <th>Price</th>\n",
              "      <th>Rate</th>\n",
              "      <th>Holiday</th>\n",
              "      <th>customer_first_name</th>\n",
              "      <th>customer_last_name</th>\n",
              "      <th>customer_email</th>\n",
              "      <th>customer_birthdate</th>\n",
              "      <th>customer_gender</th>\n",
              "      <th>Customer_Type</th>\n",
              "      <th>customer_City</th>\n",
              "      <th>City_Area</th>\n",
              "      <th>City_Population</th>\n",
              "      <th>City_Density(people/km2)</th>\n",
              "      <th>employee_first_name</th>\n",
              "      <th>employee_last_name</th>\n",
              "      <th>employee_email</th>\n",
              "      <th>employee_BirthDate</th>\n",
              "      <th>employee_HireDate</th>\n",
              "      <th>RoleDesc</th>\n",
              "      <th>WH</th>\n",
              "      <th>EmpType</th>\n",
              "      <th>Branch_Name</th>\n",
              "      <th>Branch_Location</th>\n",
              "      <th>PaymentMethod</th>\n",
              "      <th>DEPARTMENT</th>\n",
              "      <th>CATEGORY</th>\n",
              "      <th>OrderedDate</th>\n",
              "      <th>PromotionDate</th>\n",
              "      <th>PromotionType</th>\n",
              "    </tr>\n",
              "  </thead>\n",
              "  <tbody>\n",
              "  </tbody>\n",
              "</table>\n",
              "</div>\n",
              "      <button class=\"colab-df-convert\" onclick=\"convertToInteractive('df-309110d2-4ea1-4284-a6f2-a5690384d052')\"\n",
              "              title=\"Convert this dataframe to an interactive table.\"\n",
              "              style=\"display:none;\">\n",
              "        \n",
              "  <svg xmlns=\"http://www.w3.org/2000/svg\" height=\"24px\"viewBox=\"0 0 24 24\"\n",
              "       width=\"24px\">\n",
              "    <path d=\"M0 0h24v24H0V0z\" fill=\"none\"/>\n",
              "    <path d=\"M18.56 5.44l.94 2.06.94-2.06 2.06-.94-2.06-.94-.94-2.06-.94 2.06-2.06.94zm-11 1L8.5 8.5l.94-2.06 2.06-.94-2.06-.94L8.5 2.5l-.94 2.06-2.06.94zm10 10l.94 2.06.94-2.06 2.06-.94-2.06-.94-.94-2.06-.94 2.06-2.06.94z\"/><path d=\"M17.41 7.96l-1.37-1.37c-.4-.4-.92-.59-1.43-.59-.52 0-1.04.2-1.43.59L10.3 9.45l-7.72 7.72c-.78.78-.78 2.05 0 2.83L4 21.41c.39.39.9.59 1.41.59.51 0 1.02-.2 1.41-.59l7.78-7.78 2.81-2.81c.8-.78.8-2.07 0-2.86zM5.41 20L4 18.59l7.72-7.72 1.47 1.35L5.41 20z\"/>\n",
              "  </svg>\n",
              "      </button>\n",
              "      \n",
              "  <style>\n",
              "    .colab-df-container {\n",
              "      display:flex;\n",
              "      flex-wrap:wrap;\n",
              "      gap: 12px;\n",
              "    }\n",
              "\n",
              "    .colab-df-convert {\n",
              "      background-color: #E8F0FE;\n",
              "      border: none;\n",
              "      border-radius: 50%;\n",
              "      cursor: pointer;\n",
              "      display: none;\n",
              "      fill: #1967D2;\n",
              "      height: 32px;\n",
              "      padding: 0 0 0 0;\n",
              "      width: 32px;\n",
              "    }\n",
              "\n",
              "    .colab-df-convert:hover {\n",
              "      background-color: #E2EBFA;\n",
              "      box-shadow: 0px 1px 2px rgba(60, 64, 67, 0.3), 0px 1px 3px 1px rgba(60, 64, 67, 0.15);\n",
              "      fill: #174EA6;\n",
              "    }\n",
              "\n",
              "    [theme=dark] .colab-df-convert {\n",
              "      background-color: #3B4455;\n",
              "      fill: #D2E3FC;\n",
              "    }\n",
              "\n",
              "    [theme=dark] .colab-df-convert:hover {\n",
              "      background-color: #434B5C;\n",
              "      box-shadow: 0px 1px 3px 1px rgba(0, 0, 0, 0.15);\n",
              "      filter: drop-shadow(0px 1px 2px rgba(0, 0, 0, 0.3));\n",
              "      fill: #FFFFFF;\n",
              "    }\n",
              "  </style>\n",
              "\n",
              "      <script>\n",
              "        const buttonEl =\n",
              "          document.querySelector('#df-309110d2-4ea1-4284-a6f2-a5690384d052 button.colab-df-convert');\n",
              "        buttonEl.style.display =\n",
              "          google.colab.kernel.accessAllowed ? 'block' : 'none';\n",
              "\n",
              "        async function convertToInteractive(key) {\n",
              "          const element = document.querySelector('#df-309110d2-4ea1-4284-a6f2-a5690384d052');\n",
              "          const dataTable =\n",
              "            await google.colab.kernel.invokeFunction('convertToInteractive',\n",
              "                                                     [key], {});\n",
              "          if (!dataTable) return;\n",
              "\n",
              "          const docLinkHtml = 'Like what you see? Visit the ' +\n",
              "            '<a target=\"_blank\" href=https://colab.research.google.com/notebooks/data_table.ipynb>data table notebook</a>'\n",
              "            + ' to learn more about interactive tables.';\n",
              "          element.innerHTML = '';\n",
              "          dataTable['output_type'] = 'display_data';\n",
              "          await google.colab.output.renderOutput(dataTable, element);\n",
              "          const docLink = document.createElement('div');\n",
              "          docLink.innerHTML = docLinkHtml;\n",
              "          element.appendChild(docLink);\n",
              "        }\n",
              "      </script>\n",
              "    </div>\n",
              "  </div>\n",
              "  "
            ]
          },
          "metadata": {},
          "execution_count": 5
        }
      ],
      "source": [
        "df[df.isna().any(axis=1)]"
      ]
    },
    {
      "cell_type": "markdown",
      "source": [
        "# Checking for Duplicates"
      ],
      "metadata": {
        "id": "_oCzK-_qrU_G"
      }
    },
    {
      "cell_type": "code",
      "source": [
        "df.duplicated().sum()"
      ],
      "metadata": {
        "colab": {
          "base_uri": "https://localhost:8080/"
        },
        "id": "VqLhmRqTrYpW",
        "outputId": "4e9771cb-4ee7-42e7-8135-93b2a93757a1"
      },
      "execution_count": 6,
      "outputs": [
        {
          "output_type": "execute_result",
          "data": {
            "text/plain": [
              "0"
            ]
          },
          "metadata": {},
          "execution_count": 6
        }
      ]
    },
    {
      "cell_type": "markdown",
      "source": [
        "# Outliers Detection"
      ],
      "metadata": {
        "id": "rPbNpvUcsNQh"
      }
    },
    {
      "cell_type": "markdown",
      "source": [
        "Using boxplots for general detection of outliers. "
      ],
      "metadata": {
        "id": "PyTO6P-us6jp"
      }
    },
    {
      "cell_type": "code",
      "source": [
        "def add_trace(fig, df, var, row, col):\n",
        "\n",
        "  return fig.add_trace(go.Box(y=df[var], name=var),row=row, col=col)\n",
        "\n",
        "vars = ['Quantity','Price','Rate','City_Area','City_Population', 'City_Density(people/km2)']\n",
        "                    \n",
        "fig = make_subplots(rows=2, cols=3, \n",
        "                     subplot_titles=(vars))\n",
        "\n",
        "add_trace(fig, df, vars[0], 1, 1)\n",
        "add_trace(fig, df, vars[1], 1, 2)\n",
        "add_trace(fig, df, vars[2], 1, 3)\n",
        "add_trace(fig, df, vars[3], 2, 1)\n",
        "add_trace(fig, df, vars[4], 2, 2)\n",
        "add_trace(fig, df, vars[5], 2, 3)\n",
        "\n",
        "fig.update_layout(height=600, width=800, title = \"Spread of Numerical Data in the Sales Dataset\", margin=dict(l=20, r=20, t=45, b=20))"
      ],
      "metadata": {
        "id": "EcxiZsqdyYdE",
        "colab": {
          "base_uri": "https://localhost:8080/",
          "height": 0
        },
        "outputId": "fba1a68e-5510-4bc4-bf7b-bf6cb6847b7a"
      },
      "execution_count": 7,
      "outputs": [
        {
          "output_type": "display_data",
          "data": {
            "text/html": [
              "<html>\n",
              "<head><meta charset=\"utf-8\" /></head>\n",
              "<body>\n",
              "    <div>            <script src=\"https://cdnjs.cloudflare.com/ajax/libs/mathjax/2.7.5/MathJax.js?config=TeX-AMS-MML_SVG\"></script><script type=\"text/javascript\">if (window.MathJax) {MathJax.Hub.Config({SVG: {font: \"STIX-Web\"}});}</script>                <script type=\"text/javascript\">window.PlotlyConfig = {MathJaxConfig: 'local'};</script>\n",
              "        <script src=\"https://cdn.plot.ly/plotly-2.8.3.min.js\"></script>                <div id=\"ba2b0579-1d69-4e25-8f73-d2dc365e91e6\" class=\"plotly-graph-div\" style=\"height:600px; width:800px;\"></div>            <script type=\"text/javascript\">                                    window.PLOTLYENV=window.PLOTLYENV || {};                                    if (document.getElementById(\"ba2b0579-1d69-4e25-8f73-d2dc365e91e6\")) {                    Plotly.newPlot(                        \"ba2b0579-1d69-4e25-8f73-d2dc365e91e6\",                        [{\"name\":\"Quantity\",\"y\":[40,6,6,22,45,117,3,138,90,44,123,179,4,24,20,17,69,62,9,75,68,16,63,17,8,47,49,69,60,8,139,41,34,24,152,123,41,175,88,142,76,65,95,78,24,122,25,26,177,15,68,113,43,57,139,52,5,91,56,130,166,51,39,114,140,117,44,18,61,82,74,97,42,20,67,50,23,111,70,83,78,157,17,1,2,52,132,66,50,22,56,103,3,70,121,74,43,46,58,2,6,21,56,177,54,49,99,21,81,117,17,126,108,87,31,67,90,83,153,90,124,15,71,51,3,43,75,25,171,67,75,39,103,85,27,49,135,79,4,21,65,11,14,76,3,78,2,75,171,20,84,76,30,72,81,108,110,66,78,150,62,41,98,65,78,123,58,25,105,60,61,64,41,39,82,14,32,39,42,78,14,29,37,34,1,62,145,145,20,90,4,93,59,13,60,64,27,21,140,25,58,160,58,63,36,25,25,67,10,6,171,7,32,138,55,42,46,177,33,7,85,6,23,33,141,36,12,152,78,142,82,101,70,29,85,86,177,75,3,27,46,50,58,65,34,30,128,120,44,12,47,58,137,141,52,20,78,89,129,61,116,128,77,160,133,57,71,40,121,45,67,78,24,81,129,87,2,87,160,133,38,53,55,28,86,85,31,65,59,87,41,71,16,134,95,46,62,51,56,9,16,154,31,28,47,155,101,112,26,138,38,180,90,21,148,57,71,32,28,69,88,17,8,49,88,129,4,83,4,12,37,47,86,72,166,61,65,77,32,42,120,3,44,4,25,90,75,1,85,78,90,60,49,15,24,77,137,39,79,159,152,79,63,24,132,1,70,110,5,154,175,173,53,165,19,179,154,161,43,9,71,179,125,68,139,82,59,52,28,75,72,16,49,153,176,111,29,158,19,66,103,170,12,12,58,83,151,72,2,64,83,14,85,2,37,66,64,45,177,18,33,29,80,43,91,80,20,54,140,59,72,79,29,93,18,103,83,138,56,74,71,45,143,53,53,160,43,71,55,1,25,46,79,69,175,19,154,87,60,28,51,98,101,23,25,113,38,81,18,32,44,56,49,107,71,168,74,63,89,65,5,38,62,90,61,64,53,25,65,32,46,73,72,98,9,47,4,79,13,5,66,57,121,149,73,163,99,62,146,76,7,59,64,41,6,52,68,3,40,72,35,55,18,12,100,7,143,26,17,19,50,79,135,30,44,43,118,83,71,94,50,159,4,148,8,89,49,43,4,25,51,177,6,23,3,59,143,2,8,38,61,54,69,85,65,95,73,9,72,15,162,63,169,175,99,21,28,55,77,66,20,96,69,127,55,88,47,103,122,19,88,62,133,86,7,123,58,152,58,41,53,44,29,93,37,19,39,51,71,74,35,26,86,79,135,66,53,70,11,32,40,10,88,25,44,64,135,28,83,94,35,139,128,107,131,83,4,84,87,6,34,75,8,7,92,39,151,22,13,66,18,33,31,84,72,29,59,14,67,71,63,89,26,59,24,31,45,12,100,157,142,72,13,33,55,31,55,13,111,73,64,107,4,76,167,44,31,46,142,57,26,121,35,61,86,133,22,92,56,163,27,120,30,45,88,104,35,76,38,21,156,89,32,2,90,82,67,31,25,2,47,1,170,52,118,86,48,4,169,142,20,70,84,77,1,55,50,25,53,155,153,11,63,40,87,14,60,73,38,115,26,64,9,155,82,56,174,65,33,37,114,88,35,19,75,47,47,122,22,5,2,167,50,86,2,158,59,96,77,57,68,11,63,52,143,144,132,136,73,61,6,151,167,154,12,76,61,13,61,140,167,25,162,110,116,7,143,36,1,71,49,81,45,162,42,42,24,170,62,163,69,6,49,56,25,65,82,4,9,58,86,58,128,46,166,149,148,9,129,77,1,89,57,41,41,29,179,49,48,109,48,58,85,8,114,31,89,23,142,142,10,103,150,121,72,71,1,77,22,57,147,90,113,35,51,7,146,24,26,28,93,158,143,80,136,31,16,99,116,72,41,41,18,16,35,114,106,45,57,51,10,49,65,11,89,134,65,64,82,148,29,40,119,123,45,71,64,84,56,154,33,159,49,48,23,47,60,44,136,93,49,161,65,43,65,177,70,34,39,82,70,37,11,108,62,64,37,25,37,49,171,156,87,53,158,69,68,118,48,7,80,67,78,26,35,123,22,122,178,119,85,41,27,19,55,30,171,35,3,22,147,22,60,106,35,90,6,62,55,22,44,67,128,67,55,105,75,23,93,44,126,68,69,42,128,31,116,166,67,22,9,82,4,35,35,85,27,29,47,10,40,128,1,18,171,163,178,152,89,57,171,111,87,32,16,19,89,53,20,58,49,57,88,43,69,33,129,3,8,124,10,38,37,81,78,80,90,62,16,170,65,130,40,42,71,49,60,158,70,162,79,110,21,24,140,89,140,39,90,8,79,135,58,83,58,38,44,38,146,33,2,106,4,72,173,47,14,70,28,64,57,36,12,48,21,80,71,18,88,73,139,172,71,29,90,109,30,22,129,141,47,53,86,5,95,118,5,56,88,117,35,16,132,68,30,131,116,127,61,18,42,29,45,45,141,24,58,86,76,178,61,57,12,86,84,66,72,13,59,100,95,153,19,84,56,16,48,162,14,43,24,41,24,115,76,153,15,77,45,6,64,179,67,3,72,74,32,71,175,85,175,87,34,107,128,116,144,54,99,9,140,83,22,34,74,61,21,14,70,33,127,120,49,112,63,142,147,124,171,71,176,86,89,142,68,43,163,81,44,157,124,31,98,180,60,87,12,9,47,22,15,78,23,60,48,161,3,10,125,30,94,135,166,42,89,152,24,119,65,45,47,164,14,157,28,145,111,165,103,101,40,58,19,38,64,25,66,73,94,18,4,57,95,3,153,77,122,2,96,104,72,176,23,110,28,61,27,38,104,29,13,49,127,65,131,28,59,27,145,102,3,58,57,54,102,152,126,13,88,33,6,178,121,121,4,102,90,178,74,145,33,108,172,60,104,20,136,39,63,67,90,42,122,27,61,42,10,88,13,83,26,22,29,97,163,140,32,55,55,44,8,74,43,4,16,117,102,75,176,50,132,43,50,15,5,83,64,78,74,48,1,144,32,136,167,46,1,33,35,77,152,123,61,39,126,76,73,46,81,40,56,179,122,61,25,68,56,60,58,45,46,37,154,13,51,151,53,77,102,16,134,96,36,176,103,26,20,79,96,89,128,110,58,47,66,110,41,27,61,56,175,39,18,21,89,171,7,124,18,127,8,146,27,26,74,45,123,155,37,20,63,33,34,78,80,18,38,62,67,86,86,84,118,60,106,29,64,140,28,113,27,47,84,74,89,37,7,30,14,9,65,151,157,164,133,7,25,65,2,54,172,89,40,7,44,109,132,174,95,52,56,68,47,58,6,73,73,133,78,92,173,27,85,22,64,40,84,113,66,102,56,98,34,64,4,42,71,28,56,66,34,56,79,83,71,83,150,28,47,125,159,84,21,7,27,83,22,11,58,94,40,71,33,67,17,16,132,116,44,57,17,22,32,165,60,123,99,65,107,60,90,27,16,114,58,146,74,132,83,55,42,48,19,172,83,58,39,78,24,103,98,41,33,47,89,30,66,163,63,12,15,144,123,11,87,146,52,54,173,67,73,6,26,16,136,128,150,115,47,41,23,13,72,35,114,152,33,23,74,151,12,65,142,27,53,75,44,2,51,39,49,94,70,67,81,147,147,89,73,73,59,25,12,86,4,17,58,58,63,48,45,112,36,143,36,158,48,98,82,4,113,5,62,85,153,178,60,18,87,8,41,167,10,22,26,18,25,164,69,14,143,21,43,56,24,31,59,53,88,5,57,167,27,92,166,9,32,76,50,37,3,12,37,88,8,103,2,43,168,40,134,17,175,179,70,67,28,3,8,92,120,1,58,29,90,78,162,59,40,78,90,55,178,5,136,162,38,69,32,53,180,80,84,66,17,124,12,18,35,176,52,63,138,11,20,3,27,115,46,39,75,167,94,26,9,59,65,54,25,56,19,12,22,73,56,57,67,53,83,56,9,9,85,12,41,2,63,34,92,55,64,46,159,62,88,50,168,65,40,39,22,58,118,35,44,111,35,154,64,43,23,117,12,77,29,79,30,64,57,23,93,14,72,89,22,5,34,26,90,86,67,86,67,67,133,173,10,106,121,26,120,140,20,43,22,169,18,51,4,17,73,40,21,7,173,7,19,136,105,88,155,34,31,5,178,93,88,132,64,45,176,27,80,161,135,71,51,19,130,31,153,150,70,141,48,36,70,42,175,78,6,149,62,136,45,31,1,61,85,55,50,55,156,58,1,59,57,85,32,71,84,122,35,90,122,141,110,18,46,3,64,15,77,65,146,55,46,35,147,8,132,88,115,18,23,3,89,179,151,61,24,5,45,120,29,43,83,58,52,18,98,26,122,89,63,128,5,77,58,34,84,44,28,121,132,170,15,87,83,1,86,171,61,111,27,47,7,5,4,38,43,19,35,67,34,39,5,5,76,4,13,47,135,125,109,94,66,8,44,114,71,101,18,25,58,18,35,32,9,14,7,139,21,43,83,14,35,40,2,8,123,48,128,13,5,74,34,82,50,105,65,53,55,46,96,4,51,74,47,139,123,109,30,74,9,74,36,39,60,92,31,72,33,21,89,21,32,48,134,73,19,58,8,36,56,42,88,28,61,149,37,66,88,19,78,9,41,149,43,13,26,33,106,60,26,52,36,105,126,12,1,58,97,51,7,30,35,32,79,52,150,59,23,34,56,32,47,30,16,102,80,21,2,20,26,107,15,67,6,139,19,80,101,11,28,46,53,71,136,59,2,34,42,3,42,54,122,113,32,146,16,96,3,11,72,70,8,87,65,59,8,80,64,135,115,16,34,58,129,7,38,51,18,147,55,37,29,113,31,117,114,14,53,76,3,119,36,105,56,15,54,6,107,78,71,45,72,19,53,78,25,67,128,39,46,7,56,4,16,22,19,53,20,20,32,95,22,1,65,5,78,46,122,103,63,85,6,3,34,28,53,81,65,116,85,25,145,36,143,31,146,23,58,70,63,61,9,100,3,56,62,38,32,37,55,32,77,138,46,35,46,15,21,63,7,42,46,138,143,3,21,51,11,4,100,86,59,30,11,90,29,20,14,46,43,20,39,110,30,85,148,6,70,66,147,15,47,40,140,31,27,59,6,115,60,99,35,11,65,37,147,26,37,16,124,64,113,9,46,16,32,31,17,99,142,148,75,13,149,131,37,60,36,8,48,47,19,29,42,70,118,47,101,2,105,4,127,25,6,62,30,18,58,10,26,79,75,9,15,68,79,24,119,67,71,25,28,6,62,65,27,16,46,4,65,41,26,26,39,9,50,75,48,66,80,23,37,23,64,48,10,47,48,56,52,38,29,13,48,12,82,43,14,140,120,76,60,150,16,40,61,128,73,14,150,133,147,30,32,82,29,85,59,73,12,36,109,38,10,111,23,54,73,58,46,27,32,53,31,82,59,38,65,103,7,63,109,59,56,1,75,14,61,7,74,73,72,123,35,23,140,42,64,66,141,16,42,70,65,70,11,130,24,72,94,59,91,66,1,75,131,94,100,104,31,61,21,10,11,34,18,8,50,75,15,72,67,60,125,119,50,26,148,68,10,114,46,67,52,5,139,75,139,64,128,14,7,51,56,11,61,66,123,21,72,90,54,118,55,66,45,43,140,60,30,54,122,37,102,94,64,33,1,118,135,6,11,61,37,72,31,143,23,126,33,59,67,139,61,73,100,74,61,25,60,25,48,94,15,11,30,140,61,50,146,14,11,58,56,21,11,22,85,116,56,28,3,46,59,126,31,24,27,105,47,77,57,93,14,63,28,131,102,75,116,2,26,13,39,142,64,4,61,69,130,101,45,140,114,73,53,12,76,133,22,148,147,23,30,25,57,11,38,41,4,38,49,45,84,69,8,137,11,32,15,19,19,101,12,28,27,132,7,46,144,37,5,67,72,56,70,143,67,141,5,3,71,62,58,23,80,26,56,28,110,3,12,74,24,11,33,75,62,13,72,57,143,18,103,82,96,112,66,56,51,58,52,117,28,104,29,11,112,1,4,51,1,141,75,135,14,34,148,5,54,120,121,94,52,7,138,60,48,7,52,146,145,24,28,90,131,35,23,71,39,136,120,70,13,85,92,41,71,30,51,33,38,117,1,13,71,58,29,144,65,68,49,57,48,70,41,74,28,81,53,121,62,70,3,33,52,65,143,52,29,13,30,23,43,71,84,38,6,50,133,109,31,3,132,29,85,46,78,113,132,14,86,70,39,71,71,89,107,132,39,69,31,26,69,40,38,47,28,58,18,102,42,38,1,136,33,42,105,49,19,4,52,56,26,31,14,32,69,72,75,121,74,46,75,33,42,40,65,71,15,20,74,110,42,113,54,14,149,131,58,33,28,87,26,49,29,26,91,67,25,26,44,7,36,24,64,59,42,52,18,8,47,67,48,57,1,20,52,60,108,8,34,110,67,72,109,21,40,17,109,4,149,1,43,66,4,11,2,12,51,3,20,101,14,22,14,78,35,47,40,57,22,141,67,104,51,2,11,62,13,16,114,72,68,36,35,35,49,39,55,15,2,117,42,41,59,12,112,20,33,38,86,28,147,2,59,125,24,62,33,38,74,123,119,37,52,86,29,27,11,96,21,73,49,72,54,8,54,8,59,144,56,56,12,25,23,28,87,89,63,21,33,86,117,41,13,132,144,26,68,119,22,14,103,15,130,66,51,96,141,58,10,124,46,49,47,56,97,21,141,47,143,21,131,21,25,33,51,38,69,35,134,92,40,14,16,66,27,79,22,138,60,28,75,10,47,82,71,110,85,53,33,5,68,75,95,65,98,3,41,53,27,137,39,21,87,145,74,75,136,62,42,128,21,50,11,95,8,149,49,129,68,115,44,40,140,64,53,10,119,1,54,109,147,73,51,45,80,16,61,10,12,2,10,68,5,22,30,70,85,20,14,2,36,101,62,73,37,9,47,83,23,138,38,55,74,103,31,132,46,15,35,58,64,110,89,2,20,42,52,7,14,73,14,1,30,110,23,24,46,72,65,57,48,74,57,68,60,66,32,57,51,70,3,10,134,65,15,30,68,54,48,35,17,52,19,40,64,60,118,65,37,45,81,47,61,8,69,134,3,44,18,80,6,133,70,9,90,42,20,2,63,6,10,1,39,84,55,25,80,36,149,57,79,120,21,39,61,24,52,60,39,22,4,105,13,105,42,53,67,5,10,133,64,64,142,54,9,95,144,133,35,28,120,19,20,46,38,12,49,139,34,57,109,67,35,39,10,118,87,50,137,130,56,62,43,35,100,27,28,25,72,60,115,54,150,50,46,144,21,34,144,106,22,1,22,5,39,50,26,70,7,65,85,30,129,116,24,107,54,132,10,40,32,145,10,133,30,133,12,92,52,18,4,39,101,107,44,21,45,46,96,54,24,8,34,13,72,107,55,14,26,47,65,8,38,48,62,145,116,84,62,63,18,5,54,76,3,62,50,5,88,125,88,20,20,120,31,144,64,9,53,40,8,91,74,39,81,42,18,36,150,14,16,13,36,127,117,41,113,117,130,20,46,59,12,46,27,29,74,1,35,51,44,17,24,66,61,23,59,25,24,68,128,40,89,35,5,62,22,67,15,28,13,95,113,116,68,57,5,25,2,133,6,75,17,55,146,33,92,58,69,13,50,42,5,4,64,142,37,65,3,50,108,109,40,9,31,129,8,30,133,125,117,70,113,70,9,40,60,135,146,147,51,24,80,13,28,55,36,11,43,42,8,8,5,146,51,127,48,43,50,22,12,69,68,38,65,14,56,45,74,48,18,35,94,74,12,135,16,3,16,85,25,58,1,62,55,52,108,18,25,65,51,58,51,130,34,3,74,8,91,63,53,95,65,12,49,24,138,65,31,46,25,25,137,35,79,27,73,101,8,18,65,73,47,62,36,23,140,24,60,3,36,45,69,58,50,9,96,46,12,26,58,106,149,31,21,63,2,6,75,149,71,38,30,148,65,102,78,51,16,75,143,14,122,48,51,49,79,109,144,60,21,49,18,61,49,45,100,52,127,28,129,50,31,7,74,29,90,75,30,140,31,53,38,49,6,24,63,17,10,50,14,64,2,137,7,68,65,11,96,121,52,22,42,83,38,33,36,54,33,8,10,110,69,59,81,36,44,14,41,18,22,10,47,2,89,53,26,24,61,27,114,125,74,65,72,34,137,44,42,58,96,75,136,45,60,24,50,66,60,144,1,7,122,19,91,28,29,10,53,84,42,68,3,24,67,97,136,115,55,49,27,70,92,145,2,46,125,118,31,62,139,2,85,117,113,40,27,43,96,57,1,66,89,107,108,36,25,62,72,28,27,17,20,142,36,44,46,130,51,43,19,58,129,71,79,101,13,36,33,138,19,94,94,53,44,129,1,94,99,71,35,36,66,72,5,46,5,11,62,39,48,105,40,91,37,135,66,118,53,11,4,56,14,49,70,109,3,54,71,51,27,34,43,16,96,50,112,45,140,57,73,43,66,3,114,19,57,101,42,58,37,71,75,35,63,56,111,64,73,49,16,20,84,133,101,129,46,48,150,74,141,91,113,38,23,148,36,46,126,14,65,63,68,9,40,121,81,16,74,50,109,53,17,20,61,19,45,62,65,115,116,44,111,10,116,21,46,51,105,50,48,51,58,70,125,19,102,64,100,19,137,27,63,7,146,92,24,73,68,15,114,48,49,113,101,20,56,70,24,116,26,69,67,85,137,75,95,51,34,115,24,133,91,74,56,82,29,19,60,41,49,46,146,75,70,65,34,144,21,134,80,26,42,50,149,43,54,18,102,84,43,49,5,49,9,22,38,65,72,50,142,4,13,30,16,17,58,52,48,14,4,18,121,61,58,35,49,34,137,93,128,15,52,35,102,87,49,51,61,8,19,7,18,29,55,16,50,138,87,60,88,91],\"type\":\"box\",\"xaxis\":\"x\",\"yaxis\":\"y\"},{\"name\":\"Price\",\"y\":[310.8,29.3,664.7,412.9,170.5,120.6,92.1,920.3,358.4,102.6,206.2,238.3,800.9,188.2,739.7,669.7,423.4,289.2,108.5,882.8,453.6,987.6,792.8,113.5,977.2,179.3,274.0,224.4,714.8,597.2,99.7,928.3,130.1,514.4,349.7,828.4,153.5,810.6,241.8,387.7,250.4,114.8,74.6,665.2,100.3,315.8,881.0,975.9,197.7,504.5,646.6,340.8,427.5,848.3,310.3,284.7,310.6,569.7,274.2,378.2,978.8,361.5,695.7,52.9,931.6,582.8,739.9,620.7,273.3,588.8,502.3,452.9,727.4,453.2,734.0,790.6,870.8,543.7,361.4,973.0,949.7,540.1,140.5,5.8,797.7,201.5,706.7,666.0,590.9,210.7,490.6,617.9,244.2,75.8,813.3,774.9,31.3,341.1,561.9,689.8,188.9,30.1,180.0,260.4,485.5,420.6,312.8,938.3,992.9,787.3,842.4,944.3,251.1,116.2,726.1,531.4,14.1,594.9,901.1,95.4,855.2,52.0,945.6,174.4,113.1,685.8,108.6,416.5,739.3,969.9,3.6,678.3,404.9,512.2,717.7,32.3,347.1,101.8,626.6,194.8,799.3,993.2,269.3,547.9,989.7,907.7,609.9,992.3,435.5,832.4,52.4,886.1,296.7,591.4,504.0,461.7,226.3,671.6,436.5,117.4,19.4,638.4,664.8,295.9,709.2,177.0,450.9,921.5,704.4,923.9,361.1,26.3,405.1,467.6,125.9,526.7,802.2,489.2,818.1,364.4,602.2,794.4,191.5,102.7,677.5,104.1,281.7,781.0,66.2,931.8,222.0,765.9,536.9,515.0,584.1,179.6,961.0,709.9,468.8,127.9,412.7,899.8,278.5,357.4,511.8,940.9,750.2,360.8,36.9,406.1,984.1,43.2,850.0,964.2,243.3,802.0,197.8,598.5,325.1,805.5,621.3,950.9,385.6,711.6,438.3,78.5,25.5,703.2,582.5,249.7,427.5,371.5,54.2,345.6,707.5,268.7,134.3,188.5,437.4,386.2,469.4,547.3,425.1,182.4,494.9,438.9,700.2,532.6,184.3,981.3,739.6,698.4,516.6,394.8,382.8,133.4,538.5,553.6,72.0,745.8,528.1,406.4,726.2,99.3,524.9,153.3,133.6,871.1,835.2,667.2,77.7,790.4,364.3,851.1,405.0,908.6,178.9,462.0,490.6,691.1,592.8,26.6,616.7,949.6,755.9,820.8,922.4,632.1,425.5,890.0,49.8,45.3,938.5,145.0,557.1,471.2,82.2,522.2,769.2,356.3,839.8,90.5,136.8,644.5,941.0,551.0,666.0,674.4,609.4,413.2,745.6,57.7,212.9,242.9,62.9,415.1,983.3,900.2,115.3,407.2,379.9,773.2,591.5,293.6,144.8,268.0,620.3,646.5,257.9,435.6,973.3,154.8,601.4,149.1,191.4,726.3,446.9,462.0,412.9,155.1,816.5,690.6,751.9,616.5,860.2,234.7,113.4,648.9,369.1,944.6,222.1,696.3,424.0,580.9,274.5,466.9,961.3,478.9,846.5,834.7,81.7,306.8,438.6,959.4,745.5,615.1,381.7,794.7,305.9,209.2,334.6,466.5,934.8,201.3,62.8,810.6,790.4,393.6,609.6,215.3,265.9,450.1,270.7,157.4,351.5,265.2,160.2,242.8,596.1,498.9,996.1,774.2,54.0,524.4,581.6,760.8,758.5,882.1,784.9,492.5,663.5,433.1,370.6,562.2,79.3,347.0,724.2,198.4,558.0,299.0,166.0,184.0,93.4,781.4,624.9,247.2,6.9,658.0,26.4,476.3,555.7,636.9,280.3,902.1,765.5,761.9,523.9,366.1,744.1,790.0,878.1,506.5,993.4,821.4,86.5,226.1,718.4,424.2,350.9,693.4,812.1,306.5,92.3,384.2,84.4,251.4,982.2,585.3,633.3,357.0,469.8,905.6,772.9,558.3,736.9,433.2,298.6,64.7,756.8,296.8,590.6,37.0,481.6,385.8,319.8,218.1,203.9,483.2,142.3,733.5,283.0,251.6,381.7,179.8,637.3,155.0,795.4,149.2,863.4,554.3,639.5,945.5,450.0,139.7,808.9,233.7,406.4,808.4,644.7,37.6,297.2,581.5,54.0,643.5,363.5,126.9,396.5,912.0,451.5,322.3,789.3,36.8,899.0,538.8,50.8,990.6,387.9,617.6,708.7,372.9,532.6,163.4,740.0,122.6,82.6,842.1,369.5,911.7,543.7,731.5,254.8,892.2,524.5,138.5,442.6,844.3,163.5,852.4,112.6,378.8,144.3,913.9,831.4,37.8,301.0,699.8,929.3,482.5,997.8,586.9,930.3,132.2,282.1,163.6,971.4,954.1,640.9,825.4,651.7,146.6,304.4,898.9,646.3,830.8,241.3,132.5,682.7,543.8,377.8,855.1,834.8,977.7,337.8,34.2,842.1,154.8,342.1,111.4,233.4,684.0,852.4,2.7,318.3,349.8,476.6,4.1,620.4,999.9,452.0,94.2,841.1,565.6,888.1,286.7,378.3,758.3,18.3,540.1,960.7,471.5,862.1,427.7,534.5,596.6,787.1,743.0,451.3,223.1,351.0,939.6,90.9,865.2,277.0,763.3,977.3,104.6,460.7,789.7,382.2,743.7,957.9,43.6,153.2,350.1,710.9,344.1,149.8,963.4,594.2,170.6,572.2,625.8,678.6,788.1,474.2,393.5,709.8,386.5,70.3,151.6,106.2,983.6,220.8,592.4,759.1,642.8,793.2,632.1,154.3,67.7,958.1,95.5,505.4,994.9,481.8,444.3,56.8,189.2,940.8,838.3,279.9,819.7,134.9,116.4,596.7,207.8,55.5,91.8,646.5,538.6,957.2,986.5,290.1,713.6,666.1,239.0,589.1,583.7,432.1,455.9,399.9,954.6,803.9,510.8,108.4,562.3,51.2,268.9,96.6,579.4,118.5,294.8,747.5,390.7,2.2,734.4,388.5,452.7,123.3,509.1,73.0,200.0,707.8,469.1,395.5,392.5,166.6,869.5,37.7,27.9,983.6,205.8,459.1,574.3,360.7,173.0,590.4,651.5,139.4,124.6,660.7,526.8,485.2,451.6,127.0,119.2,421.8,783.5,49.5,688.4,134.0,439.5,514.3,13.8,114.9,136.3,814.4,845.2,937.4,993.8,86.7,463.7,734.9,696.6,720.2,983.5,473.9,981.9,581.1,857.0,603.0,973.1,253.4,173.4,64.6,633.4,598.4,854.6,909.6,428.3,831.3,585.8,45.9,938.6,189.7,382.2,717.4,59.4,554.8,145.8,611.0,997.2,359.5,801.5,384.3,993.9,390.2,26.9,251.7,987.3,918.3,466.9,111.3,810.6,868.8,586.5,995.8,367.1,652.7,277.6,283.1,387.3,47.1,247.9,336.9,437.9,387.4,58.0,450.3,26.7,837.3,834.0,358.5,434.2,848.6,214.1,6.1,228.1,607.8,919.9,238.6,780.9,147.5,718.8,930.3,219.5,989.9,131.2,946.3,40.1,909.7,574.6,703.7,271.7,638.1,723.9,954.6,572.9,546.1,839.5,433.0,65.2,204.4,86.4,131.5,499.4,536.5,420.8,294.2,363.4,878.3,408.9,339.8,198.1,76.5,588.3,555.6,773.4,293.5,608.8,903.6,836.7,329.8,742.8,160.6,313.0,712.3,49.0,717.7,973.6,292.8,412.2,523.4,111.5,913.5,801.1,731.1,496.7,263.3,725.4,118.2,276.5,559.0,25.8,611.8,208.7,463.3,759.8,623.2,387.1,150.0,638.6,787.9,268.5,322.0,313.9,449.8,124.9,885.5,769.6,49.7,542.5,769.8,258.5,898.5,160.0,992.0,697.4,242.6,895.4,40.3,307.4,205.8,41.5,961.6,916.2,858.9,950.5,123.7,858.2,379.4,616.6,949.2,126.2,545.5,719.0,912.2,510.8,107.7,643.8,873.2,689.6,649.9,754.2,851.5,986.9,324.0,480.5,327.8,943.0,677.4,152.3,261.8,777.1,464.2,37.9,271.7,656.8,666.2,189.0,471.7,576.7,486.8,437.5,625.9,934.8,372.9,810.9,374.5,200.1,526.1,371.8,356.2,394.9,431.0,461.6,287.8,182.2,70.5,872.7,722.4,12.9,61.2,371.3,122.4,676.9,642.7,411.4,442.2,109.8,696.0,113.5,833.5,280.5,492.3,536.2,24.9,118.5,217.1,284.1,354.1,489.5,654.7,930.2,53.5,592.3,693.6,189.4,212.7,428.7,500.7,914.7,525.9,520.8,48.9,157.3,139.6,943.2,271.8,170.4,4.2,129.7,202.8,437.6,802.6,1.8,359.4,71.5,46.1,735.0,645.1,2.4,262.7,751.2,308.6,965.8,178.2,741.2,496.2,574.1,173.1,749.6,636.4,262.7,571.5,822.9,733.4,397.4,326.6,371.2,546.3,927.7,520.6,633.5,517.8,490.3,298.5,521.2,680.1,977.4,91.1,972.9,599.8,951.0,661.5,506.6,527.8,579.7,414.9,540.7,129.4,996.7,301.2,294.3,829.7,238.4,458.3,932.5,730.9,356.1,308.1,40.4,13.5,354.2,534.7,139.0,149.1,810.5,902.2,908.2,921.6,120.5,955.6,936.1,779.0,651.6,217.5,410.3,585.8,43.2,438.0,856.4,575.5,948.6,311.4,491.1,527.8,393.8,527.6,913.8,215.9,54.8,392.5,25.1,603.0,406.7,640.4,612.2,725.4,555.1,265.3,774.3,100.0,34.6,127.6,368.0,17.3,938.6,265.1,434.9,832.7,544.3,413.0,941.7,946.9,806.9,496.0,296.8,699.2,118.0,552.4,947.3,651.8,582.2,627.6,901.6,962.5,437.7,28.6,513.4,751.8,320.8,344.5,858.2,155.7,823.5,23.9,304.6,527.2,648.5,753.0,720.1,303.8,262.5,403.0,391.3,919.1,107.1,618.0,32.1,225.9,585.8,72.3,957.5,365.8,894.3,521.2,965.3,371.8,677.2,722.0,878.9,849.0,103.0,811.2,545.4,740.4,965.0,814.2,142.6,313.3,462.9,341.5,820.4,883.6,952.8,125.4,282.8,827.5,144.4,753.0,519.9,145.2,607.1,40.9,11.9,227.5,982.6,814.9,554.0,61.9,503.1,50.3,762.9,152.7,995.4,501.7,669.8,790.9,742.2,326.4,968.4,932.8,684.2,187.0,202.4,567.9,445.1,380.7,605.6,543.3,887.5,759.7,215.9,387.6,168.2,96.6,392.7,329.5,820.8,767.3,565.6,419.1,149.4,671.6,150.9,98.9,965.6,713.6,131.3,242.9,409.2,377.9,333.9,8.8,847.0,44.9,67.8,202.8,453.1,607.1,609.3,270.5,891.4,527.2,340.9,116.0,276.4,235.1,305.2,829.5,287.6,539.2,393.8,705.3,500.8,300.0,62.6,632.0,920.7,361.1,420.0,109.3,735.3,59.0,925.6,477.2,409.9,420.6,11.8,578.0,597.8,884.0,650.2,298.9,387.8,395.3,21.6,60.0,461.2,703.8,525.5,643.3,554.1,426.7,405.6,891.9,588.6,484.5,757.9,910.9,561.9,11.3,652.2,483.9,519.4,720.0,799.3,151.4,920.5,980.9,310.0,133.2,504.6,56.0,890.8,369.1,191.9,928.2,36.7,245.7,864.3,628.5,6.5,37.5,322.0,390.5,944.0,373.0,793.6,315.5,699.6,793.6,513.9,150.9,974.2,524.9,478.1,914.8,264.8,209.0,20.9,692.6,490.1,859.5,328.1,547.2,783.6,112.2,534.9,37.1,545.1,839.4,948.2,338.1,19.2,825.3,231.1,709.8,193.2,86.9,330.9,638.6,267.1,601.1,732.9,467.3,750.6,346.8,368.8,834.4,19.3,211.1,771.6,283.3,23.8,23.8,611.4,278.2,426.3,180.8,24.4,608.3,700.1,535.5,56.9,160.8,996.8,747.5,845.8,211.3,10.2,446.4,511.9,746.8,610.7,990.9,961.5,77.5,194.2,396.9,230.1,952.8,937.5,523.3,954.5,845.2,609.2,776.5,608.5,541.9,649.6,696.8,894.9,290.8,179.0,694.2,425.5,655.7,934.6,541.9,990.1,25.2,207.9,966.0,755.1,483.6,676.8,390.3,553.6,550.4,367.9,374.2,944.6,330.3,225.9,278.5,811.7,642.3,488.1,455.5,457.9,932.8,565.1,84.6,785.6,897.4,859.7,921.2,482.3,786.5,899.9,56.4,220.8,642.1,981.5,994.9,280.2,846.0,356.2,711.3,478.0,703.0,980.4,200.7,609.6,517.6,216.3,498.7,407.0,250.2,214.2,972.4,284.6,330.7,55.7,569.9,255.2,461.9,242.3,277.9,926.8,651.9,76.3,57.5,263.9,984.8,982.0,645.4,361.5,313.1,940.9,223.8,361.2,33.7,568.4,802.2,21.8,673.8,102.5,503.2,533.4,365.1,384.9,480.7,536.0,80.2,294.0,985.4,110.3,976.6,90.9,61.5,96.4,381.9,526.6,781.4,43.0,63.1,934.1,768.8,284.5,38.7,497.7,148.6,695.5,486.7,533.9,968.0,821.3,205.7,491.3,76.3,690.2,352.3,270.4,565.5,125.1,220.0,12.7,248.8,620.7,991.9,368.7,769.2,857.8,146.2,814.9,418.0,427.4,314.4,518.8,588.1,541.6,595.7,55.6,238.3,723.7,867.8,669.6,916.5,534.6,175.6,182.4,388.9,406.2,742.5,131.6,712.6,375.3,44.3,305.9,320.7,67.7,244.2,415.1,633.4,370.7,966.0,851.4,597.3,325.2,467.2,645.2,500.1,510.4,738.9,298.6,111.6,861.7,868.8,219.1,447.8,518.2,176.5,986.1,613.4,800.0,659.0,760.1,844.2,750.4,915.1,450.2,10.2,663.0,395.6,137.7,702.8,358.9,806.4,271.6,53.2,34.2,292.8,377.6,244.0,759.7,714.9,804.3,633.2,192.6,440.9,670.4,51.0,13.3,762.3,554.1,877.2,844.5,388.8,83.4,951.3,337.0,668.8,70.5,365.5,349.4,740.5,50.0,479.1,760.6,43.6,625.8,995.0,856.6,787.4,615.4,951.0,392.6,748.8,352.5,948.6,107.4,343.9,79.9,338.7,958.4,81.6,682.2,581.0,291.8,696.3,110.6,902.2,189.4,754.2,399.4,724.2,660.9,884.0,763.4,831.0,306.8,776.7,487.6,207.1,867.4,127.9,383.7,55.0,641.9,269.0,871.8,39.2,57.9,884.2,585.1,26.1,807.7,203.4,712.8,934.2,140.6,323.7,795.5,935.7,91.4,295.4,412.1,879.6,184.2,44.3,637.1,804.6,490.3,157.0,247.5,303.5,92.6,835.7,743.2,28.0,449.4,42.4,836.8,934.9,872.5,763.4,599.9,684.2,246.1,639.4,137.4,855.5,488.0,96.9,692.0,246.5,63.4,765.5,477.3,344.8,17.8,771.5,673.2,30.1,51.7,613.3,917.1,522.5,152.8,162.5,517.6,46.4,397.9,724.4,366.5,601.3,277.4,377.9,489.5,432.3,522.6,657.5,772.3,676.5,828.3,435.1,40.0,650.3,827.0,110.8,912.3,155.0,979.8,881.5,70.6,497.4,678.0,452.9,747.2,264.8,10.3,121.2,798.8,314.3,560.4,42.7,63.7,43.2,606.0,908.6,582.0,301.6,206.8,243.9,554.9,487.1,493.9,101.4,656.7,87.3,194.0,556.6,636.8,680.9,577.7,412.2,806.1,132.3,720.4,503.3,804.8,891.9,249.0,853.0,26.9,777.0,497.7,170.4,728.6,194.2,340.7,420.2,920.9,261.5,582.0,960.2,611.5,913.8,489.8,996.1,922.2,249.9,93.9,417.9,450.0,821.8,348.3,456.8,862.3,418.4,305.1,882.1,962.0,285.5,251.2,529.9,307.3,664.5,895.4,370.4,175.3,359.9,622.3,475.9,571.9,592.6,113.8,440.7,185.8,160.6,181.1,955.0,167.6,321.4,164.9,620.7,632.5,700.1,64.2,595.9,350.7,22.5,189.6,294.7,478.6,981.6,458.6,42.5,34.8,28.4,871.9,253.8,613.3,414.4,561.7,375.0,356.9,682.3,228.4,253.4,729.0,693.5,414.8,599.8,383.0,101.4,79.8,794.0,585.6,46.2,253.2,706.8,587.4,552.3,947.0,924.0,408.6,668.9,316.8,835.6,662.0,234.8,324.6,396.5,565.1,466.3,701.7,422.3,351.3,265.0,980.7,605.4,616.7,319.2,419.9,17.9,669.7,12.0,481.9,608.6,615.6,538.7,863.6,582.0,123.4,890.8,449.5,175.8,549.9,526.3,383.2,298.3,290.6,308.9,694.3,915.6,91.1,486.3,749.4,323.3,16.6,291.8,152.0,421.5,521.6,196.6,769.6,335.3,171.6,359.2,496.9,248.4,149.9,629.2,810.8,113.1,785.6,807.8,136.4,394.7,573.1,48.9,235.1,288.3,842.0,895.3,410.0,768.4,443.1,817.0,482.4,191.7,220.4,220.5,876.3,203.9,463.4,639.4,799.7,614.8,940.5,565.2,593.2,136.4,765.4,398.2,179.0,348.1,670.3,491.6,474.1,794.8,40.0,954.6,700.2,671.8,387.8,76.6,22.3,754.1,930.3,446.9,493.7,364.7,888.3,109.6,877.6,785.1,943.6,627.1,854.8,286.1,700.5,747.5,525.4,802.3,133.3,453.2,627.2,527.9,410.4,558.8,376.6,681.3,982.9,160.9,914.4,681.1,783.4,327.0,100.6,900.5,378.7,373.0,723.2,611.8,974.5,3.9,358.6,142.1,45.0,703.7,19.6,627.8,270.8,38.9,719.0,551.9,721.8,792.3,156.6,150.5,134.9,511.5,519.8,829.7,824.6,820.2,4.5,659.6,173.1,899.6,675.6,471.7,886.2,481.9,160.6,70.2,792.7,537.8,652.5,263.4,689.9,110.4,280.4,721.1,962.4,460.4,223.4,828.5,746.9,679.9,422.6,420.9,706.1,699.1,935.8,202.6,790.2,461.6,579.7,370.2,483.9,106.1,724.2,400.6,451.0,201.6,50.5,576.2,933.5,946.2,850.2,571.0,503.8,911.8,815.1,331.1,805.0,417.6,715.1,535.6,487.9,912.0,409.2,742.3,916.9,512.7,462.9,672.3,45.8,793.1,957.8,597.9,713.8,622.8,780.4,807.3,677.1,974.9,221.5,894.9,310.1,659.7,923.7,167.5,92.1,889.6,845.8,219.3,262.0,753.8,899.2,122.5,357.1,573.4,310.1,559.5,374.9,305.8,237.2,740.4,757.6,575.6,531.4,111.7,402.3,792.4,344.8,254.3,841.0,690.4,853.9,720.8,167.3,390.6,829.4,916.4,190.2,776.3,924.7,276.6,366.6,627.5,715.7,689.6,619.5,283.6,949.7,470.1,458.8,835.9,308.0,114.5,195.8,247.3,863.8,136.1,939.2,772.5,182.7,469.1,818.5,32.3,363.5,854.4,61.5,475.7,516.2,807.1,78.7,943.9,456.7,238.0,912.9,401.6,204.4,850.2,755.8,124.6,844.2,555.6,694.8,621.1,880.0,685.8,597.6,647.6,272.3,505.7,668.0,1.8,517.2,870.0,52.4,106.4,990.0,97.5,175.8,908.6,353.7,959.8,432.9,701.8,224.3,573.6,775.8,726.6,171.4,627.8,202.1,490.7,451.7,515.6,747.3,296.1,745.7,50.8,25.6,219.4,634.6,703.6,247.5,539.2,9.8,464.9,284.2,809.6,916.0,161.1,473.1,534.2,742.8,203.3,319.2,105.6,970.0,590.8,609.6,186.2,155.7,413.7,878.9,450.7,6.1,470.0,539.4,94.1,878.2,86.8,821.2,638.7,219.6,717.4,70.9,287.8,378.4,593.9,251.2,559.1,684.8,407.2,976.6,197.0,634.8,574.8,636.0,766.2,443.7,942.4,458.5,163.5,987.9,76.5,513.9,368.0,272.8,126.9,206.2,467.1,228.4,862.3,687.5,345.4,785.0,722.1,730.2,889.5,182.9,186.6,981.6,935.3,687.1,926.4,714.4,468.1,668.9,649.0,528.3,15.8,790.7,755.0,19.8,797.3,887.0,307.1,5.6,225.0,264.2,331.8,618.3,144.8,621.3,11.7,815.8,775.1,553.9,366.5,675.8,593.7,988.5,687.5,765.1,69.0,260.5,693.1,206.6,333.4,107.2,253.8,18.5,575.5,934.8,666.3,622.9,373.5,787.5,874.5,153.2,537.3,858.1,288.1,38.3,397.5,55.3,258.8,504.1,268.3,910.1,692.6,290.2,601.6,557.3,666.5,66.5,148.3,28.6,543.4,714.9,44.7,427.5,470.6,183.0,505.1,968.5,885.1,445.7,717.6,962.1,230.4,87.4,737.6,667.3,194.6,106.5,704.3,949.4,849.1,432.7,197.8,30.9,638.4,352.1,654.7,539.8,975.8,698.6,416.8,244.4,288.8,323.2,546.7,609.6,298.0,415.2,982.7,75.8,907.4,212.6,867.5,510.7,783.6,943.4,682.7,265.1,417.5,180.0,977.2,250.3,946.7,704.2,764.6,689.9,612.8,606.6,12.7,61.4,260.1,995.5,58.0,789.7,592.6,722.7,708.1,430.6,915.9,777.6,360.3,596.5,117.3,132.7,957.7,298.0,380.0,373.8,401.7,803.5,554.6,193.9,848.8,271.5,898.3,555.7,414.0,462.6,118.1,319.3,176.8,777.1,34.9,768.3,564.2,892.2,643.5,686.5,962.4,964.0,88.1,679.8,693.9,687.7,664.9,407.1,781.3,884.9,303.8,29.5,777.1,442.8,182.9,646.4,166.2,373.5,405.5,142.7,880.7,759.7,834.2,467.8,127.2,556.5,604.8,482.7,436.8,785.9,924.6,859.4,559.8,449.1,552.5,522.3,745.0,891.4,222.6,678.7,186.9,702.0,972.2,959.0,147.3,566.8,974.3,292.5,671.3,34.5,93.2,703.0,611.6,319.2,778.4,285.8,121.8,706.1,200.6,148.2,537.2,955.2,600.6,683.2,943.3,470.7,259.9,22.9,291.8,858.8,474.8,596.5,253.4,61.5,39.4,238.2,321.0,899.5,766.2,190.0,746.9,843.4,492.0,836.2,378.2,732.8,284.0,6.4,276.9,345.5,217.2,745.8,713.6,536.2,731.6,173.3,848.1,738.9,99.0,391.6,403.0,2.1,431.7,69.2,331.9,609.6,103.2,658.0,142.5,564.6,396.3,864.9,453.3,150.8,342.7,104.7,245.5,522.2,226.5,529.2,434.8,848.6,895.3,388.2,441.8,958.0,215.8,515.0,171.3,783.7,123.5,491.9,739.6,187.2,346.1,878.6,502.3,157.0,388.9,195.3,676.2,995.2,224.5,911.2,615.5,484.2,364.0,424.3,213.1,546.5,670.9,373.0,798.3,87.0,368.6,393.0,604.1,869.4,290.0,458.7,217.7,739.8,136.9,359.2,106.1,997.4,378.0,405.9,164.4,814.6,24.4,769.0,57.1,541.3,140.4,984.2,365.8,309.8,514.4,575.6,114.0,323.3,355.2,656.4,625.3,587.6,568.9,675.6,396.2,346.7,953.7,613.6,932.4,353.6,770.4,286.6,45.6,73.3,666.9,871.4,338.2,496.1,884.8,119.4,799.4,267.6,438.1,201.5,290.4,241.7,928.4,963.2,500.5,595.4,822.5,279.8,606.1,851.1,480.2,843.5,440.5,986.0,612.3,516.0,714.6,174.2,668.0,582.1,51.5,354.5,182.5,246.9,719.7,591.7,140.7,399.4,98.1,559.7,716.0,432.0,120.6,721.1,792.1,223.1,848.5,377.5,33.6,905.8,229.0,488.0,191.3,285.2,910.7,937.6,646.9,879.4,326.0,681.4,32.3,576.3,964.5,869.0,143.0,220.1,643.5,95.8,902.7,603.3,762.5,531.4,814.8,405.7,979.0,9.8,452.6,21.6,861.1,444.1,57.0,694.1,683.4,575.0,272.6,365.0,236.3,153.5,796.4,324.5,740.4,202.6,185.5,141.0,891.8,433.7,706.5,767.0,753.1,239.7,739.0,126.8,114.5,945.4,41.2,979.4,757.7,118.2,169.7,894.2,912.7,629.9,776.0,508.8,323.3,333.2,640.2,47.0,869.7,377.4,724.1,687.6,37.7,70.1,743.0,867.4,537.0,903.6,766.4,382.0,878.3,989.1,516.2,848.0,607.4,653.1,710.8,54.1,24.6,650.0,731.9,600.9,363.3,899.4,888.4,412.3,759.3,423.6,792.6,927.9,694.9,893.8,410.9,907.3,229.3,680.4,551.7,32.6,193.7,209.0,817.7,159.9,298.4,895.9,880.5,703.8,819.3,451.5,367.2,742.2,441.8,952.6,677.7,117.2,228.2,809.3,281.0,643.4,367.9,494.8,79.0,217.0,862.6,972.4,363.8,392.0,174.8,514.2,721.7,276.8,557.1,572.9,65.0,67.5,831.0,174.9,337.5,330.7,681.6,84.8,607.4,628.2,782.0,296.1,133.9,112.9,54.0,838.5,327.4,16.5,759.9,751.6,627.0,260.6,444.3,344.3,627.0,773.4,238.8,915.0,217.0,364.2,572.1,369.6,691.8,410.7,244.8,587.7,365.5,865.0,842.3,492.4,616.1,695.5,892.1,847.6,392.6,65.9,270.8,317.4,184.5,471.5,244.1,449.4,451.6,168.5,204.0,354.2,559.9,745.1,924.0,727.3,925.8,361.0,809.1,157.9,210.5,870.1,617.5,546.0,841.3,657.3,671.4,395.8,151.9,343.2,840.7,720.8,439.9,174.4,112.8,526.7,2.2,971.3,484.8,244.7,873.1,217.7,491.9,607.1,710.3,673.4,256.7,336.2,217.8,115.0,25.4,289.3,217.1,708.1,342.3,374.8,920.9,18.0,998.6,763.5,597.6,792.6,203.4,473.3,64.7,819.5,903.7,192.1,920.8,654.6,448.7,516.0,527.1,389.6,392.2,834.5,136.5,488.3,699.7,267.8,71.2,644.4,626.4,746.1,455.7,27.0,652.6,181.0,297.9,118.7,324.2,540.0,94.6,775.0,680.2,236.9,143.6,697.6,355.4,361.4,954.9,350.8,690.4,870.2,429.6,807.5,68.2,90.8,912.8,776.9,954.3,361.4,984.5,987.7,119.3,576.1,907.5,402.2,786.0,117.9,782.3,681.4,474.5,73.4,558.3,475.8,279.8,93.9,68.6,782.2,4.0,389.0,908.3,586.5,94.8,609.0,664.4,309.0,387.9,421.7,795.1,494.7,130.5,466.0,744.9,173.1,905.6,627.9,12.4,83.6,439.9,785.2,441.4,341.4,132.5,372.5,851.5,118.5,689.4,539.9,46.8,419.4,965.2,486.8,838.8,533.8,850.6,200.4,956.3,649.2,357.2,605.1,98.5,138.8,32.9,701.9,527.6,35.0,54.1,744.2,695.8,368.9,930.8,577.7,217.4,480.2,693.6,694.7,121.3,270.9,131.2,537.0,698.3,914.7,28.9,896.1,852.4,220.0,933.1,282.1,140.5,925.8,68.9,887.4,602.6,854.1,702.0,723.9,638.2,453.8,228.9,781.2,681.0,359.3,537.0,802.1,578.0,130.1,7.1,936.7,600.4,301.4,757.4,346.1,415.6,749.3,282.2,807.4,262.3,672.1,394.4,469.4,603.8,175.2,285.4,410.6,379.9,77.1,682.1,64.5,819.3,14.2,642.7,58.7,614.3,543.9,604.7,784.0,936.1,888.7,357.6,593.1,392.4,565.3,673.1,108.2,278.9,461.2,467.1,969.5,749.5,128.1,379.2,797.2,976.8,437.7,98.0,444.3,48.3,901.1,364.9,229.9,10.0,275.3,57.5,882.9,544.4,328.5,936.6,819.5,741.9,513.3,567.7,192.8,154.5,8.5,366.4,295.0,645.6,108.8,347.8,179.5,871.8,569.0,172.4,336.0,932.7,211.5,344.2,762.5,998.5,844.9,897.1,658.7,882.2,173.3,550.4,693.7,911.9,372.1,3.7,196.2,76.0,787.8,388.7,89.4,538.2,671.7,194.3,522.5,675.0,173.7,215.0,75.4,593.2,937.3,379.1,548.1,639.2,776.3,976.2,324.2,110.7,647.0,156.4,925.5,192.1,634.0,462.7,367.5,241.8,652.0,298.2,322.2,537.0,684.9,681.5,664.3,10.8,813.4,191.9,777.9,891.9,561.8,397.6,27.0,786.4,383.9,663.9,353.0,136.7,47.6,542.4,807.9,915.7,873.1,155.8,624.3,355.7,292.6,638.0,85.8,652.5,415.8,556.7,257.6,57.1,27.9,964.8,860.9,107.2,190.7,124.1,271.6,221.8,104.0,938.2,232.8,345.2,257.3,771.1,940.6,387.9,542.7,13.2,110.5,715.2,163.8,662.6,984.4,891.4,807.0,378.1,345.2,318.0,525.5,624.0,771.1,349.4,667.5,617.8,378.9,691.5,882.9,142.0,711.9,42.5,324.8,173.2,879.9,869.6,309.1,205.2,154.9,567.4,277.5,679.1,489.0,782.4,206.4,89.3,498.7,670.5,768.0,812.5,623.5,220.0,582.5,189.0,505.4,542.9,912.6,128.4,984.8,966.9,913.5,863.4,950.6,866.1,988.2,223.6,336.9,537.8,169.9,696.1,619.3,970.1,280.7,174.7,169.1,221.0,686.6,376.0,127.7,435.3,460.1,780.9,111.6,247.5,550.0,543.5,309.3,166.2,492.1,193.7,580.4,589.6,292.3,640.8,848.3,859.9,952.7,819.6,670.6,611.3,645.4,392.5,858.4,894.2,949.6,991.7,923.3,806.5,932.9,612.0,659.8,649.2,217.8,294.4,550.2,293.4,965.3,529.3,437.7,587.3,49.3,9.7,751.6,22.7,809.8,259.2,730.9,443.8,719.9,474.8,225.5,128.4,726.1,157.1,66.8,560.3,808.1,429.4,87.0,143.1,218.4,352.8,424.5,855.3,45.3,32.4,218.9,276.0,256.9,116.8,358.2,649.2,781.1,139.4,832.4,474.8,375.3,733.7,817.3,726.2,238.0,240.1,11.9,527.3,839.3,809.2,333.4,929.4,371.4,333.8,191.8,80.4,933.9,653.0,618.8,995.4,996.9,600.6,933.4,261.0,238.2,859.2,883.4,422.2,48.8,416.5,788.5,960.7,468.3,160.4,162.9,727.0,176.9,326.3,19.8,849.3,820.4,567.9,406.4,783.9,815.4,391.5,151.3,720.0,770.2,363.0,305.9,130.7,623.9,951.2,631.7,200.0,455.0,510.7,652.6,812.9,331.4,352.8,469.7,82.2,602.2,689.8,751.2,943.1,923.2,296.2,683.3,385.6,64.5,721.0,383.6,913.7,276.5,444.8,956.0,817.0,559.9,402.7,128.2,607.7,828.5,998.0,672.5,132.5,995.7,751.3,847.7,936.6,6.0,19.4,957.0,926.1,757.3,158.4,926.7,756.6,594.3,30.9,665.7,341.5,613.9,76.9,847.2,384.5,215.7,96.6,945.0,430.6,668.4,505.0,662.4,549.6,201.5,293.7,487.0,480.5,98.5,873.9,949.8,431.7,4.5,266.3,927.8,982.7,12.1,945.0,688.5,450.1,52.9,89.2,339.6,834.0,445.6,98.4,357.2,232.0,927.7,163.5,643.4,850.2,626.1,230.2,719.4,707.8,571.4,369.8,712.9,550.6,931.5,629.8,24.6,784.5,115.4,757.8,90.8,116.1,38.6,70.4,53.5,590.1,907.5,761.5,913.5,641.8,402.7,128.7,593.1,850.0,728.3,379.5,405.4,879.2,166.3,179.8,687.4,762.5,110.8,566.9,737.5,961.9,586.9,135.0,181.0,747.9,431.9,856.3,168.2,253.8,419.3,640.0,952.3,475.1,74.2,222.2,386.1,290.1,836.8,517.0,786.3,531.9,447.9,179.2,171.0,343.5,222.7,151.2,56.8,940.6,890.6,349.5,184.7,146.0,190.7,428.4,500.7,693.5,950.6,339.3,161.9,596.6,621.0,895.4,213.9,662.5,62.6,932.5,517.4,795.9,949.2,935.4,169.6,125.3,265.3,469.2,336.5,373.8,524.7,446.1,374.2,4.6,742.9,909.7,993.1,292.3,773.9,775.1,831.0,417.1,279.4,779.9,288.6,880.4,495.2,13.7,309.0,934.7,395.7,144.9,401.8,397.7,500.5,128.1,176.8,631.2,479.5,616.7,366.3,491.5,562.9,429.7,917.1,318.8,677.6,300.3,529.3,70.0,888.3,176.9,221.8,901.6,825.9,773.1,566.6,98.7,432.9,487.5,564.3,910.2,4.5,240.6,563.9,205.8,117.6,122.5,922.3,275.1,529.4,93.1,928.7,963.7,936.0,236.7,826.7,270.5,867.1,347.4,913.9,960.2,887.1,405.4,602.2,121.9,586.0,541.2,918.7,456.5,657.3,561.0,426.5,869.1,179.6,383.0,109.3,592.9,87.7,895.7,731.1,766.7,405.5,8.3,780.4,418.8,315.9,51.7,26.1,640.5,126.1,455.0,377.2,897.0,883.8,17.2,555.6,933.7,735.2,464.4,780.1,873.8,701.8,103.6,307.7,642.8,463.2,466.7,829.6,852.8,43.6,661.7,210.4,191.4,319.4,132.9,457.8,988.5,218.4,205.4,902.7,616.2,416.8,755.3,500.4,153.7,248.1,267.0,529.8,252.3,112.3,697.9,968.3,460.7,464.5,701.7,449.5,986.7,194.6,555.7,108.8,343.7,878.9,521.6,649.4,249.6,650.8,775.3,140.8,375.8,177.4,564.5,490.0,855.9,435.1,3.4,350.2,889.5,144.4,11.2,25.9,421.7,447.1,221.2,24.9,140.5,115.6,424.4,861.6,322.0,68.1,944.4,714.1,817.1,676.4,545.2,576.8,845.3,551.1,249.3,199.0,98.5,184.0,743.2,781.1,567.2,187.0,595.0,749.1,688.0,367.7,272.2,787.0,423.5,23.3,556.5,971.7,779.6,260.6,138.5,614.7,791.4,632.6,663.3,151.4,273.8,152.4,775.1,330.4,593.0,312.7,31.1,788.4,487.4,983.1,144.6,479.1,542.3,601.6,668.1,424.3,818.3,839.5,499.7,883.4,901.6,833.0,768.1,879.3,891.2,363.7,308.1,832.3,636.5,442.0,895.5,184.0,666.5,920.5,957.0,659.0,867.3,125.5,109.2,666.1,734.2,321.2,23.7,92.7,896.5,538.5,816.1,142.1,744.9,427.2,902.7,268.2,323.2,280.4,14.2,183.1,724.7,311.1,607.6,987.7,82.8,28.2,487.1,562.8,143.9,772.8,166.5,519.9,741.0,137.0,469.5,484.1,762.2,192.7,556.1,219.3,648.6,579.0,491.4,753.8,757.3,863.1,579.1,363.5,636.3,726.2,289.3,480.3,534.3,625.6,51.2,362.1,45.7,919.0,935.6,197.6,251.4,930.0,971.0,532.1,390.6,230.0],\"type\":\"box\",\"xaxis\":\"x2\",\"yaxis\":\"y2\"},{\"name\":\"Rate\",\"y\":[8.8,6.2,6.9,9.4,2.5,1.4,2.9,4.2,4.3,6.0,7.8,3.2,9.2,2.1,8.5,9.0,6.2,5.2,9.6,1.7,3.7,9.5,3.7,1.9,7.3,7.6,2.2,8.0,2.9,7.7,8.6,8.7,3.4,3.4,1.6,2.5,1.7,5.6,8.0,5.9,8.7,3.0,4.4,4.5,3.7,8.0,2.5,9.0,2.9,4.1,9.4,7.8,3.4,6.7,7.2,1.1,1.8,8.4,7.8,3.9,1.2,1.9,6.6,2.5,2.3,6.0,9.3,4.0,6.5,9.0,2.6,8.5,5.9,1.1,5.7,2.8,2.4,8.4,6.3,2.7,2.3,9.5,8.7,9.6,9.3,5.5,4.1,1.9,5.3,3.2,8.4,2.4,9.9,2.5,4.4,2.7,5.5,4.7,1.7,3.5,9.9,1.9,8.0,4.2,4.3,5.4,9.3,2.2,2.8,6.0,4.1,2.0,6.5,8.4,7.9,6.1,6.3,9.2,3.5,1.4,3.1,2.0,9.6,7.4,1.3,7.1,3.2,4.9,6.9,7.8,6.8,3.1,8.0,9.7,8.3,4.4,6.6,4.2,6.1,1.6,2.8,6.3,9.9,8.0,4.0,3.2,6.9,6.1,3.5,3.5,1.7,3.1,6.4,3.6,7.2,3.1,6.9,2.4,4.0,5.6,5.0,1.5,3.7,6.2,3.4,9.3,1.9,1.2,6.6,1.2,7.8,5.0,4.7,6.4,3.4,7.0,5.4,9.6,3.9,5.4,4.1,5.3,9.7,5.3,9.1,6.1,8.3,4.5,3.1,3.5,7.8,1.2,4.1,2.9,2.4,2.9,9.8,9.6,3.1,5.1,7.0,7.9,4.9,4.7,5.8,6.6,5.8,7.3,9.8,9.9,7.4,2.8,8.1,2.5,6.8,2.1,6.5,8.0,8.2,5.2,6.9,5.6,2.5,2.9,6.1,5.7,4.6,3.9,7.9,6.1,2.4,7.8,2.2,9.9,5.7,1.8,4.0,6.7,1.1,8.4,4.5,8.1,2.4,8.1,5.9,3.6,8.8,10.0,8.3,5.4,8.6,1.5,8.0,2.3,6.3,8.7,8.9,4.8,6.3,9.3,2.0,2.5,2.9,8.7,5.8,3.4,9.7,1.9,2.2,9.8,4.2,3.0,6.9,1.0,10.0,5.4,9.4,8.0,9.6,3.7,7.1,2.9,9.8,2.2,3.8,5.8,9.1,8.7,8.7,1.4,4.3,8.5,6.1,5.5,8.8,6.1,4.0,6.0,3.7,5.1,2.3,8.6,9.4,4.9,6.5,8.6,8.0,6.3,5.9,6.6,7.4,9.6,7.5,4.6,1.4,10.0,5.7,4.6,6.6,3.2,5.3,1.2,3.0,7.0,8.7,4.1,2.9,7.6,6.9,5.9,9.1,9.1,2.5,3.8,9.1,9.5,8.3,9.2,9.3,5.7,8.9,8.4,4.0,2.5,4.0,2.8,2.4,8.7,3.0,8.7,4.4,9.1,8.5,8.1,5.0,6.4,3.3,7.8,6.5,7.6,1.3,4.2,3.9,8.4,3.0,1.3,8.6,3.9,9.5,7.4,9.6,8.1,8.6,4.5,9.1,1.7,1.4,3.5,8.6,6.8,8.9,6.4,1.4,3.0,5.3,5.3,6.1,9.7,8.9,2.8,7.9,5.0,4.0,9.7,1.5,4.9,4.8,7.4,4.9,7.3,7.0,2.8,3.2,4.2,3.9,3.2,5.6,7.4,4.2,2.0,9.6,9.0,2.2,3.0,3.7,3.1,1.3,1.9,2.0,2.1,3.5,9.2,6.3,8.1,2.5,7.5,7.7,4.0,5.2,4.7,4.6,8.4,3.8,1.9,7.7,10.0,6.8,7.2,8.9,5.5,5.0,7.0,8.3,2.2,4.0,3.9,4.0,8.9,2.7,2.5,4.9,1.2,4.7,7.3,9.6,8.6,9.3,3.1,2.6,1.1,3.0,1.4,5.2,6.1,5.8,4.6,7.1,3.9,4.7,2.0,8.4,7.6,1.5,8.9,3.9,9.4,1.3,8.0,9.6,9.5,5.0,2.5,6.4,6.6,7.6,5.5,4.5,3.2,9.9,5.3,1.0,7.6,1.5,7.6,2.5,8.1,4.8,3.2,2.2,6.4,1.1,4.4,9.5,2.5,4.5,5.4,3.9,8.9,4.7,3.6,5.0,5.8,3.4,4.3,1.6,7.1,3.7,4.1,6.6,2.7,1.3,9.9,7.1,7.5,3.1,3.0,6.7,8.3,2.9,1.2,5.5,9.9,3.8,9.8,7.5,4.7,5.0,1.2,8.9,8.1,2.5,9.2,9.0,8.7,7.9,4.2,6.0,7.9,3.6,1.8,5.3,1.5,9.4,6.7,6.0,5.5,8.4,3.1,9.7,7.0,2.0,1.0,1.3,1.8,9.9,9.4,7.5,8.5,9.9,3.3,9.4,9.4,1.7,5.8,7.7,1.7,3.2,5.2,1.6,8.4,1.1,6.6,2.4,5.6,1.8,6.7,6.7,5.5,1.0,5.4,2.8,4.0,6.1,7.1,8.0,8.5,1.7,6.8,2.0,9.0,2.9,4.1,1.8,2.7,5.4,1.1,9.1,1.9,4.0,6.4,9.0,7.9,8.9,2.5,8.2,4.7,4.2,5.3,4.6,3.3,8.0,8.0,8.9,6.0,9.9,3.4,2.7,8.1,8.9,6.7,3.6,4.9,9.9,5.0,4.0,9.7,5.5,2.5,7.8,9.6,5.4,6.1,5.7,2.9,8.8,7.0,2.7,9.4,8.7,2.6,5.7,4.2,9.5,4.5,4.6,5.7,7.7,2.8,4.8,5.2,7.4,2.4,2.5,9.6,2.6,8.5,7.0,1.9,5.0,6.4,5.7,6.4,4.5,4.4,8.3,2.2,2.1,7.2,2.4,3.0,1.6,8.5,2.3,4.3,3.2,8.2,7.0,8.3,2.8,9.7,3.2,7.8,2.6,9.6,5.9,3.1,4.8,4.4,8.3,7.4,3.6,8.0,7.2,4.2,1.2,3.1,1.4,6.7,6.9,3.6,1.2,1.6,5.9,1.9,8.0,9.0,4.5,2.7,3.4,1.5,8.1,1.9,3.0,7.3,3.7,9.7,3.6,2.0,9.4,10.0,4.5,2.6,4.9,9.5,1.9,1.1,4.2,8.1,8.9,6.9,7.9,5.9,1.6,6.4,4.3,8.7,7.3,6.2,8.3,3.3,9.4,8.0,3.6,6.4,6.4,3.0,2.4,2.2,1.9,3.1,1.1,9.3,6.5,3.0,2.4,3.4,2.8,9.9,9.5,5.8,3.8,7.9,7.8,5.9,9.3,3.4,5.4,7.6,2.0,6.1,1.8,9.7,1.1,5.1,2.5,7.6,8.5,8.3,4.7,4.0,3.5,4.5,2.3,6.8,8.4,9.3,1.6,9.3,4.0,7.0,2.4,1.3,2.1,2.5,1.9,6.0,3.3,7.9,8.3,7.4,3.6,5.1,2.9,4.1,8.8,9.3,9.1,5.0,2.6,2.2,1.7,9.9,9.2,5.0,4.3,3.2,9.2,4.0,5.1,2.1,9.8,8.3,4.1,3.1,2.0,7.7,7.8,5.2,8.2,3.9,5.7,3.7,3.6,1.5,2.4,9.9,3.2,6.8,8.0,1.1,7.4,6.5,6.1,9.8,1.4,8.3,4.5,5.6,10.0,3.1,5.0,6.7,7.4,9.5,8.0,8.1,1.5,3.5,6.9,3.0,7.0,9.0,6.2,6.7,8.7,3.4,1.5,3.8,4.4,7.4,8.6,7.3,2.8,8.7,8.2,1.1,6.3,6.1,4.9,3.7,1.0,6.0,9.4,4.8,7.4,1.2,6.9,8.2,8.5,7.6,8.6,4.0,8.0,3.5,6.9,2.2,9.1,5.4,4.7,2.4,3.9,4.1,1.8,1.4,5.5,3.8,4.0,4.6,7.3,2.3,2.2,9.6,2.3,6.3,2.6,7.8,7.3,9.8,9.8,6.8,4.8,9.7,6.6,8.9,4.1,1.8,3.7,9.1,9.7,9.1,1.6,1.3,5.6,8.4,6.5,8.1,3.7,9.6,9.9,2.2,7.8,9.6,6.5,8.2,5.2,7.2,1.1,6.4,5.1,8.9,9.2,3.7,6.0,4.1,7.8,4.1,6.3,4.7,7.4,7.8,3.7,4.1,5.5,8.6,4.4,9.1,3.7,2.1,4.4,5.0,2.0,8.0,8.1,9.1,9.5,7.8,6.9,4.4,9.6,9.2,2.6,5.9,7.3,5.4,5.5,4.7,2.7,7.1,7.6,6.3,4.9,3.3,5.1,8.1,3.9,1.4,5.4,9.3,4.2,8.5,3.8,8.6,4.2,8.1,4.7,8.8,5.5,5.6,8.8,7.3,3.4,2.6,1.4,5.9,9.6,2.4,9.8,3.9,8.4,8.0,5.8,2.9,8.3,3.1,4.6,4.6,8.7,8.4,2.8,5.9,4.2,9.5,2.7,8.5,5.0,3.3,6.7,7.1,10.0,8.7,3.0,2.0,1.5,5.3,4.1,3.4,5.1,4.8,7.3,8.0,2.3,9.5,3.0,6.1,5.7,2.7,5.5,6.7,3.3,2.4,7.7,3.6,5.6,1.6,1.2,7.7,2.2,7.8,7.6,4.2,6.7,6.9,5.9,9.6,4.8,1.5,5.6,5.0,9.8,3.2,9.9,5.3,4.3,9.4,3.4,2.8,8.7,9.7,8.8,3.8,4.9,4.0,6.3,8.3,5.7,8.6,2.2,9.6,4.8,6.1,2.7,9.9,8.1,2.0,6.5,9.3,5.4,3.3,6.6,3.8,1.6,1.6,3.8,3.5,8.1,6.2,7.9,1.0,4.8,9.9,6.5,6.1,5.0,5.5,2.0,2.7,1.2,5.7,5.2,2.7,1.4,8.0,2.6,9.2,8.5,10.0,4.2,9.0,5.7,8.0,3.7,3.3,9.8,8.0,5.7,4.8,1.0,1.6,3.9,4.0,2.1,3.3,2.2,7.5,1.8,6.6,1.1,1.3,7.3,5.7,7.2,5.0,3.4,7.8,1.9,3.3,8.0,4.6,4.4,5.6,6.5,9.8,9.4,7.2,7.6,1.1,5.8,1.3,4.6,4.8,1.9,5.0,6.2,2.9,6.6,4.0,9.6,2.2,8.1,9.4,4.2,4.9,4.6,3.1,5.8,5.9,3.0,9.7,7.4,5.5,1.5,9.9,9.7,10.0,9.9,6.4,2.2,6.0,6.1,7.1,9.5,7.8,4.9,1.1,2.5,2.7,9.4,1.8,1.9,7.8,2.5,6.6,4.0,6.5,5.9,5.9,9.6,1.5,9.9,2.6,5.0,9.5,1.7,2.4,9.5,4.3,10.0,2.9,4.2,7.9,6.7,7.2,2.2,4.8,8.7,6.2,9.2,7.4,2.4,1.4,7.4,8.0,3.0,9.6,4.7,2.7,7.7,4.2,9.0,4.7,7.8,8.7,6.8,9.4,5.5,1.5,5.8,2.7,2.2,5.4,6.3,7.0,6.2,4.6,1.7,2.5,9.7,6.1,1.1,7.0,5.8,4.3,6.7,7.8,4.3,5.5,7.7,3.7,4.2,7.1,9.4,5.4,5.8,7.3,7.6,6.6,2.4,7.4,6.8,3.3,3.4,8.4,8.8,3.8,4.2,4.0,6.5,5.4,9.1,7.4,2.6,6.4,1.1,9.9,4.4,6.6,6.6,7.8,1.0,2.3,2.7,2.0,2.4,2.5,2.8,8.0,9.9,2.5,3.6,2.7,7.1,5.3,9.0,1.7,6.5,2.8,6.7,4.0,3.5,1.2,5.1,5.5,7.5,8.4,4.4,4.9,4.5,6.5,9.9,4.8,7.5,7.1,5.8,4.7,7.3,7.5,3.7,7.1,10.0,6.9,7.3,2.0,2.3,8.0,3.5,8.6,6.0,1.9,6.2,6.5,5.6,4.3,7.1,7.3,5.5,4.8,7.0,7.4,8.7,7.6,4.2,3.1,1.7,6.3,9.2,2.1,5.8,5.1,4.2,9.7,6.4,4.2,1.1,4.7,6.3,3.8,5.7,2.4,2.1,9.1,4.9,3.4,2.6,5.5,2.7,2.1,2.1,4.7,8.4,3.6,2.0,5.4,1.9,2.1,4.8,2.6,1.0,7.6,5.1,9.7,5.8,5.2,9.6,7.4,7.7,4.9,5.5,6.5,3.3,3.8,5.1,5.3,4.0,4.6,8.4,3.9,5.2,1.2,3.4,7.9,2.5,3.6,2.3,1.9,9.6,4.3,8.0,2.1,9.4,4.2,2.9,4.4,3.0,3.4,8.0,1.1,5.7,1.8,5.6,8.6,10.0,7.4,3.9,2.0,3.0,8.1,8.4,1.5,3.8,1.4,7.3,8.3,2.7,4.1,3.6,2.9,6.6,9.1,6.1,5.2,2.6,9.4,2.6,5.2,7.7,7.5,3.0,7.1,9.9,4.6,2.1,2.2,8.5,1.6,1.9,3.9,8.1,4.3,5.5,9.0,1.3,9.5,8.3,2.6,9.0,1.2,1.4,8.4,2.9,8.6,1.9,5.4,1.8,8.2,6.3,5.8,8.2,8.8,7.7,6.6,4.2,5.2,2.2,3.5,6.6,2.8,6.3,10.0,7.3,6.6,4.2,9.4,8.9,5.0,3.1,7.4,7.0,3.1,7.6,9.8,5.4,4.2,1.4,4.6,5.7,5.3,2.7,8.2,7.4,8.7,3.7,5.2,7.2,6.6,7.0,7.3,9.0,8.9,6.5,9.0,5.7,6.0,8.8,8.8,2.2,1.6,8.3,3.4,9.8,6.3,5.5,9.8,7.8,1.3,2.9,8.2,6.6,2.5,4.4,2.5,2.2,4.0,8.1,7.3,7.8,4.0,2.1,5.3,8.6,9.8,8.9,3.4,1.4,3.7,3.3,6.4,5.8,3.4,6.0,9.2,3.2,5.7,4.3,2.0,4.7,3.4,3.1,5.3,9.6,8.1,6.9,8.4,6.9,7.4,1.4,7.2,4.4,7.7,9.7,5.0,1.3,6.5,6.0,4.4,9.9,5.3,9.8,3.2,2.0,7.2,1.1,1.4,7.8,3.3,6.0,3.0,9.7,4.0,5.3,1.5,9.4,9.8,7.4,6.8,9.6,9.4,4.5,2.0,5.6,1.1,3.4,3.7,5.0,5.0,6.1,4.9,5.4,3.9,4.3,9.3,4.5,7.4,9.6,6.7,3.5,7.1,3.2,7.3,6.2,6.3,3.6,1.9,1.1,2.0,3.9,9.7,6.5,3.2,4.1,1.2,6.4,2.0,6.9,1.5,6.2,4.5,7.1,4.5,4.5,9.8,6.1,8.7,7.3,6.0,3.4,6.8,5.6,9.6,8.7,5.3,6.6,3.0,3.1,1.1,3.6,10.0,5.4,9.7,3.6,2.2,4.7,3.6,6.3,9.0,4.9,9.4,8.2,3.4,7.0,1.6,8.0,4.6,6.6,3.2,4.2,3.4,4.4,8.3,2.9,2.5,7.0,8.5,5.3,6.3,8.5,7.1,4.8,5.9,3.5,1.5,1.7,4.5,8.7,6.6,8.1,9.6,1.4,8.9,3.0,7.1,9.5,8.1,2.6,4.6,4.9,3.3,4.8,9.7,8.7,6.5,9.6,7.5,9.7,6.9,4.1,4.0,4.4,4.6,9.3,9.1,5.0,9.6,4.6,6.7,8.3,5.6,4.9,9.9,2.6,1.7,8.5,3.9,7.3,5.7,5.3,8.9,1.2,8.6,9.3,6.0,8.5,8.0,7.3,6.5,1.0,9.2,4.2,6.7,6.9,9.5,2.6,6.5,3.3,5.4,5.3,7.8,4.9,6.5,4.2,3.8,3.6,1.8,3.2,5.1,5.6,4.1,4.7,7.9,9.0,5.0,2.5,2.7,8.1,1.7,3.9,3.2,6.0,8.3,6.3,4.6,9.8,1.9,6.8,9.6,1.7,4.1,8.6,2.5,7.9,7.9,1.2,6.0,2.1,5.8,9.7,4.3,9.0,8.5,9.0,1.2,9.4,5.0,1.3,8.2,8.2,8.5,4.9,4.5,2.0,4.4,2.1,9.9,9.9,2.4,2.9,3.9,9.4,6.1,3.7,7.0,1.5,5.0,7.6,6.5,4.9,5.8,8.3,7.7,6.1,6.3,2.2,2.8,3.5,3.1,7.0,3.3,6.1,2.6,7.5,2.6,7.0,2.9,6.6,1.1,8.9,9.8,9.5,1.3,9.9,2.6,9.0,7.9,6.5,5.9,9.8,6.2,1.2,3.1,9.8,6.6,4.8,6.1,8.3,6.9,4.4,4.8,9.1,3.3,3.1,1.2,1.5,4.9,2.3,6.6,5.6,4.7,3.0,2.8,9.7,2.0,10.0,1.9,2.3,4.9,3.2,7.3,9.4,7.1,3.6,1.3,7.0,4.0,2.5,5.1,2.4,9.0,1.1,3.3,4.4,4.0,8.2,1.4,6.0,3.9,8.8,1.9,2.1,5.5,3.8,3.4,2.1,2.3,7.1,4.0,9.8,9.0,8.6,8.7,6.8,5.5,5.9,1.5,3.8,6.8,8.7,4.1,1.5,8.2,1.9,4.7,8.2,2.7,2.9,9.0,9.6,9.3,2.3,2.1,9.8,4.0,1.0,7.9,1.4,4.5,5.5,3.9,8.9,7.8,7.3,1.4,8.5,5.7,9.3,8.3,8.1,8.1,4.6,4.6,9.5,9.3,7.3,6.0,9.7,6.7,10.0,7.5,9.7,10.0,2.6,7.8,8.9,8.1,9.7,2.0,5.5,7.4,9.8,6.9,3.0,2.1,3.8,7.8,1.9,5.0,7.8,2.1,6.4,1.4,1.7,6.0,7.6,2.4,7.2,6.8,1.4,8.9,8.8,3.2,8.2,7.9,9.0,3.2,4.3,7.6,5.5,2.6,2.0,4.6,7.3,9.0,6.8,8.6,2.1,5.2,6.9,9.0,8.7,1.7,2.5,5.1,6.4,5.0,3.1,1.4,10.0,2.0,8.0,6.5,5.9,4.8,3.1,6.8,7.0,3.5,7.0,8.3,5.0,5.5,6.6,2.4,6.8,6.9,6.6,1.1,7.0,9.6,1.3,3.1,5.2,6.4,9.2,2.9,2.7,1.4,4.3,3.5,2.6,8.9,7.9,8.7,3.4,1.9,4.1,8.3,1.2,3.9,8.0,4.4,4.0,8.5,1.3,3.4,1.5,3.7,5.3,1.8,8.7,5.5,9.2,6.8,3.6,5.0,6.5,5.3,6.1,4.0,3.0,1.2,5.7,3.1,2.0,5.0,8.6,4.3,3.4,8.0,8.5,5.1,7.4,6.1,5.5,6.7,7.3,2.7,9.0,5.4,3.7,6.0,3.4,7.3,3.2,8.2,4.0,7.3,3.5,3.3,7.2,5.8,6.4,5.8,8.1,4.7,2.2,1.5,4.2,6.0,3.9,8.6,5.7,1.7,8.3,4.2,2.4,4.1,7.3,3.9,8.7,9.9,3.6,4.7,9.2,3.3,2.1,8.6,4.7,8.6,2.1,4.4,7.7,9.7,8.9,7.3,3.0,5.7,2.5,3.1,2.9,7.7,1.3,7.0,7.7,8.2,8.3,3.5,9.0,1.0,1.0,4.1,9.2,1.6,5.4,5.5,8.3,4.2,3.4,6.1,7.7,4.1,5.8,7.7,2.1,3.6,5.2,1.3,2.3,5.6,9.4,9.2,9.5,1.8,3.6,7.4,7.1,6.3,4.9,1.8,5.2,9.3,8.1,4.0,6.2,7.2,5.3,6.5,8.5,4.5,6.0,9.5,9.2,8.2,9.0,8.5,3.6,3.6,8.2,5.7,6.0,9.2,5.1,1.7,8.2,2.9,5.3,6.4,1.5,6.4,2.1,6.3,5.5,5.9,1.6,2.2,1.7,3.4,6.3,1.3,2.7,7.0,8.8,6.9,5.2,3.9,2.6,4.1,1.2,5.4,6.1,1.2,4.9,9.5,6.2,8.8,5.9,6.9,7.5,3.7,8.6,7.8,8.7,8.9,9.2,7.4,5.5,9.4,8.5,7.4,3.5,2.1,9.6,8.1,8.4,6.4,7.2,6.0,1.4,5.4,9.6,8.4,9.9,5.6,6.2,1.6,9.8,8.7,2.8,1.4,1.4,1.0,1.7,6.3,8.6,1.2,8.8,4.7,5.2,8.5,3.2,7.3,7.3,7.3,3.1,2.7,3.4,5.1,6.2,8.2,9.8,3.2,7.6,6.1,6.5,4.2,1.9,3.2,4.5,4.3,7.2,1.0,6.5,2.2,1.8,5.2,6.5,7.3,1.2,6.9,9.5,6.6,4.5,8.6,8.6,1.1,8.2,5.6,6.2,2.8,2.4,1.1,2.2,3.4,4.9,3.7,4.1,2.2,5.9,4.0,1.4,3.5,5.7,6.3,6.7,4.3,1.5,6.4,9.2,4.7,1.5,4.9,2.2,6.5,6.7,6.9,7.6,8.0,7.3,6.4,4.6,8.6,1.6,9.7,4.3,8.1,5.3,5.2,8.1,2.6,8.6,7.5,5.3,1.9,1.9,6.5,8.1,4.9,1.9,1.9,8.5,2.8,6.2,7.8,4.8,4.7,1.4,3.1,7.3,3.5,8.5,1.6,1.1,4.8,7.4,3.2,6.3,8.7,2.3,1.5,4.2,9.6,5.8,6.9,2.4,5.2,5.6,1.7,8.8,4.1,7.4,9.8,4.6,8.2,4.7,6.8,3.2,6.8,5.7,3.9,7.5,8.5,4.3,1.5,9.8,4.3,8.1,1.5,7.3,7.6,7.0,4.3,2.8,6.8,8.2,3.8,4.1,9.8,5.7,7.0,6.6,2.2,8.8,9.4,9.9,8.9,1.3,8.6,2.0,8.1,4.1,6.7,3.9,4.3,2.9,4.0,4.4,8.7,7.6,7.9,5.9,9.7,2.2,2.0,8.9,8.2,8.7,4.9,8.4,4.5,8.4,2.8,6.5,8.4,5.4,6.7,3.9,9.7,8.1,2.8,2.0,8.5,2.0,3.4,3.5,2.3,6.5,9.1,7.4,5.2,1.9,2.6,4.6,7.9,1.0,5.1,3.6,9.8,2.8,7.1,7.4,4.0,6.3,9.9,1.3,5.7,9.5,6.0,1.4,8.4,5.1,4.0,6.2,4.7,1.4,4.3,1.4,3.5,6.8,8.7,7.7,9.4,1.5,5.7,6.9,1.4,6.5,7.6,2.6,8.0,8.4,4.8,4.4,8.5,6.7,3.5,1.9,2.9,4.1,5.8,1.5,9.9,3.0,7.8,6.6,1.5,8.4,5.3,8.7,5.4,5.8,8.9,9.8,1.8,7.6,6.5,2.3,8.3,9.9,7.7,6.1,1.3,8.2,1.7,1.2,6.0,4.2,7.2,2.5,6.9,4.3,1.8,4.6,5.1,6.4,4.7,6.9,5.8,6.9,8.3,8.4,5.6,2.0,4.9,4.4,1.5,3.0,5.5,6.3,1.2,2.0,1.3,2.3,5.9,8.9,1.6,3.3,6.5,6.1,1.4,1.8,3.6,4.5,7.3,7.8,4.1,4.9,7.7,4.7,9.6,3.0,2.9,3.9,2.4,4.8,1.4,1.9,6.9,2.9,4.0,3.8,5.6,7.6,6.4,1.8,1.6,1.4,4.4,9.0,9.7,8.8,7.0,8.2,1.8,8.1,6.6,3.6,8.1,1.3,8.4,8.3,8.1,2.5,6.0,2.3,1.6,7.2,1.7,2.3,4.5,2.0,9.0,1.5,5.7,7.8,1.3,5.0,3.3,1.0,6.3,4.0,5.1,6.1,5.4,6.0,1.6,8.9,1.0,5.6,6.9,9.9,2.0,5.3,4.2,8.9,3.4,6.2,2.8,3.7,8.1,6.4,9.0,4.7,7.7,4.1,4.8,6.5,1.8,1.9,3.7,6.6,7.8,8.9,2.8,4.4,8.6,6.4,8.8,5.9,10.0,4.2,2.2,9.1,7.0,4.8,9.4,3.1,8.9,6.4,6.0,6.1,9.5,4.8,7.7,9.1,7.3,6.0,8.9,1.5,5.9,3.2,6.1,7.7,6.7,5.6,6.7,1.1,2.3,6.8,6.9,3.7,4.6,1.3,8.8,9.3,3.3,7.0,8.0,6.6,5.9,7.5,3.9,2.4,4.1,4.8,6.0,3.3,1.9,8.7,7.2,7.3,5.2,9.1,5.0,3.7,3.2,8.9,6.0,3.0,8.0,3.4,1.5,7.0,6.0,1.5,6.7,6.7,6.8,7.5,1.0,4.5,8.0,2.7,8.1,5.9,1.1,1.8,9.6,3.3,1.2,4.8,9.1,2.5,1.0,7.7,9.4,5.3,2.7,2.8,2.6,5.5,1.9,9.8,9.6,5.2,4.4,1.9,4.9,7.7,8.0,2.3,8.7,6.3,9.7,2.8,6.3,5.2,5.1,1.8,9.0,2.9,5.6,7.4,5.6,5.9,3.7,6.8,8.1,4.0,7.8,5.5,7.8,4.9,4.6,5.8,5.6,1.8,7.4,9.0,5.2,5.2,1.5,4.6,4.4,3.9,6.6,2.0,5.7,6.4,2.0,2.4,5.6,3.4,4.1,1.2,8.7,7.1,1.6,2.6,7.9,2.2,2.7,5.7,6.3,3.5,1.6,9.6,2.1,8.6,1.9,6.9,2.6,4.0,5.3,8.2,7.9,4.1,1.8,3.4,9.3,7.4,1.7,2.4,5.1,1.4,6.5,9.9,6.5,9.9,6.2,2.2,3.6,9.7,8.8,9.3,3.6,4.3,2.9,5.8,3.7,9.2,6.0,5.0,4.6,2.4,2.3,3.9,8.0,4.3,6.5,9.5,5.2,3.7,3.9,7.2,2.7,1.2,2.5,4.8,3.6,6.3,1.1,9.6,7.2,8.5,6.8,6.2,4.6,7.1,6.3,7.8,7.3,3.8,5.7,3.5,4.4,9.2,5.4,6.2,2.6,4.1,3.1,3.1,2.8,8.3,5.5,6.8,7.8,1.6,4.0,9.0,7.6,9.8,7.7,6.4,3.1,3.4,6.4,6.4,3.6,5.1,3.0,1.7,2.7,4.0,10.0,4.3,4.4,8.4,7.5,7.0,9.7,6.2,3.3,7.6,5.8,1.5,5.9,4.8,7.1,7.6,5.5,6.8,2.5,4.6,5.2,1.8,5.4,6.6,7.4,3.4,6.6,3.3,2.6,4.1,8.0,4.3,5.6,9.4,4.3,5.1,4.5,1.2,5.9,4.4,2.0,8.2,8.6,1.9,9.4,8.4,2.5,3.4,4.4,4.9,6.0,5.0,2.6,8.1,3.3,6.8,5.9,6.2,9.1,7.8,8.6,2.1,6.0,6.6,6.1,2.2,3.1,7.6,6.5,6.8,8.4,6.2,1.5,2.8,2.6,9.1,5.6,9.2,3.5,5.7,5.5,1.6,9.5,1.7,6.1,5.7,6.2,8.5,2.0,6.3,2.0,6.8,9.1,5.5,3.7,8.8,5.0,4.1,9.0,4.2,8.4,1.3,8.7,6.6,6.2,4.2,6.6,1.5,7.8,5.0,5.9,6.1,9.0,6.2,4.5,6.5,1.2,6.1,4.6,1.6,2.1,7.4,8.4,5.0,9.7,9.0,2.2,9.6,9.1,8.8,2.1,6.1,2.9,6.3,4.7,1.5,1.3,2.1,9.8,5.8,7.8,5.6,2.1,7.1,10.0,6.1,7.4,3.3,4.8,6.3,1.5,9.1,2.5,6.8,7.2,1.0,2.6,1.8,9.8,7.4,2.4,9.7,6.1,3.1,5.1,1.8,7.2,5.2,6.1,9.6,1.2,2.6,2.7,5.6,1.1,2.5,4.0,3.6,7.3,4.6,6.7,9.8,5.0,3.9,2.3,4.7,9.4,1.5,7.5,6.7,7.8,5.3,2.6,2.6,3.5,9.6,9.7,3.5,6.5,4.1,7.2,9.4,1.5,1.3,8.2,5.5,8.5,7.8,8.9,1.3,9.7,4.2,8.4,4.9,2.7,5.1,9.5,6.3,5.3,5.4,2.5,2.2,2.5,5.1,2.4,9.3,5.0,2.4,9.4,4.0,7.3,6.3,6.2,6.5,1.7,6.1,1.7,1.1,5.0,5.4,2.8,7.3,7.3,5.6,2.7,8.4,2.6,4.9,9.3,5.7,7.5,1.2,6.0,5.2,5.6,4.5,3.2,9.6,4.1,7.3,9.5,1.2,9.0,4.1,6.3,5.4,3.8,9.1,9.2,7.9,8.1,4.4,7.6,4.8,2.9,1.9,1.2,4.3,8.8,6.1,1.5,1.9,1.9,1.7,2.4,5.6,7.6,4.3,9.0,4.2,2.6,2.7,3.6,5.5,1.1,8.7,2.3,2.2,3.0,4.0,3.5,9.5,1.1,6.2,5.1,6.6,8.6,1.2,6.6,1.6,5.0,4.3,2.5,2.2,6.5,6.6,7.2,7.6,4.3,3.0,4.2,4.9,3.7,3.1,6.7,5.9,1.1,1.6,4.5,7.5,8.5,1.1,5.4,2.3,6.0,2.1,9.2,6.4,4.2,6.8,4.8,3.1,9.6,9.2,1.8,6.9,3.0,2.6,4.6,3.0,5.3,5.1,5.2,2.9,2.9,4.2,8.2,6.8,8.0,4.3,9.8,5.5,2.0,1.2,5.1,2.1,5.2,3.5,1.1,1.6,1.6,3.7,9.9,5.0,4.1,7.2,9.1,6.8,3.3,3.8,7.5,3.0,5.7,1.1,5.9,5.6,6.7,2.8,5.0,7.5,3.9,4.4,8.2,6.6,2.7,7.1,9.4,9.0,2.5,5.6,7.5,4.1,1.7,8.1,4.8,6.3,7.5,6.5,4.1,2.6,3.7,5.7,4.4,7.8,3.0,1.6,6.3,6.2,9.1,5.3,6.3,7.3,1.3,4.5,1.7,5.3,2.5,6.2,4.7,4.3,7.4,5.5,4.1,6.8,9.4,8.9,4.5,9.6,6.3,4.3,8.2,2.5,6.2,8.2,9.1,3.3,1.0,5.3,8.0,8.2,7.9,2.2,3.9,7.2,6.7,1.8,3.9,9.2,9.2,9.0,9.2,2.9,6.4,3.3,3.4,5.5,1.3,5.7,6.7,2.8,7.5,8.0,2.3,8.4,2.3,7.5,4.4,2.9,9.4,3.7,9.1,1.3,7.4,4.2,2.4,4.4,4.8,8.2,1.4,4.7,9.4,1.9,2.5,5.3,6.3,6.4,5.9,9.2,9.0,4.7,6.0,1.7,7.2,4.9,6.3,5.4,4.4,2.1,1.8,6.9,4.7,3.9,2.4,8.0,7.7,8.5,8.0,6.8,4.3,7.4,2.6,3.3,1.7,2.2,2.9,2.8,2.5,5.2,2.7,3.7,3.6,5.1,8.4,8.9,9.7,6.5,6.5,7.4,2.6,8.7,2.7,8.6,5.7,4.7,8.6,3.6,2.1,7.7,5.0,9.2,5.9,7.8,6.4,3.9,9.2,8.2,5.6,2.8,5.9,6.1,9.7,4.7,8.5,8.5,9.1,9.9,6.5,5.8,8.4,6.4,3.1,6.8,2.0,9.9,2.9,9.9,7.8,3.4,9.5,5.2,2.5,3.2,2.8,7.2,2.5,5.9,9.7,4.2,8.5,1.6,9.5,9.4,9.6,5.9,9.8,1.6,5.4,2.6,1.7,7.4,4.7,4.1,4.7,7.8,3.7,6.5,6.2,2.5,5.0,5.0,7.3,8.8,7.8,2.3,6.1,7.0,1.9,3.2,2.4,2.9,1.5,7.7,2.7,6.6,1.9,1.7,4.9,6.6,4.4,8.5,1.1,9.6,5.9,4.4,4.0,9.8,3.5,2.1,5.2,1.9,6.3,7.6,2.6,9.7,8.6,6.0,5.3,4.9,4.6,8.3,6.9,2.7,5.4,5.8,1.2,1.2,7.5,6.6,5.5,9.6,5.9,9.1,2.9,1.3,9.7,1.6,9.8,3.8,2.0,2.6,2.2,8.4,9.8,4.9,9.0,8.4,4.4,6.4,8.6,3.1,8.5,7.0,2.5,4.8,5.9,6.4,9.1,9.1,3.2,5.5,3.8,1.3,7.3,1.7,6.1,4.6,7.3,9.4,2.1,9.3,8.8,4.4,2.7,8.3,5.8,9.3,3.3,2.2,4.7,1.4,5.7,2.4,6.5,9.6,5.2,9.7,7.1,2.1,2.2,2.0,5.3,3.3,7.5,5.3,6.2,3.7,9.1,8.8,6.1,1.6,1.5,7.0,5.0,4.7,9.5,7.8,9.0,2.9,8.9,9.3,9.2,7.8,1.2,1.2,7.4,3.9,9.1,8.9,8.6,5.4,1.3,9.7,2.0,4.2,3.3,8.2,8.4,8.2,7.8,3.2,3.9,3.4,1.2,3.0,1.9,5.2,6.6,3.3,8.6,7.6,4.7,8.9,8.7,4.9,9.1,1.7,1.3,2.1,7.7,1.6,6.0,4.2,8.9,1.9,2.7,7.3,8.5,6.4,8.5,4.6,6.8,9.2,2.5,8.6,9.9,3.2,4.0,9.0,8.3,4.2,4.0,9.2,3.0,9.6,7.2,4.3,6.0,8.3,4.0,5.0,4.6,6.4,4.7,6.5,1.2,6.1,3.5,8.7,9.3,6.8,9.4,9.7,7.5,4.9,3.9,4.7,6.9,1.1,3.5,10.0,8.6,3.9,1.6,1.7,6.4,5.9,7.7,9.4,7.6,3.2,2.4,3.4,3.0,1.3,6.0,1.5,4.4,5.4,8.2,7.0,9.4,9.6,5.5,7.3,2.2,9.3,4.9,1.8,7.6,5.2,6.0,2.0,3.6,6.8,7.1,2.9,5.2,6.1,8.6,9.3,8.4,8.4,6.5,2.8,5.2,2.9,2.7,7.6,4.9,3.8,9.6,8.6,9.0,9.7,4.3,4.2,3.7,1.6,8.1,6.4,5.1,5.4,4.3,2.2,2.4,7.2,2.4,3.1,1.4,8.3,9.8,8.6,3.0,1.2,1.6,6.9,7.7,1.5,4.3,3.5,6.6,5.8,3.3,6.4,3.6,5.9,9.1,2.8,6.7,8.7,5.0,3.8,2.3,4.8,1.5,7.3,6.4,6.6,5.1,6.2,6.7,4.7,4.1,5.2,3.9,10.0,2.6,8.5,8.5,3.9,7.0,6.0,5.8,4.6,8.5,7.7,2.0,2.4,3.0,7.3,2.0,6.6,2.3,3.2,6.7,6.0,9.8,7.8,1.4,8.3,3.1,1.0,3.0,5.7,6.3,1.8,7.2,1.3,1.0,2.8,2.0,6.5,8.7,1.5,2.9,9.9,7.5,9.9,3.6],\"type\":\"box\",\"xaxis\":\"x3\",\"yaxis\":\"y3\"},{\"name\":\"City_Area\",\"y\":[26551,1572,420,1120,26551,940,4761,6905,2209,1572,1572,2209,410,420,2209,940,32832,420,1120,940,410,32832,940,420,410,4761,3495,6905,410,7579,3495,6905,1120,7579,2209,6905,7579,1120,7579,1120,7579,26551,3495,26551,4761,4761,7579,3495,2209,1572,420,1120,7579,410,1572,420,6905,4761,6905,32832,3495,940,6905,420,6905,4761,1120,26551,3495,7579,3495,2209,1572,2209,2209,7579,26551,7579,420,7579,2209,32832,420,7579,7579,940,1120,2209,32832,940,7579,32832,2209,4761,940,2209,1120,1120,420,4761,2209,410,1572,7579,2209,3495,940,32832,410,32832,7579,1120,3495,1120,420,32832,940,1572,32832,3495,26551,32832,4761,940,420,2209,4761,1572,940,420,410,420,26551,420,4761,1120,940,940,6905,420,1120,420,32832,4761,6905,4761,410,410,7579,410,4761,1572,3495,420,6905,1120,3495,26551,6905,26551,3495,7579,4761,1120,1120,2209,7579,4761,2209,420,2209,6905,7579,32832,1572,26551,1120,32832,940,3495,1120,32832,2209,7579,32832,32832,1572,7579,6905,420,420,6905,4761,940,420,410,7579,3495,26551,1120,940,410,1120,32832,410,26551,4761,940,940,2209,7579,26551,32832,6905,6905,410,4761,7579,1572,420,4761,420,1120,410,940,4761,1572,3495,410,1120,6905,26551,2209,420,1572,1572,940,420,3495,26551,1572,1120,420,3495,4761,2209,3495,6905,1120,32832,3495,2209,2209,410,940,2209,420,1572,1120,1120,1120,7579,32832,4761,4761,410,3495,420,32832,410,1120,1572,7579,940,3495,420,26551,32832,1120,1120,4761,1572,32832,2209,420,26551,32832,1572,26551,2209,7579,7579,7579,1572,1120,2209,2209,2209,7579,1120,6905,6905,4761,2209,7579,7579,1572,410,410,940,1120,410,420,6905,3495,4761,420,26551,420,4761,26551,940,26551,420,7579,2209,2209,6905,4761,26551,4761,3495,940,4761,26551,940,32832,940,2209,26551,1120,7579,2209,4761,6905,1120,2209,26551,940,1120,32832,420,4761,420,1120,6905,32832,420,3495,1572,4761,3495,4761,1572,7579,4761,1572,6905,3495,3495,26551,2209,420,1120,6905,940,940,2209,7579,1120,26551,32832,1572,940,26551,7579,6905,3495,420,1572,7579,3495,420,2209,940,1572,420,4761,6905,32832,7579,940,32832,3495,7579,420,2209,940,940,32832,26551,1572,1120,4761,4761,32832,3495,32832,32832,6905,6905,7579,3495,32832,26551,940,32832,2209,3495,32832,1120,1120,7579,410,410,4761,420,1572,940,3495,420,940,3495,7579,32832,4761,420,6905,2209,1120,26551,420,1572,1572,32832,7579,3495,7579,2209,940,2209,1572,26551,940,940,4761,410,1572,4761,6905,6905,410,2209,940,940,3495,1572,3495,32832,2209,3495,1572,4761,6905,7579,3495,410,2209,3495,1120,32832,420,1572,420,4761,26551,26551,410,32832,940,940,1120,1572,6905,1120,7579,26551,420,6905,6905,3495,1572,410,1572,32832,7579,3495,1572,32832,2209,7579,1120,1572,32832,7579,6905,3495,420,2209,1572,1572,420,26551,32832,26551,2209,940,4761,2209,26551,410,410,7579,1572,6905,1572,32832,410,2209,6905,940,410,410,1572,940,6905,1120,420,1572,940,2209,7579,2209,32832,410,410,26551,1572,3495,2209,2209,420,3495,26551,3495,26551,26551,4761,6905,420,7579,7579,1120,940,7579,940,1572,410,6905,1120,2209,420,4761,4761,3495,26551,410,420,6905,26551,3495,1572,4761,940,3495,26551,940,420,1572,7579,6905,26551,940,410,940,26551,26551,410,3495,410,4761,1120,1572,3495,1120,940,3495,1572,940,4761,26551,26551,940,1120,26551,1572,4761,1120,4761,4761,420,7579,3495,26551,410,6905,420,410,32832,420,6905,420,1572,1120,420,7579,1572,940,26551,7579,4761,410,1572,6905,1120,3495,1572,32832,4761,6905,1120,3495,7579,2209,26551,1120,1120,420,26551,940,4761,32832,6905,4761,26551,2209,1572,4761,7579,420,410,1120,26551,1572,420,1120,26551,4761,7579,420,2209,420,6905,1120,1120,3495,410,26551,6905,940,420,1572,32832,26551,4761,420,2209,4761,32832,2209,1572,3495,1572,1572,32832,6905,7579,6905,6905,6905,420,6905,420,3495,2209,940,3495,3495,410,6905,3495,7579,2209,26551,3495,4761,410,2209,1120,420,4761,420,6905,3495,420,2209,1120,1572,4761,420,7579,6905,3495,7579,32832,420,4761,32832,4761,3495,410,1572,940,32832,410,7579,3495,1120,940,3495,4761,26551,3495,4761,940,2209,32832,940,1572,6905,410,410,26551,1572,1572,410,940,7579,32832,6905,7579,410,420,6905,6905,7579,3495,1120,420,410,1120,6905,32832,420,26551,1120,26551,26551,4761,4761,1572,26551,7579,2209,940,940,410,6905,7579,940,3495,4761,1120,4761,4761,410,420,6905,3495,32832,2209,940,6905,32832,7579,6905,420,1120,4761,1120,940,4761,940,32832,3495,7579,2209,26551,940,420,1572,940,3495,410,940,6905,420,940,4761,410,3495,410,410,410,26551,3495,26551,32832,6905,7579,1120,1120,7579,410,420,4761,940,1572,26551,1120,1572,2209,1120,3495,1572,2209,1120,32832,1120,7579,32832,2209,420,6905,2209,6905,4761,2209,1120,4761,32832,3495,940,2209,420,420,4761,7579,3495,4761,7579,1572,1572,1572,6905,26551,7579,1572,1572,32832,32832,1120,410,26551,7579,410,26551,1572,1120,2209,2209,3495,3495,26551,1120,7579,7579,6905,32832,32832,7579,4761,2209,6905,32832,4761,940,410,1120,1120,420,32832,7579,420,7579,420,2209,32832,410,7579,1120,4761,1572,7579,2209,6905,1572,7579,32832,4761,2209,7579,6905,6905,420,940,1120,2209,410,1572,410,420,410,2209,4761,2209,26551,4761,7579,410,6905,2209,32832,32832,1120,1572,7579,1572,26551,4761,4761,2209,2209,1120,2209,1120,32832,7579,420,1572,7579,6905,26551,4761,1572,940,7579,2209,32832,6905,2209,26551,3495,3495,6905,6905,4761,420,940,4761,26551,2209,26551,6905,7579,4761,3495,4761,410,32832,940,940,32832,420,32832,420,3495,420,6905,1120,2209,7579,940,4761,2209,1572,6905,4761,6905,3495,6905,32832,1120,3495,7579,1120,940,940,7579,32832,3495,32832,32832,1120,420,4761,3495,420,420,7579,420,2209,2209,26551,7579,1572,26551,420,1120,1120,26551,4761,1572,2209,6905,6905,420,1572,410,940,7579,3495,26551,3495,32832,7579,7579,940,940,6905,2209,410,3495,26551,6905,3495,4761,3495,2209,32832,7579,420,26551,26551,2209,4761,420,410,3495,940,26551,26551,1572,420,26551,420,26551,940,1120,940,32832,2209,7579,420,940,1572,4761,940,6905,1120,410,420,940,1572,2209,940,7579,940,3495,1572,26551,6905,4761,3495,7579,1572,1120,6905,410,940,7579,3495,420,2209,1572,940,940,940,1120,1120,4761,410,4761,2209,4761,420,6905,2209,32832,32832,6905,2209,2209,420,1120,1572,940,6905,6905,7579,1120,32832,32832,32832,420,1572,3495,940,1120,420,1572,26551,940,7579,3495,1120,1572,420,420,1120,6905,420,6905,6905,7579,32832,420,26551,940,3495,3495,940,26551,1120,3495,1120,420,420,32832,1572,940,32832,32832,2209,1120,2209,7579,32832,420,1572,4761,6905,2209,4761,6905,6905,4761,6905,3495,4761,4761,6905,1572,410,26551,4761,7579,6905,26551,4761,1572,4761,32832,940,26551,7579,6905,2209,410,3495,26551,26551,32832,4761,420,420,1120,6905,26551,26551,32832,6905,3495,410,1572,4761,1120,1120,410,410,1572,6905,410,7579,32832,2209,1120,2209,7579,410,32832,1572,1572,4761,1120,1572,3495,420,26551,2209,3495,1120,26551,420,1120,940,32832,2209,26551,32832,32832,940,2209,410,1120,1120,1572,420,7579,6905,4761,7579,940,2209,4761,420,4761,7579,1572,7579,1120,32832,26551,1120,26551,26551,7579,1572,2209,4761,7579,940,7579,7579,6905,420,1120,6905,32832,7579,26551,940,26551,1572,3495,32832,3495,4761,420,32832,32832,2209,4761,420,4761,2209,3495,3495,7579,3495,26551,1120,410,1572,1572,3495,6905,32832,420,420,420,420,410,6905,420,1572,4761,26551,1120,3495,1120,1572,3495,410,4761,6905,6905,1120,32832,4761,32832,1120,3495,3495,1572,940,3495,1120,2209,420,32832,940,26551,32832,420,32832,1120,6905,2209,410,4761,1120,1572,2209,26551,2209,32832,3495,7579,1572,4761,1120,32832,1120,410,2209,1572,940,4761,6905,1572,410,1120,26551,4761,410,420,2209,410,7579,26551,420,940,32832,940,2209,6905,7579,1572,26551,4761,4761,7579,1572,1120,420,6905,26551,2209,4761,940,6905,1572,7579,410,32832,26551,26551,420,4761,7579,1120,410,32832,2209,4761,420,940,26551,1572,1572,4761,7579,26551,1572,940,3495,1120,26551,410,410,7579,7579,2209,32832,7579,1120,1120,1120,4761,6905,6905,4761,940,26551,940,4761,420,3495,420,1572,2209,32832,1572,940,1572,1120,26551,2209,410,3495,32832,410,1120,940,410,3495,3495,2209,410,26551,940,1120,4761,32832,410,4761,3495,1572,410,32832,3495,420,6905,26551,7579,410,32832,6905,6905,6905,2209,3495,420,26551,1572,1120,2209,940,3495,7579,6905,1572,3495,1120,26551,2209,7579,32832,1120,32832,2209,1572,1120,410,4761,1572,1572,3495,32832,6905,7579,410,4761,6905,420,940,940,420,26551,7579,940,32832,4761,26551,3495,3495,1120,1572,1120,2209,26551,6905,6905,1572,3495,940,1120,6905,940,940,6905,3495,32832,940,4761,410,940,1572,410,32832,410,6905,2209,32832,32832,32832,1572,6905,1572,940,32832,32832,32832,3495,3495,26551,420,4761,26551,3495,32832,940,1120,7579,2209,1572,2209,4761,26551,3495,420,4761,4761,7579,1572,410,6905,1572,6905,420,3495,1572,26551,1120,2209,7579,26551,4761,3495,4761,26551,940,26551,3495,7579,32832,2209,6905,4761,940,32832,420,2209,32832,32832,420,1572,3495,1120,3495,1572,420,3495,6905,2209,1572,2209,7579,420,410,26551,7579,3495,6905,410,3495,6905,1120,1120,940,3495,4761,1120,1572,7579,410,1120,4761,4761,7579,6905,940,2209,1120,6905,1572,26551,410,410,940,26551,4761,3495,7579,1572,3495,26551,2209,7579,410,6905,26551,26551,32832,4761,6905,1572,26551,26551,7579,3495,3495,1572,4761,420,1120,2209,26551,32832,1572,3495,26551,32832,420,3495,1120,420,1120,3495,3495,3495,26551,7579,32832,2209,32832,2209,7579,420,3495,3495,410,420,420,6905,26551,7579,7579,3495,1572,2209,410,940,940,4761,2209,7579,2209,940,6905,32832,32832,420,7579,6905,26551,6905,1120,410,1572,32832,940,26551,1572,7579,6905,420,32832,420,420,6905,1120,940,4761,32832,1120,940,7579,1120,6905,420,6905,26551,4761,6905,4761,940,32832,7579,26551,7579,940,1120,940,3495,26551,410,420,1120,32832,32832,7579,3495,6905,420,1572,6905,4761,940,940,2209,6905,4761,26551,6905,410,1120,4761,410,26551,3495,940,3495,3495,26551,6905,6905,420,7579,6905,420,2209,26551,940,6905,410,1120,1120,32832,940,940,2209,1120,4761,940,1572,1120,2209,7579,26551,1572,32832,940,3495,410,420,32832,7579,32832,940,1572,420,7579,4761,940,4761,3495,1572,3495,940,7579,2209,1572,2209,1572,3495,410,32832,4761,26551,26551,420,1120,2209,940,1572,4761,3495,4761,410,4761,7579,6905,1572,2209,420,420,3495,32832,940,1120,26551,3495,1120,32832,2209,940,1572,7579,940,6905,6905,940,6905,420,4761,26551,6905,940,6905,940,940,1120,2209,7579,32832,7579,1120,32832,7579,940,6905,1120,6905,4761,26551,26551,1572,7579,4761,1572,940,7579,26551,940,420,1120,1120,7579,7579,2209,32832,6905,410,1572,420,1120,26551,410,32832,7579,940,410,410,2209,26551,4761,940,6905,1120,2209,940,1120,410,6905,940,410,4761,940,410,4761,940,6905,7579,4761,32832,32832,410,940,410,420,3495,420,32832,410,3495,2209,6905,3495,26551,410,4761,420,6905,420,32832,26551,26551,1120,1120,940,2209,6905,2209,6905,410,1120,26551,26551,1572,6905,4761,26551,26551,940,32832,7579,1120,32832,410,420,420,4761,1120,940,4761,7579,420,6905,2209,410,4761,4761,420,4761,32832,32832,32832,940,7579,410,410,1572,4761,6905,940,410,26551,26551,3495,940,6905,410,2209,3495,6905,2209,1120,7579,6905,26551,7579,940,2209,1120,410,1572,1572,3495,940,420,7579,26551,1120,2209,4761,420,7579,3495,2209,7579,6905,4761,7579,420,7579,1572,3495,4761,32832,1572,410,940,6905,3495,1572,26551,2209,2209,7579,410,26551,940,410,4761,410,3495,6905,4761,1572,420,4761,420,7579,1120,410,26551,1572,4761,1572,1120,32832,32832,3495,420,2209,420,6905,7579,3495,1120,420,410,1572,26551,7579,6905,1120,940,420,2209,3495,1572,410,420,1120,1120,1120,26551,7579,2209,1120,1120,7579,32832,6905,6905,420,26551,420,410,6905,1120,6905,6905,32832,2209,2209,1572,32832,1120,2209,1120,7579,410,1120,2209,3495,2209,32832,420,1572,4761,4761,410,6905,1572,6905,6905,410,420,1572,32832,410,6905,1572,26551,410,26551,7579,6905,32832,940,32832,1120,26551,1120,1120,1572,410,7579,1572,6905,2209,26551,1120,2209,26551,7579,1572,6905,7579,1572,7579,7579,420,2209,6905,1572,410,4761,26551,7579,1572,2209,7579,3495,1572,7579,32832,420,2209,32832,420,26551,410,26551,6905,4761,6905,4761,6905,3495,940,7579,7579,940,4761,410,32832,4761,4761,4761,6905,6905,410,420,940,410,4761,3495,6905,2209,410,26551,410,1572,6905,3495,32832,7579,1572,6905,2209,1120,32832,940,2209,26551,1572,6905,26551,410,420,32832,7579,3495,4761,26551,940,1572,26551,7579,1120,2209,32832,2209,2209,2209,6905,2209,4761,4761,940,7579,940,32832,410,6905,2209,940,410,4761,32832,32832,6905,4761,6905,3495,410,7579,4761,2209,7579,940,7579,420,26551,410,410,410,32832,32832,1572,940,7579,1572,6905,6905,1572,1572,7579,4761,940,32832,32832,410,1120,6905,2209,420,6905,7579,3495,420,940,420,410,410,6905,7579,1120,1572,26551,6905,6905,3495,1572,7579,410,3495,1572,4761,4761,1572,1120,3495,1572,32832,1572,1572,410,940,32832,940,3495,4761,32832,7579,6905,6905,3495,1120,1572,7579,4761,1120,6905,32832,32832,1120,26551,7579,32832,2209,1572,1120,2209,6905,32832,7579,4761,6905,32832,1120,410,420,7579,26551,420,410,32832,3495,1572,420,2209,420,940,2209,1120,3495,1120,1120,4761,940,4761,940,2209,4761,2209,410,4761,26551,2209,6905,3495,2209,2209,32832,940,940,4761,1120,420,420,940,410,4761,4761,420,4761,7579,1572,4761,940,7579,26551,6905,420,420,1120,3495,6905,2209,1120,1572,940,2209,7579,32832,1120,3495,420,26551,1572,940,6905,420,420,420,6905,2209,3495,2209,6905,2209,3495,1572,4761,1120,3495,7579,420,26551,26551,940,1120,3495,7579,410,7579,2209,32832,2209,32832,1120,7579,940,32832,3495,1572,3495,4761,3495,1120,1572,6905,32832,6905,940,3495,410,32832,2209,26551,1572,2209,1572,3495,6905,2209,3495,6905,940,7579,420,1120,32832,2209,7579,6905,940,1120,1572,3495,7579,420,1572,3495,3495,32832,2209,26551,420,410,1572,6905,1572,32832,6905,1120,6905,1120,1572,1572,2209,3495,32832,420,3495,26551,2209,420,32832,1120,2209,7579,4761,7579,26551,1572,420,1120,26551,940,4761,6905,2209,1572,1572,2209,410,420,2209,940,32832,420,1120,940,410,32832,940,420,410,4761,3495,6905,410,7579,3495,6905,1120,7579,2209,6905,7579,1120,7579,1120,7579,26551,3495,26551,4761,4761,7579,3495,2209,1572,420,1120,7579,410,1572,420,6905,4761,6905,32832,3495,940,6905,420,6905,4761,1120,26551,3495,7579,3495,2209,1572,2209,2209,7579,26551,7579,420,7579,2209,32832,420,7579,7579,940,1120,2209,32832,940,7579,32832,2209,4761,940,2209,1120,1120,420,4761,2209,410,1572,7579,2209,3495,940,32832,410,32832,7579,1120,3495,1120,420,32832,940,1572,32832,3495,26551,32832,4761,940,420,2209,4761,1572,940,420,410,420,26551,420,4761,1120,940,940,6905,420,1120,420,32832,4761,6905,4761,410,410,7579,410,4761,1572,3495,420,6905,1120,3495,26551,6905,26551,3495,7579,4761,1120,1120,2209,7579,4761,2209,420,2209,6905,7579,32832,1572,26551,1120,32832,940,3495,1120,32832,2209,7579,32832,32832,1572,7579,6905,420,420,6905,4761,940,420,410,7579,3495,26551,1120,940,410,1120,32832,410,26551,4761,940,940,2209,7579,26551,32832,6905,6905,410,4761,7579,1572,420,4761,420,1120,410,940,4761,1572,3495,410,1120,6905,26551,2209,420,1572,1572,940,420,3495,26551,1572,1120,420,3495,4761,2209,3495,6905,1120,32832,3495,2209,2209,410,940,2209,420,1572,1120,1120,1120,7579,32832,4761,4761,410,3495,420,32832,410,1120,1572,7579,940,3495,420,26551,32832,1120,1120,4761,1572,32832,2209,420,26551,32832,1572,26551,2209,7579,7579,7579,1572,1120,2209,2209,2209,7579,1120,32832,3495,26551,420,1572,2209,6905,6905,7579,410,410,3495,940,1120,32832,1120,32832,420,420,26551,6905,32832,32832,1572,7579,7579,420,1572,26551,7579,940,1120,3495,1120,1572,1572,32832,7579,420,1572,6905,410,1120,420,32832,2209,940,7579,7579,410,7579,1120,410,26551,940,6905,420,410,6905,26551,940,4761,26551,420,7579,940,2209,4761,3495,26551,7579,1572,4761,1120,6905,1572,3495,2209,940,1120,3495,4761,32832,3495,2209,410,1120,32832,26551,2209,4761,420,940,420,1572,3495,32832,1120,3495,2209,1120,7579,4761,2209,26551,32832,32832,2209,1120,1120,7579,1120,32832,1572,1120,4761,1120,1120,1572,3495,7579,940,1120,26551,32832,1120,410,7579,26551,32832,4761,940,2209,4761,1120,26551,1120,940,26551,410,1120,1572,410,32832,1572,1572,420,4761,7579,6905,7579,940,3495,6905,410,940,32832,6905,1120,940,1572,1120,3495,410,940,420,2209,26551,410,6905,2209,420,4761,7579,6905,6905,6905,2209,2209,940,4761,410,940,1572,32832,420,1120,3495,4761,7579,1572,1572,420,4761,1120,7579,26551,3495,420,3495,32832,6905,940,6905,420,4761,420,1572,420,420,3495,1572,940,420,1120,2209,3495,32832,1572,1572,420,7579,420,420,1572,32832,4761,3495,940,1572,1120,940,7579,2209,940,420,4761,2209,32832,32832,2209,6905,420,6905,2209,2209,6905,940,940,940,1120,1572,7579,1572,420,26551,1572,6905,26551,1572,3495,3495,4761,940,2209,3495,1572,420,32832,1572,3495,6905,32832,2209,3495,3495,1120,6905,7579,4761,7579,26551,940,7579,4761,410,410,7579,940,26551,1120,1120,1120,1120,3495,940,940,6905,420,7579,4761,420,2209,32832,4761,6905,1572,2209,420,1572,420,4761,3495,2209,420,940,3495,1572,2209,420,7579,410,1120,1120,6905,32832,26551,420,3495,1572,7579,4761,3495,3495,940,2209,6905,1120,4761,6905,7579,26551,3495,410,420,2209,940,940,940,1572,32832,410,1572,7579,420,940,410,1572,420,3495,4761,6905,6905,940,3495,2209,940,32832,420,7579,940,6905,7579,6905,7579,6905,4761,1572,7579,1572,940,2209,410,1120,2209,1120,2209,1572,4761,26551,1572,3495,7579,7579,1572,4761,7579,32832,410,1120,4761,32832,2209,420,7579,32832,420,3495,32832,3495,2209,6905,6905,1572,1572,420,4761,940,410,2209,26551,32832,26551,410,32832,2209,940,420,6905,420,420,1120,3495,3495,4761,940,1572,3495,6905,4761,4761,1120,7579,4761,940,1572,2209,7579,2209,3495,26551,4761,4761,6905,1120,32832,4761,6905,420,410,940,2209,1120,410,32832,26551,940,26551,4761,1120,32832,32832,6905,32832,3495,3495,7579,410,3495,4761,1572,940,32832,4761,6905,7579,32832,2209,940,32832,32832,2209,6905,26551,4761,420,7579,2209,7579,6905,7579,410,26551,2209,1572,2209,1120,410,3495,1120,4761,3495,3495,1572,6905,32832,26551,420,7579,6905,4761,6905,7579,7579,7579,940,32832,1572,1572,4761,4761,1572,6905,1572,1572,1120,410,2209,410,410,420,3495,26551,2209,2209,420,2209,26551,2209,7579,1120,7579,32832,4761,7579,2209,4761,1572,4761,7579,7579,3495,26551,7579,7579,3495,4761,6905,420,1572,940,420,1572,6905,32832,32832,4761,26551,32832,6905,1572,7579,3495,420,3495,4761,1120,940,6905,1572,26551,940,3495,26551,26551,410,4761,420,410,940,940,32832,410,410,6905,1120,7579,1120,940,420,7579,410,1572,4761,420,1120,3495,32832,1572,410,1572,26551,1572,940,2209,3495,410,4761,1120,2209,26551,32832,1572,2209,7579,410,26551,7579,410,940,2209,26551,26551,7579,940,940,6905,7579,410,3495,3495,32832,4761,940,7579,4761,6905,26551,1572,420,3495,4761,2209,6905,1120,32832,7579,32832,4761,7579,420,1572,1120,1572,7579,420,26551,420,4761,26551,2209,940,2209,4761,4761,4761,32832,6905,410,6905,940,6905,6905,4761,1120,32832,4761,26551,6905,1572,940,4761,940,2209,6905,420,7579,1572,1572,4761,6905,26551,3495,1572,26551,410,2209,420,1120,410,420,7579,410,1572,6905,2209,1120,2209,420,420,6905,940,7579,940,3495,410,420,4761,6905,420,6905,410,940,7579,26551,3495,1572,2209,26551,7579,3495,1572,6905,4761,32832,7579,32832,420,3495,4761,420,6905,3495,410,7579,26551,4761,26551,1120,3495,2209,4761,940,4761,3495,2209,32832,410,6905,410,4761,4761,420,26551,6905,420,1120,3495,1572,1572,1120,32832,26551,940,1572,32832,6905,7579,32832,32832,2209,1120,410,3495,1572,1120,940,7579,1572,940,3495,940,410,3495,1120,420,940,6905,4761,7579,1572,410,1572,7579,1572,3495,1572,1572,4761,26551,3495,26551,2209,1120,2209,7579,420,1572,7579,1572,2209,7579,1572,4761,26551,1120,26551,32832,1120,3495,6905,410,420,3495,32832,1572,7579,4761,420,940,6905,3495,3495,1572,7579,420,2209,3495,32832,410,420,1572,32832,3495,32832,410,7579,7579,6905,32832,2209,4761,26551,1120,3495,4761,1120,420,2209,32832,6905,4761,1572,1572,6905,6905,940,1120,6905,4761,1120,7579,1572,7579,410,3495,4761,4761,940,940,3495,940,4761,4761,6905,940,32832,32832,3495,1572,2209,1572,7579,2209,1572,2209,420,2209,410,32832,1120,1120,26551,3495,1572,2209,3495,1572,26551,6905,940,420,940,4761,32832,1572,420,2209,3495,2209,3495,32832,6905,32832,4761,940,7579,6905,420,6905,3495,32832,2209,1120,3495,7579,3495,2209,26551,26551,940,420,1120,410,4761,1120,32832,26551,6905,3495,3495,1120,4761,1572,1572,1572,3495,4761,420,420,2209,4761,4761,6905,4761,3495,32832,26551,26551,1572],\"type\":\"box\",\"xaxis\":\"x4\",\"yaxis\":\"y4\"},{\"name\":\"City_Population\",\"y\":[300300,1137100,146900,428000,300300,159700,951800,139200,89400,1137100,1137100,89400,191700,146900,89400,159700,121400,146900,428000,159700,191700,121400,159700,146900,191700,951800,249100,139200,191700,2473400,249100,139200,428000,2473400,89400,139200,2473400,428000,2473400,428000,2473400,300300,249100,300300,951800,951800,2473400,249100,89400,1137100,146900,428000,2473400,191700,1137100,146900,139200,951800,139200,121400,249100,159700,139200,146900,139200,951800,428000,300300,249100,2473400,249100,89400,1137100,89400,89400,2473400,300300,2473400,146900,2473400,89400,121400,146900,2473400,2473400,159700,428000,89400,121400,159700,2473400,121400,89400,951800,159700,89400,428000,428000,146900,951800,89400,191700,1137100,2473400,89400,249100,159700,121400,191700,121400,2473400,428000,249100,428000,146900,121400,159700,1137100,121400,249100,300300,121400,951800,159700,146900,89400,951800,1137100,159700,146900,191700,146900,300300,146900,951800,428000,159700,159700,139200,146900,428000,146900,121400,951800,139200,951800,191700,191700,2473400,191700,951800,1137100,249100,146900,139200,428000,249100,300300,139200,300300,249100,2473400,951800,428000,428000,89400,2473400,951800,89400,146900,89400,139200,2473400,121400,1137100,300300,428000,121400,159700,249100,428000,121400,89400,2473400,121400,121400,1137100,2473400,139200,146900,146900,139200,951800,159700,146900,191700,2473400,249100,300300,428000,159700,191700,428000,121400,191700,300300,951800,159700,159700,89400,2473400,300300,121400,139200,139200,191700,951800,2473400,1137100,146900,951800,146900,428000,191700,159700,951800,1137100,249100,191700,428000,139200,300300,89400,146900,1137100,1137100,159700,146900,249100,300300,1137100,428000,146900,249100,951800,89400,249100,139200,428000,121400,249100,89400,89400,191700,159700,89400,146900,1137100,428000,428000,428000,2473400,121400,951800,951800,191700,249100,146900,121400,191700,428000,1137100,2473400,159700,249100,146900,300300,121400,428000,428000,951800,1137100,121400,89400,146900,300300,121400,1137100,300300,89400,2473400,2473400,2473400,1137100,428000,89400,89400,89400,2473400,428000,139200,139200,951800,89400,2473400,2473400,1137100,191700,191700,159700,428000,191700,146900,139200,249100,951800,146900,300300,146900,951800,300300,159700,300300,146900,2473400,89400,89400,139200,951800,300300,951800,249100,159700,951800,300300,159700,121400,159700,89400,300300,428000,2473400,89400,951800,139200,428000,89400,300300,159700,428000,121400,146900,951800,146900,428000,139200,121400,146900,249100,1137100,951800,249100,951800,1137100,2473400,951800,1137100,139200,249100,249100,300300,89400,146900,428000,139200,159700,159700,89400,2473400,428000,300300,121400,1137100,159700,300300,2473400,139200,249100,146900,1137100,2473400,249100,146900,89400,159700,1137100,146900,951800,139200,121400,2473400,159700,121400,249100,2473400,146900,89400,159700,159700,121400,300300,1137100,428000,951800,951800,121400,249100,121400,121400,139200,139200,2473400,249100,121400,300300,159700,121400,89400,249100,121400,428000,428000,2473400,191700,191700,951800,146900,1137100,159700,249100,146900,159700,249100,2473400,121400,951800,146900,139200,89400,428000,300300,146900,1137100,1137100,121400,2473400,249100,2473400,89400,159700,89400,1137100,300300,159700,159700,951800,191700,1137100,951800,139200,139200,191700,89400,159700,159700,249100,1137100,249100,121400,89400,249100,1137100,951800,139200,2473400,249100,191700,89400,249100,428000,121400,146900,1137100,146900,951800,300300,300300,191700,121400,159700,159700,428000,1137100,139200,428000,2473400,300300,146900,139200,139200,249100,1137100,191700,1137100,121400,2473400,249100,1137100,121400,89400,2473400,428000,1137100,121400,2473400,139200,249100,146900,89400,1137100,1137100,146900,300300,121400,300300,89400,159700,951800,89400,300300,191700,191700,2473400,1137100,139200,1137100,121400,191700,89400,139200,159700,191700,191700,1137100,159700,139200,428000,146900,1137100,159700,89400,2473400,89400,121400,191700,191700,300300,1137100,249100,89400,89400,146900,249100,300300,249100,300300,300300,951800,139200,146900,2473400,2473400,428000,159700,2473400,159700,1137100,191700,139200,428000,89400,146900,951800,951800,249100,300300,191700,146900,139200,300300,249100,1137100,951800,159700,249100,300300,159700,146900,1137100,2473400,139200,300300,159700,191700,159700,300300,300300,191700,249100,191700,951800,428000,1137100,249100,428000,159700,249100,1137100,159700,951800,300300,300300,159700,428000,300300,1137100,951800,428000,951800,951800,146900,2473400,249100,300300,191700,139200,146900,191700,121400,146900,139200,146900,1137100,428000,146900,2473400,1137100,159700,300300,2473400,951800,191700,1137100,139200,428000,249100,1137100,121400,951800,139200,428000,249100,2473400,89400,300300,428000,428000,146900,300300,159700,951800,121400,139200,951800,300300,89400,1137100,951800,2473400,146900,191700,428000,300300,1137100,146900,428000,300300,951800,2473400,146900,89400,146900,139200,428000,428000,249100,191700,300300,139200,159700,146900,1137100,121400,300300,951800,146900,89400,951800,121400,89400,1137100,249100,1137100,1137100,121400,139200,2473400,139200,139200,139200,146900,139200,146900,249100,89400,159700,249100,249100,191700,139200,249100,2473400,89400,300300,249100,951800,191700,89400,428000,146900,951800,146900,139200,249100,146900,89400,428000,1137100,951800,146900,2473400,139200,249100,2473400,121400,146900,951800,121400,951800,249100,191700,1137100,159700,121400,191700,2473400,249100,428000,159700,249100,951800,300300,249100,951800,159700,89400,121400,159700,1137100,139200,191700,191700,300300,1137100,1137100,191700,159700,2473400,121400,139200,2473400,191700,146900,139200,139200,2473400,249100,428000,146900,191700,428000,139200,121400,146900,300300,428000,300300,300300,951800,951800,1137100,300300,2473400,89400,159700,159700,191700,139200,2473400,159700,249100,951800,428000,951800,951800,191700,146900,139200,249100,121400,89400,159700,139200,121400,2473400,139200,146900,428000,951800,428000,159700,951800,159700,121400,249100,2473400,89400,300300,159700,146900,1137100,159700,249100,191700,159700,139200,146900,159700,951800,191700,249100,191700,191700,191700,300300,249100,300300,121400,139200,2473400,428000,428000,2473400,191700,146900,951800,159700,1137100,300300,428000,1137100,89400,428000,249100,1137100,89400,428000,121400,428000,2473400,121400,89400,146900,139200,89400,139200,951800,89400,428000,951800,121400,249100,159700,89400,146900,146900,951800,2473400,249100,951800,2473400,1137100,1137100,1137100,139200,300300,2473400,1137100,1137100,121400,121400,428000,191700,300300,2473400,191700,300300,1137100,428000,89400,89400,249100,249100,300300,428000,2473400,2473400,139200,121400,121400,2473400,951800,89400,139200,121400,951800,159700,191700,428000,428000,146900,121400,2473400,146900,2473400,146900,89400,121400,191700,2473400,428000,951800,1137100,2473400,89400,139200,1137100,2473400,121400,951800,89400,2473400,139200,139200,146900,159700,428000,89400,191700,1137100,191700,146900,191700,89400,951800,89400,300300,951800,2473400,191700,139200,89400,121400,121400,428000,1137100,2473400,1137100,300300,951800,951800,89400,89400,428000,89400,428000,121400,2473400,146900,1137100,2473400,139200,300300,951800,1137100,159700,2473400,89400,121400,139200,89400,300300,249100,249100,139200,139200,951800,146900,159700,951800,300300,89400,300300,139200,2473400,951800,249100,951800,191700,121400,159700,159700,121400,146900,121400,146900,249100,146900,139200,428000,89400,2473400,159700,951800,89400,1137100,139200,951800,139200,249100,139200,121400,428000,249100,2473400,428000,159700,159700,2473400,121400,249100,121400,121400,428000,146900,951800,249100,146900,146900,2473400,146900,89400,89400,300300,2473400,1137100,300300,146900,428000,428000,300300,951800,1137100,89400,139200,139200,146900,1137100,191700,159700,2473400,249100,300300,249100,121400,2473400,2473400,159700,159700,139200,89400,191700,249100,300300,139200,249100,951800,249100,89400,121400,2473400,146900,300300,300300,89400,951800,146900,191700,249100,159700,300300,300300,1137100,146900,300300,146900,300300,159700,428000,159700,121400,89400,2473400,146900,159700,1137100,951800,159700,139200,428000,191700,146900,159700,1137100,89400,159700,2473400,159700,249100,1137100,300300,139200,951800,249100,2473400,1137100,428000,139200,191700,159700,2473400,249100,146900,89400,1137100,159700,159700,159700,428000,428000,951800,191700,951800,89400,951800,146900,139200,89400,121400,121400,139200,89400,89400,146900,428000,1137100,159700,139200,139200,2473400,428000,121400,121400,121400,146900,1137100,249100,159700,428000,146900,1137100,300300,159700,2473400,249100,428000,1137100,146900,146900,428000,139200,146900,139200,139200,2473400,121400,146900,300300,159700,249100,249100,159700,300300,428000,249100,428000,146900,146900,121400,1137100,159700,121400,121400,89400,428000,89400,2473400,121400,146900,1137100,951800,139200,89400,951800,139200,139200,951800,139200,249100,951800,951800,139200,1137100,191700,300300,951800,2473400,139200,300300,951800,1137100,951800,121400,159700,300300,2473400,139200,89400,191700,249100,300300,300300,121400,951800,146900,146900,428000,139200,300300,300300,121400,139200,249100,191700,1137100,951800,428000,428000,191700,191700,1137100,139200,191700,2473400,121400,89400,428000,89400,2473400,191700,121400,1137100,1137100,951800,428000,1137100,249100,146900,300300,89400,249100,428000,300300,146900,428000,159700,121400,89400,300300,121400,121400,159700,89400,191700,428000,428000,1137100,146900,2473400,139200,951800,2473400,159700,89400,951800,146900,951800,2473400,1137100,2473400,428000,121400,300300,428000,300300,300300,2473400,1137100,89400,951800,2473400,159700,2473400,2473400,139200,146900,428000,139200,121400,2473400,300300,159700,300300,1137100,249100,121400,249100,951800,146900,121400,121400,89400,951800,146900,951800,89400,249100,249100,2473400,249100,300300,428000,191700,1137100,1137100,249100,139200,121400,146900,146900,146900,146900,191700,139200,146900,1137100,951800,300300,428000,249100,428000,1137100,249100,191700,951800,139200,139200,428000,121400,951800,121400,428000,249100,249100,1137100,159700,249100,428000,89400,146900,121400,159700,300300,121400,146900,121400,428000,139200,89400,191700,951800,428000,1137100,89400,300300,89400,121400,249100,2473400,1137100,951800,428000,121400,428000,191700,89400,1137100,159700,951800,139200,1137100,191700,428000,300300,951800,191700,146900,89400,191700,2473400,300300,146900,159700,121400,159700,89400,139200,2473400,1137100,300300,951800,951800,2473400,1137100,428000,146900,139200,300300,89400,951800,159700,139200,1137100,2473400,191700,121400,300300,300300,146900,951800,2473400,428000,191700,121400,89400,951800,146900,159700,300300,1137100,1137100,951800,2473400,300300,1137100,159700,249100,428000,300300,191700,191700,2473400,2473400,89400,121400,2473400,428000,428000,428000,951800,139200,139200,951800,159700,300300,159700,951800,146900,249100,146900,1137100,89400,121400,1137100,159700,1137100,428000,300300,89400,191700,249100,121400,191700,428000,159700,191700,249100,249100,89400,191700,300300,159700,428000,951800,121400,191700,951800,249100,1137100,191700,121400,249100,146900,139200,300300,2473400,191700,121400,139200,139200,139200,89400,249100,146900,300300,1137100,428000,89400,159700,249100,2473400,139200,1137100,249100,428000,300300,89400,2473400,121400,428000,121400,89400,1137100,428000,191700,951800,1137100,1137100,249100,121400,139200,2473400,191700,951800,139200,146900,159700,159700,146900,300300,2473400,159700,121400,951800,300300,249100,249100,428000,1137100,428000,89400,300300,139200,139200,1137100,249100,159700,428000,139200,159700,159700,139200,249100,121400,159700,951800,191700,159700,1137100,191700,121400,191700,139200,89400,121400,121400,121400,1137100,139200,1137100,159700,121400,121400,121400,249100,249100,300300,146900,951800,300300,249100,121400,159700,428000,2473400,89400,1137100,89400,951800,300300,249100,146900,951800,951800,2473400,1137100,191700,139200,1137100,139200,146900,249100,1137100,300300,428000,89400,2473400,300300,951800,249100,951800,300300,159700,300300,249100,2473400,121400,89400,139200,951800,159700,121400,146900,89400,121400,121400,146900,1137100,249100,428000,249100,1137100,146900,249100,139200,89400,1137100,89400,2473400,146900,191700,300300,2473400,249100,139200,191700,249100,139200,428000,428000,159700,249100,951800,428000,1137100,2473400,191700,428000,951800,951800,2473400,139200,159700,89400,428000,139200,1137100,300300,191700,191700,159700,300300,951800,249100,2473400,1137100,249100,300300,89400,2473400,191700,139200,300300,300300,121400,951800,139200,1137100,300300,300300,2473400,249100,249100,1137100,951800,146900,428000,89400,300300,121400,1137100,249100,300300,121400,146900,249100,428000,146900,428000,249100,249100,249100,300300,2473400,121400,89400,121400,89400,2473400,146900,249100,249100,191700,146900,146900,139200,300300,2473400,2473400,249100,1137100,89400,191700,159700,159700,951800,89400,2473400,89400,159700,139200,121400,121400,146900,2473400,139200,300300,139200,428000,191700,1137100,121400,159700,300300,1137100,2473400,139200,146900,121400,146900,146900,139200,428000,159700,951800,121400,428000,159700,2473400,428000,139200,146900,139200,300300,951800,139200,951800,159700,121400,2473400,300300,2473400,159700,428000,159700,249100,300300,191700,146900,428000,121400,121400,2473400,249100,139200,146900,1137100,139200,951800,159700,159700,89400,139200,951800,300300,139200,191700,428000,951800,191700,300300,249100,159700,249100,249100,300300,139200,139200,146900,2473400,139200,146900,89400,300300,159700,139200,191700,428000,428000,121400,159700,159700,89400,428000,951800,159700,1137100,428000,89400,2473400,300300,1137100,121400,159700,249100,191700,146900,121400,2473400,121400,159700,1137100,146900,2473400,951800,159700,951800,249100,1137100,249100,159700,2473400,89400,1137100,89400,1137100,249100,191700,121400,951800,300300,300300,146900,428000,89400,159700,1137100,951800,249100,951800,191700,951800,2473400,139200,1137100,89400,146900,146900,249100,121400,159700,428000,300300,249100,428000,121400,89400,159700,1137100,2473400,159700,139200,139200,159700,139200,146900,951800,300300,139200,159700,139200,159700,159700,428000,89400,2473400,121400,2473400,428000,121400,2473400,159700,139200,428000,139200,951800,300300,300300,1137100,2473400,951800,1137100,159700,2473400,300300,159700,146900,428000,428000,2473400,2473400,89400,121400,139200,191700,1137100,146900,428000,300300,191700,121400,2473400,159700,191700,191700,89400,300300,951800,159700,139200,428000,89400,159700,428000,191700,139200,159700,191700,951800,159700,191700,951800,159700,139200,2473400,951800,121400,121400,191700,159700,191700,146900,249100,146900,121400,191700,249100,89400,139200,249100,300300,191700,951800,146900,139200,146900,121400,300300,300300,428000,428000,159700,89400,139200,89400,139200,191700,428000,300300,300300,1137100,139200,951800,300300,300300,159700,121400,2473400,428000,121400,191700,146900,146900,951800,428000,159700,951800,2473400,146900,139200,89400,191700,951800,951800,146900,951800,121400,121400,121400,159700,2473400,191700,191700,1137100,951800,139200,159700,191700,300300,300300,249100,159700,139200,191700,89400,249100,139200,89400,428000,2473400,139200,300300,2473400,159700,89400,428000,191700,1137100,1137100,249100,159700,146900,2473400,300300,428000,89400,951800,146900,2473400,249100,89400,2473400,139200,951800,2473400,146900,2473400,1137100,249100,951800,121400,1137100,191700,159700,139200,249100,1137100,300300,89400,89400,2473400,191700,300300,159700,191700,951800,191700,249100,139200,951800,1137100,146900,951800,146900,2473400,428000,191700,300300,1137100,951800,1137100,428000,121400,121400,249100,146900,89400,146900,139200,2473400,249100,428000,146900,191700,1137100,300300,2473400,139200,428000,159700,146900,89400,249100,1137100,191700,146900,428000,428000,428000,300300,2473400,89400,428000,428000,2473400,121400,139200,139200,146900,300300,146900,191700,139200,428000,139200,139200,121400,89400,89400,1137100,121400,428000,89400,428000,2473400,191700,428000,89400,249100,89400,121400,146900,1137100,951800,951800,191700,139200,1137100,139200,139200,191700,146900,1137100,121400,191700,139200,1137100,300300,191700,300300,2473400,139200,121400,159700,121400,428000,300300,428000,428000,1137100,191700,2473400,1137100,139200,89400,300300,428000,89400,300300,2473400,1137100,139200,2473400,1137100,2473400,2473400,146900,89400,139200,1137100,191700,951800,300300,2473400,1137100,89400,2473400,249100,1137100,2473400,121400,146900,89400,121400,146900,300300,191700,300300,139200,951800,139200,951800,139200,249100,159700,2473400,2473400,159700,951800,191700,121400,951800,951800,951800,139200,139200,191700,146900,159700,191700,951800,249100,139200,89400,191700,300300,191700,1137100,139200,249100,121400,2473400,1137100,139200,89400,428000,121400,159700,89400,300300,1137100,139200,300300,191700,146900,121400,2473400,249100,951800,300300,159700,1137100,300300,2473400,428000,89400,121400,89400,89400,89400,139200,89400,951800,951800,159700,2473400,159700,121400,191700,139200,89400,159700,191700,951800,121400,121400,139200,951800,139200,249100,191700,2473400,951800,89400,2473400,159700,2473400,146900,300300,191700,191700,191700,121400,121400,1137100,159700,2473400,1137100,139200,139200,1137100,1137100,2473400,951800,159700,121400,121400,191700,428000,139200,89400,146900,139200,2473400,249100,146900,159700,146900,191700,191700,139200,2473400,428000,1137100,300300,139200,139200,249100,1137100,2473400,191700,249100,1137100,951800,951800,1137100,428000,249100,1137100,121400,1137100,1137100,191700,159700,121400,159700,249100,951800,121400,2473400,139200,139200,249100,428000,1137100,2473400,951800,428000,139200,121400,121400,428000,300300,2473400,121400,89400,1137100,428000,89400,139200,121400,2473400,951800,139200,121400,428000,191700,146900,2473400,300300,146900,191700,121400,249100,1137100,146900,89400,146900,159700,89400,428000,249100,428000,428000,951800,159700,951800,159700,89400,951800,89400,191700,951800,300300,89400,139200,249100,89400,89400,121400,159700,159700,951800,428000,146900,146900,159700,191700,951800,951800,146900,951800,2473400,1137100,951800,159700,2473400,300300,139200,146900,146900,428000,249100,139200,89400,428000,1137100,159700,89400,2473400,121400,428000,249100,146900,300300,1137100,159700,139200,146900,146900,146900,139200,89400,249100,89400,139200,89400,249100,1137100,951800,428000,249100,2473400,146900,300300,300300,159700,428000,249100,2473400,191700,2473400,89400,121400,89400,121400,428000,2473400,159700,121400,249100,1137100,249100,951800,249100,428000,1137100,139200,121400,139200,159700,249100,191700,121400,89400,300300,1137100,89400,1137100,249100,139200,89400,249100,139200,159700,2473400,146900,428000,121400,89400,2473400,139200,159700,428000,1137100,249100,2473400,146900,1137100,249100,249100,121400,89400,300300,146900,191700,1137100,139200,1137100,121400,139200,428000,139200,428000,1137100,1137100,89400,249100,121400,146900,249100,300300,89400,146900,121400,428000,89400,2473400,951800,2473400,300300,1137100,146900,428000,300300,159700,951800,139200,89400,1137100,1137100,89400,191700,146900,89400,159700,121400,146900,428000,159700,191700,121400,159700,146900,191700,951800,249100,139200,191700,2473400,249100,139200,428000,2473400,89400,139200,2473400,428000,2473400,428000,2473400,300300,249100,300300,951800,951800,2473400,249100,89400,1137100,146900,428000,2473400,191700,1137100,146900,139200,951800,139200,121400,249100,159700,139200,146900,139200,951800,428000,300300,249100,2473400,249100,89400,1137100,89400,89400,2473400,300300,2473400,146900,2473400,89400,121400,146900,2473400,2473400,159700,428000,89400,121400,159700,2473400,121400,89400,951800,159700,89400,428000,428000,146900,951800,89400,191700,1137100,2473400,89400,249100,159700,121400,191700,121400,2473400,428000,249100,428000,146900,121400,159700,1137100,121400,249100,300300,121400,951800,159700,146900,89400,951800,1137100,159700,146900,191700,146900,300300,146900,951800,428000,159700,159700,139200,146900,428000,146900,121400,951800,139200,951800,191700,191700,2473400,191700,951800,1137100,249100,146900,139200,428000,249100,300300,139200,300300,249100,2473400,951800,428000,428000,89400,2473400,951800,89400,146900,89400,139200,2473400,121400,1137100,300300,428000,121400,159700,249100,428000,121400,89400,2473400,121400,121400,1137100,2473400,139200,146900,146900,139200,951800,159700,146900,191700,2473400,249100,300300,428000,159700,191700,428000,121400,191700,300300,951800,159700,159700,89400,2473400,300300,121400,139200,139200,191700,951800,2473400,1137100,146900,951800,146900,428000,191700,159700,951800,1137100,249100,191700,428000,139200,300300,89400,146900,1137100,1137100,159700,146900,249100,300300,1137100,428000,146900,249100,951800,89400,249100,139200,428000,121400,249100,89400,89400,191700,159700,89400,146900,1137100,428000,428000,428000,2473400,121400,951800,951800,191700,249100,146900,121400,191700,428000,1137100,2473400,159700,249100,146900,300300,121400,428000,428000,951800,1137100,121400,89400,146900,300300,121400,1137100,300300,89400,2473400,2473400,2473400,1137100,428000,89400,89400,89400,2473400,428000,121400,249100,300300,146900,1137100,89400,139200,139200,2473400,191700,191700,249100,159700,428000,121400,428000,121400,146900,146900,300300,139200,121400,121400,1137100,2473400,2473400,146900,1137100,300300,2473400,159700,428000,249100,428000,1137100,1137100,121400,2473400,146900,1137100,139200,191700,428000,146900,121400,89400,159700,2473400,2473400,191700,2473400,428000,191700,300300,159700,139200,146900,191700,139200,300300,159700,951800,300300,146900,2473400,159700,89400,951800,249100,300300,2473400,1137100,951800,428000,139200,1137100,249100,89400,159700,428000,249100,951800,121400,249100,89400,191700,428000,121400,300300,89400,951800,146900,159700,146900,1137100,249100,121400,428000,249100,89400,428000,2473400,951800,89400,300300,121400,121400,89400,428000,428000,2473400,428000,121400,1137100,428000,951800,428000,428000,1137100,249100,2473400,159700,428000,300300,121400,428000,191700,2473400,300300,121400,951800,159700,89400,951800,428000,300300,428000,159700,300300,191700,428000,1137100,191700,121400,1137100,1137100,146900,951800,2473400,139200,2473400,159700,249100,139200,191700,159700,121400,139200,428000,159700,1137100,428000,249100,191700,159700,146900,89400,300300,191700,139200,89400,146900,951800,2473400,139200,139200,139200,89400,89400,159700,951800,191700,159700,1137100,121400,146900,428000,249100,951800,2473400,1137100,1137100,146900,951800,428000,2473400,300300,249100,146900,249100,121400,139200,159700,139200,146900,951800,146900,1137100,146900,146900,249100,1137100,159700,146900,428000,89400,249100,121400,1137100,1137100,146900,2473400,146900,146900,1137100,121400,951800,249100,159700,1137100,428000,159700,2473400,89400,159700,146900,951800,89400,121400,121400,89400,139200,146900,139200,89400,89400,139200,159700,159700,159700,428000,1137100,2473400,1137100,146900,300300,1137100,139200,300300,1137100,249100,249100,951800,159700,89400,249100,1137100,146900,121400,1137100,249100,139200,121400,89400,249100,249100,428000,139200,2473400,951800,2473400,300300,159700,2473400,951800,191700,191700,2473400,159700,300300,428000,428000,428000,428000,249100,159700,159700,139200,146900,2473400,951800,146900,89400,121400,951800,139200,1137100,89400,146900,1137100,146900,951800,249100,89400,146900,159700,249100,1137100,89400,146900,2473400,191700,428000,428000,139200,121400,300300,146900,249100,1137100,2473400,951800,249100,249100,159700,89400,139200,428000,951800,139200,2473400,300300,249100,191700,146900,89400,159700,159700,159700,1137100,121400,191700,1137100,2473400,146900,159700,191700,1137100,146900,249100,951800,139200,139200,159700,249100,89400,159700,121400,146900,2473400,159700,139200,2473400,139200,2473400,139200,951800,1137100,2473400,1137100,159700,89400,191700,428000,89400,428000,89400,1137100,951800,300300,1137100,249100,2473400,2473400,1137100,951800,2473400,121400,191700,428000,951800,121400,89400,146900,2473400,121400,146900,249100,121400,249100,89400,139200,139200,1137100,1137100,146900,951800,159700,191700,89400,300300,121400,300300,191700,121400,89400,159700,146900,139200,146900,146900,428000,249100,249100,951800,159700,1137100,249100,139200,951800,951800,428000,2473400,951800,159700,1137100,89400,2473400,89400,249100,300300,951800,951800,139200,428000,121400,951800,139200,146900,191700,159700,89400,428000,191700,121400,300300,159700,300300,951800,428000,121400,121400,139200,121400,249100,249100,2473400,191700,249100,951800,1137100,159700,121400,951800,139200,2473400,121400,89400,159700,121400,121400,89400,139200,300300,951800,146900,2473400,89400,2473400,139200,2473400,191700,300300,89400,1137100,89400,428000,191700,249100,428000,951800,249100,249100,1137100,139200,121400,300300,146900,2473400,139200,951800,139200,2473400,2473400,2473400,159700,121400,1137100,1137100,951800,951800,1137100,139200,1137100,1137100,428000,191700,89400,191700,191700,146900,249100,300300,89400,89400,146900,89400,300300,89400,2473400,428000,2473400,121400,951800,2473400,89400,951800,1137100,951800,2473400,2473400,249100,300300,2473400,2473400,249100,951800,139200,146900,1137100,159700,146900,1137100,139200,121400,121400,951800,300300,121400,139200,1137100,2473400,249100,146900,249100,951800,428000,159700,139200,1137100,300300,159700,249100,300300,300300,191700,951800,146900,191700,159700,159700,121400,191700,191700,139200,428000,2473400,428000,159700,146900,2473400,191700,1137100,951800,146900,428000,249100,121400,1137100,191700,1137100,300300,1137100,159700,89400,249100,191700,951800,428000,89400,300300,121400,1137100,89400,2473400,191700,300300,2473400,191700,159700,89400,300300,300300,2473400,159700,159700,139200,2473400,191700,249100,249100,121400,951800,159700,2473400,951800,139200,300300,1137100,146900,249100,951800,89400,139200,428000,121400,2473400,121400,951800,2473400,146900,1137100,428000,1137100,2473400,146900,300300,146900,951800,300300,89400,159700,89400,951800,951800,951800,121400,139200,191700,139200,159700,139200,139200,951800,428000,121400,951800,300300,139200,1137100,159700,951800,159700,89400,139200,146900,2473400,1137100,1137100,951800,139200,300300,249100,1137100,300300,191700,89400,146900,428000,191700,146900,2473400,191700,1137100,139200,89400,428000,89400,146900,146900,139200,159700,2473400,159700,249100,191700,146900,951800,139200,146900,139200,191700,159700,2473400,300300,249100,1137100,89400,300300,2473400,249100,1137100,139200,951800,121400,2473400,121400,146900,249100,951800,146900,139200,249100,191700,2473400,300300,951800,300300,428000,249100,89400,951800,159700,951800,249100,89400,121400,191700,139200,191700,951800,951800,146900,300300,139200,146900,428000,249100,1137100,1137100,428000,121400,300300,159700,1137100,121400,139200,2473400,121400,121400,89400,428000,191700,249100,1137100,428000,159700,2473400,1137100,159700,249100,159700,191700,249100,428000,146900,159700,139200,951800,2473400,1137100,191700,1137100,2473400,1137100,249100,1137100,1137100,951800,300300,249100,300300,89400,428000,89400,2473400,146900,1137100,2473400,1137100,89400,2473400,1137100,951800,300300,428000,300300,121400,428000,249100,139200,191700,146900,249100,121400,1137100,2473400,951800,146900,159700,139200,249100,249100,1137100,2473400,146900,89400,249100,121400,191700,146900,1137100,121400,249100,121400,191700,2473400,2473400,139200,121400,89400,951800,300300,428000,249100,951800,428000,146900,89400,121400,139200,951800,1137100,1137100,139200,139200,159700,428000,139200,951800,428000,2473400,1137100,2473400,191700,249100,951800,951800,159700,159700,249100,159700,951800,951800,139200,159700,121400,121400,249100,1137100,89400,1137100,2473400,89400,1137100,89400,146900,89400,191700,121400,428000,428000,300300,249100,1137100,89400,249100,1137100,300300,139200,159700,146900,159700,951800,121400,1137100,146900,89400,249100,89400,249100,121400,139200,121400,951800,159700,2473400,139200,146900,139200,249100,121400,89400,428000,249100,2473400,249100,89400,300300,300300,159700,146900,428000,191700,951800,428000,121400,300300,139200,249100,249100,428000,951800,1137100,1137100,1137100,249100,951800,146900,146900,89400,951800,951800,139200,951800,249100,121400,300300,300300,1137100],\"type\":\"box\",\"xaxis\":\"x5\",\"yaxis\":\"y5\"},{\"name\":\"City_Density(people/km2)\",\"y\":[11.3,723.4,350.1,382.0,11.3,170.0,199.9,20.2,40.5,723.4,723.4,40.5,467.8,350.1,40.5,170.0,3.7,350.1,382.0,170.0,467.8,3.7,170.0,350.1,467.8,199.9,71.3,20.2,467.8,326.3,71.3,20.2,382.0,326.3,40.5,20.2,326.3,382.0,326.3,382.0,326.3,11.3,71.3,11.3,199.9,199.9,326.3,71.3,40.5,723.4,350.1,382.0,326.3,467.8,723.4,350.1,20.2,199.9,20.2,3.7,71.3,170.0,20.2,350.1,20.2,199.9,382.0,11.3,71.3,326.3,71.3,40.5,723.4,40.5,40.5,326.3,11.3,326.3,350.1,326.3,40.5,3.7,350.1,326.3,326.3,170.0,382.0,40.5,3.7,170.0,326.3,3.7,40.5,199.9,170.0,40.5,382.0,382.0,350.1,199.9,40.5,467.8,723.4,326.3,40.5,71.3,170.0,3.7,467.8,3.7,326.3,382.0,71.3,382.0,350.1,3.7,170.0,723.4,3.7,71.3,11.3,3.7,199.9,170.0,350.1,40.5,199.9,723.4,170.0,350.1,467.8,350.1,11.3,350.1,199.9,382.0,170.0,170.0,20.2,350.1,382.0,350.1,3.7,199.9,20.2,199.9,467.8,467.8,326.3,467.8,199.9,723.4,71.3,350.1,20.2,382.0,71.3,11.3,20.2,11.3,71.3,326.3,199.9,382.0,382.0,40.5,326.3,199.9,40.5,350.1,40.5,20.2,326.3,3.7,723.4,11.3,382.0,3.7,170.0,71.3,382.0,3.7,40.5,326.3,3.7,3.7,723.4,326.3,20.2,350.1,350.1,20.2,199.9,170.0,350.1,467.8,326.3,71.3,11.3,382.0,170.0,467.8,382.0,3.7,467.8,11.3,199.9,170.0,170.0,40.5,326.3,11.3,3.7,20.2,20.2,467.8,199.9,326.3,723.4,350.1,199.9,350.1,382.0,467.8,170.0,199.9,723.4,71.3,467.8,382.0,20.2,11.3,40.5,350.1,723.4,723.4,170.0,350.1,71.3,11.3,723.4,382.0,350.1,71.3,199.9,40.5,71.3,20.2,382.0,3.7,71.3,40.5,40.5,467.8,170.0,40.5,350.1,723.4,382.0,382.0,382.0,326.3,3.7,199.9,199.9,467.8,71.3,350.1,3.7,467.8,382.0,723.4,326.3,170.0,71.3,350.1,11.3,3.7,382.0,382.0,199.9,723.4,3.7,40.5,350.1,11.3,3.7,723.4,11.3,40.5,326.3,326.3,326.3,723.4,382.0,40.5,40.5,40.5,326.3,382.0,20.2,20.2,199.9,40.5,326.3,326.3,723.4,467.8,467.8,170.0,382.0,467.8,350.1,20.2,71.3,199.9,350.1,11.3,350.1,199.9,11.3,170.0,11.3,350.1,326.3,40.5,40.5,20.2,199.9,11.3,199.9,71.3,170.0,199.9,11.3,170.0,3.7,170.0,40.5,11.3,382.0,326.3,40.5,199.9,20.2,382.0,40.5,11.3,170.0,382.0,3.7,350.1,199.9,350.1,382.0,20.2,3.7,350.1,71.3,723.4,199.9,71.3,199.9,723.4,326.3,199.9,723.4,20.2,71.3,71.3,11.3,40.5,350.1,382.0,20.2,170.0,170.0,40.5,326.3,382.0,11.3,3.7,723.4,170.0,11.3,326.3,20.2,71.3,350.1,723.4,326.3,71.3,350.1,40.5,170.0,723.4,350.1,199.9,20.2,3.7,326.3,170.0,3.7,71.3,326.3,350.1,40.5,170.0,170.0,3.7,11.3,723.4,382.0,199.9,199.9,3.7,71.3,3.7,3.7,20.2,20.2,326.3,71.3,3.7,11.3,170.0,3.7,40.5,71.3,3.7,382.0,382.0,326.3,467.8,467.8,199.9,350.1,723.4,170.0,71.3,350.1,170.0,71.3,326.3,3.7,199.9,350.1,20.2,40.5,382.0,11.3,350.1,723.4,723.4,3.7,326.3,71.3,326.3,40.5,170.0,40.5,723.4,11.3,170.0,170.0,199.9,467.8,723.4,199.9,20.2,20.2,467.8,40.5,170.0,170.0,71.3,723.4,71.3,3.7,40.5,71.3,723.4,199.9,20.2,326.3,71.3,467.8,40.5,71.3,382.0,3.7,350.1,723.4,350.1,199.9,11.3,11.3,467.8,3.7,170.0,170.0,382.0,723.4,20.2,382.0,326.3,11.3,350.1,20.2,20.2,71.3,723.4,467.8,723.4,3.7,326.3,71.3,723.4,3.7,40.5,326.3,382.0,723.4,3.7,326.3,20.2,71.3,350.1,40.5,723.4,723.4,350.1,11.3,3.7,11.3,40.5,170.0,199.9,40.5,11.3,467.8,467.8,326.3,723.4,20.2,723.4,3.7,467.8,40.5,20.2,170.0,467.8,467.8,723.4,170.0,20.2,382.0,350.1,723.4,170.0,40.5,326.3,40.5,3.7,467.8,467.8,11.3,723.4,71.3,40.5,40.5,350.1,71.3,11.3,71.3,11.3,11.3,199.9,20.2,350.1,326.3,326.3,382.0,170.0,326.3,170.0,723.4,467.8,20.2,382.0,40.5,350.1,199.9,199.9,71.3,11.3,467.8,350.1,20.2,11.3,71.3,723.4,199.9,170.0,71.3,11.3,170.0,350.1,723.4,326.3,20.2,11.3,170.0,467.8,170.0,11.3,11.3,467.8,71.3,467.8,199.9,382.0,723.4,71.3,382.0,170.0,71.3,723.4,170.0,199.9,11.3,11.3,170.0,382.0,11.3,723.4,199.9,382.0,199.9,199.9,350.1,326.3,71.3,11.3,467.8,20.2,350.1,467.8,3.7,350.1,20.2,350.1,723.4,382.0,350.1,326.3,723.4,170.0,11.3,326.3,199.9,467.8,723.4,20.2,382.0,71.3,723.4,3.7,199.9,20.2,382.0,71.3,326.3,40.5,11.3,382.0,382.0,350.1,11.3,170.0,199.9,3.7,20.2,199.9,11.3,40.5,723.4,199.9,326.3,350.1,467.8,382.0,11.3,723.4,350.1,382.0,11.3,199.9,326.3,350.1,40.5,350.1,20.2,382.0,382.0,71.3,467.8,11.3,20.2,170.0,350.1,723.4,3.7,11.3,199.9,350.1,40.5,199.9,3.7,40.5,723.4,71.3,723.4,723.4,3.7,20.2,326.3,20.2,20.2,20.2,350.1,20.2,350.1,71.3,40.5,170.0,71.3,71.3,467.8,20.2,71.3,326.3,40.5,11.3,71.3,199.9,467.8,40.5,382.0,350.1,199.9,350.1,20.2,71.3,350.1,40.5,382.0,723.4,199.9,350.1,326.3,20.2,71.3,326.3,3.7,350.1,199.9,3.7,199.9,71.3,467.8,723.4,170.0,3.7,467.8,326.3,71.3,382.0,170.0,71.3,199.9,11.3,71.3,199.9,170.0,40.5,3.7,170.0,723.4,20.2,467.8,467.8,11.3,723.4,723.4,467.8,170.0,326.3,3.7,20.2,326.3,467.8,350.1,20.2,20.2,326.3,71.3,382.0,350.1,467.8,382.0,20.2,3.7,350.1,11.3,382.0,11.3,11.3,199.9,199.9,723.4,11.3,326.3,40.5,170.0,170.0,467.8,20.2,326.3,170.0,71.3,199.9,382.0,199.9,199.9,467.8,350.1,20.2,71.3,3.7,40.5,170.0,20.2,3.7,326.3,20.2,350.1,382.0,199.9,382.0,170.0,199.9,170.0,3.7,71.3,326.3,40.5,11.3,170.0,350.1,723.4,170.0,71.3,467.8,170.0,20.2,350.1,170.0,199.9,467.8,71.3,467.8,467.8,467.8,11.3,71.3,11.3,3.7,20.2,326.3,382.0,382.0,326.3,467.8,350.1,199.9,170.0,723.4,11.3,382.0,723.4,40.5,382.0,71.3,723.4,40.5,382.0,3.7,382.0,326.3,3.7,40.5,350.1,20.2,40.5,20.2,199.9,40.5,382.0,199.9,3.7,71.3,170.0,40.5,350.1,350.1,199.9,326.3,71.3,199.9,326.3,723.4,723.4,723.4,20.2,11.3,326.3,723.4,723.4,3.7,3.7,382.0,467.8,11.3,326.3,467.8,11.3,723.4,382.0,40.5,40.5,71.3,71.3,11.3,382.0,326.3,326.3,20.2,3.7,3.7,326.3,199.9,40.5,20.2,3.7,199.9,170.0,467.8,382.0,382.0,350.1,3.7,326.3,350.1,326.3,350.1,40.5,3.7,467.8,326.3,382.0,199.9,723.4,326.3,40.5,20.2,723.4,326.3,3.7,199.9,40.5,326.3,20.2,20.2,350.1,170.0,382.0,40.5,467.8,723.4,467.8,350.1,467.8,40.5,199.9,40.5,11.3,199.9,326.3,467.8,20.2,40.5,3.7,3.7,382.0,723.4,326.3,723.4,11.3,199.9,199.9,40.5,40.5,382.0,40.5,382.0,3.7,326.3,350.1,723.4,326.3,20.2,11.3,199.9,723.4,170.0,326.3,40.5,3.7,20.2,40.5,11.3,71.3,71.3,20.2,20.2,199.9,350.1,170.0,199.9,11.3,40.5,11.3,20.2,326.3,199.9,71.3,199.9,467.8,3.7,170.0,170.0,3.7,350.1,3.7,350.1,71.3,350.1,20.2,382.0,40.5,326.3,170.0,199.9,40.5,723.4,20.2,199.9,20.2,71.3,20.2,3.7,382.0,71.3,326.3,382.0,170.0,170.0,326.3,3.7,71.3,3.7,3.7,382.0,350.1,199.9,71.3,350.1,350.1,326.3,350.1,40.5,40.5,11.3,326.3,723.4,11.3,350.1,382.0,382.0,11.3,199.9,723.4,40.5,20.2,20.2,350.1,723.4,467.8,170.0,326.3,71.3,11.3,71.3,3.7,326.3,326.3,170.0,170.0,20.2,40.5,467.8,71.3,11.3,20.2,71.3,199.9,71.3,40.5,3.7,326.3,350.1,11.3,11.3,40.5,199.9,350.1,467.8,71.3,170.0,11.3,11.3,723.4,350.1,11.3,350.1,11.3,170.0,382.0,170.0,3.7,40.5,326.3,350.1,170.0,723.4,199.9,170.0,20.2,382.0,467.8,350.1,170.0,723.4,40.5,170.0,326.3,170.0,71.3,723.4,11.3,20.2,199.9,71.3,326.3,723.4,382.0,20.2,467.8,170.0,326.3,71.3,350.1,40.5,723.4,170.0,170.0,170.0,382.0,382.0,199.9,467.8,199.9,40.5,199.9,350.1,20.2,40.5,3.7,3.7,20.2,40.5,40.5,350.1,382.0,723.4,170.0,20.2,20.2,326.3,382.0,3.7,3.7,3.7,350.1,723.4,71.3,170.0,382.0,350.1,723.4,11.3,170.0,326.3,71.3,382.0,723.4,350.1,350.1,382.0,20.2,350.1,20.2,20.2,326.3,3.7,350.1,11.3,170.0,71.3,71.3,170.0,11.3,382.0,71.3,382.0,350.1,350.1,3.7,723.4,170.0,3.7,3.7,40.5,382.0,40.5,326.3,3.7,350.1,723.4,199.9,20.2,40.5,199.9,20.2,20.2,199.9,20.2,71.3,199.9,199.9,20.2,723.4,467.8,11.3,199.9,326.3,20.2,11.3,199.9,723.4,199.9,3.7,170.0,11.3,326.3,20.2,40.5,467.8,71.3,11.3,11.3,3.7,199.9,350.1,350.1,382.0,20.2,11.3,11.3,3.7,20.2,71.3,467.8,723.4,199.9,382.0,382.0,467.8,467.8,723.4,20.2,467.8,326.3,3.7,40.5,382.0,40.5,326.3,467.8,3.7,723.4,723.4,199.9,382.0,723.4,71.3,350.1,11.3,40.5,71.3,382.0,11.3,350.1,382.0,170.0,3.7,40.5,11.3,3.7,3.7,170.0,40.5,467.8,382.0,382.0,723.4,350.1,326.3,20.2,199.9,326.3,170.0,40.5,199.9,350.1,199.9,326.3,723.4,326.3,382.0,3.7,11.3,382.0,11.3,11.3,326.3,723.4,40.5,199.9,326.3,170.0,326.3,326.3,20.2,350.1,382.0,20.2,3.7,326.3,11.3,170.0,11.3,723.4,71.3,3.7,71.3,199.9,350.1,3.7,3.7,40.5,199.9,350.1,199.9,40.5,71.3,71.3,326.3,71.3,11.3,382.0,467.8,723.4,723.4,71.3,20.2,3.7,350.1,350.1,350.1,350.1,467.8,20.2,350.1,723.4,199.9,11.3,382.0,71.3,382.0,723.4,71.3,467.8,199.9,20.2,20.2,382.0,3.7,199.9,3.7,382.0,71.3,71.3,723.4,170.0,71.3,382.0,40.5,350.1,3.7,170.0,11.3,3.7,350.1,3.7,382.0,20.2,40.5,467.8,199.9,382.0,723.4,40.5,11.3,40.5,3.7,71.3,326.3,723.4,199.9,382.0,3.7,382.0,467.8,40.5,723.4,170.0,199.9,20.2,723.4,467.8,382.0,11.3,199.9,467.8,350.1,40.5,467.8,326.3,11.3,350.1,170.0,3.7,170.0,40.5,20.2,326.3,723.4,11.3,199.9,199.9,326.3,723.4,382.0,350.1,20.2,11.3,40.5,199.9,170.0,20.2,723.4,326.3,467.8,3.7,11.3,11.3,350.1,199.9,326.3,382.0,467.8,3.7,40.5,199.9,350.1,170.0,11.3,723.4,723.4,199.9,326.3,11.3,723.4,170.0,71.3,382.0,11.3,467.8,467.8,326.3,326.3,40.5,3.7,326.3,382.0,382.0,382.0,199.9,20.2,20.2,199.9,170.0,11.3,170.0,199.9,350.1,71.3,350.1,723.4,40.5,3.7,723.4,170.0,723.4,382.0,11.3,40.5,467.8,71.3,3.7,467.8,382.0,170.0,467.8,71.3,71.3,40.5,467.8,11.3,170.0,382.0,199.9,3.7,467.8,199.9,71.3,723.4,467.8,3.7,71.3,350.1,20.2,11.3,326.3,467.8,3.7,20.2,20.2,20.2,40.5,71.3,350.1,11.3,723.4,382.0,40.5,170.0,71.3,326.3,20.2,723.4,71.3,382.0,11.3,40.5,326.3,3.7,382.0,3.7,40.5,723.4,382.0,467.8,199.9,723.4,723.4,71.3,3.7,20.2,326.3,467.8,199.9,20.2,350.1,170.0,170.0,350.1,11.3,326.3,170.0,3.7,199.9,11.3,71.3,71.3,382.0,723.4,382.0,40.5,11.3,20.2,20.2,723.4,71.3,170.0,382.0,20.2,170.0,170.0,20.2,71.3,3.7,170.0,199.9,467.8,170.0,723.4,467.8,3.7,467.8,20.2,40.5,3.7,3.7,3.7,723.4,20.2,723.4,170.0,3.7,3.7,3.7,71.3,71.3,11.3,350.1,199.9,11.3,71.3,3.7,170.0,382.0,326.3,40.5,723.4,40.5,199.9,11.3,71.3,350.1,199.9,199.9,326.3,723.4,467.8,20.2,723.4,20.2,350.1,71.3,723.4,11.3,382.0,40.5,326.3,11.3,199.9,71.3,199.9,11.3,170.0,11.3,71.3,326.3,3.7,40.5,20.2,199.9,170.0,3.7,350.1,40.5,3.7,3.7,350.1,723.4,71.3,382.0,71.3,723.4,350.1,71.3,20.2,40.5,723.4,40.5,326.3,350.1,467.8,11.3,326.3,71.3,20.2,467.8,71.3,20.2,382.0,382.0,170.0,71.3,199.9,382.0,723.4,326.3,467.8,382.0,199.9,199.9,326.3,20.2,170.0,40.5,382.0,20.2,723.4,11.3,467.8,467.8,170.0,11.3,199.9,71.3,326.3,723.4,71.3,11.3,40.5,326.3,467.8,20.2,11.3,11.3,3.7,199.9,20.2,723.4,11.3,11.3,326.3,71.3,71.3,723.4,199.9,350.1,382.0,40.5,11.3,3.7,723.4,71.3,11.3,3.7,350.1,71.3,382.0,350.1,382.0,71.3,71.3,71.3,11.3,326.3,3.7,40.5,3.7,40.5,326.3,350.1,71.3,71.3,467.8,350.1,350.1,20.2,11.3,326.3,326.3,71.3,723.4,40.5,467.8,170.0,170.0,199.9,40.5,326.3,40.5,170.0,20.2,3.7,3.7,350.1,326.3,20.2,11.3,20.2,382.0,467.8,723.4,3.7,170.0,11.3,723.4,326.3,20.2,350.1,3.7,350.1,350.1,20.2,382.0,170.0,199.9,3.7,382.0,170.0,326.3,382.0,20.2,350.1,20.2,11.3,199.9,20.2,199.9,170.0,3.7,326.3,11.3,326.3,170.0,382.0,170.0,71.3,11.3,467.8,350.1,382.0,3.7,3.7,326.3,71.3,20.2,350.1,723.4,20.2,199.9,170.0,170.0,40.5,20.2,199.9,11.3,20.2,467.8,382.0,199.9,467.8,11.3,71.3,170.0,71.3,71.3,11.3,20.2,20.2,350.1,326.3,20.2,350.1,40.5,11.3,170.0,20.2,467.8,382.0,382.0,3.7,170.0,170.0,40.5,382.0,199.9,170.0,723.4,382.0,40.5,326.3,11.3,723.4,3.7,170.0,71.3,467.8,350.1,3.7,326.3,3.7,170.0,723.4,350.1,326.3,199.9,170.0,199.9,71.3,723.4,71.3,170.0,326.3,40.5,723.4,40.5,723.4,71.3,467.8,3.7,199.9,11.3,11.3,350.1,382.0,40.5,170.0,723.4,199.9,71.3,199.9,467.8,199.9,326.3,20.2,723.4,40.5,350.1,350.1,71.3,3.7,170.0,382.0,11.3,71.3,382.0,3.7,40.5,170.0,723.4,326.3,170.0,20.2,20.2,170.0,20.2,350.1,199.9,11.3,20.2,170.0,20.2,170.0,170.0,382.0,40.5,326.3,3.7,326.3,382.0,3.7,326.3,170.0,20.2,382.0,20.2,199.9,11.3,11.3,723.4,326.3,199.9,723.4,170.0,326.3,11.3,170.0,350.1,382.0,382.0,326.3,326.3,40.5,3.7,20.2,467.8,723.4,350.1,382.0,11.3,467.8,3.7,326.3,170.0,467.8,467.8,40.5,11.3,199.9,170.0,20.2,382.0,40.5,170.0,382.0,467.8,20.2,170.0,467.8,199.9,170.0,467.8,199.9,170.0,20.2,326.3,199.9,3.7,3.7,467.8,170.0,467.8,350.1,71.3,350.1,3.7,467.8,71.3,40.5,20.2,71.3,11.3,467.8,199.9,350.1,20.2,350.1,3.7,11.3,11.3,382.0,382.0,170.0,40.5,20.2,40.5,20.2,467.8,382.0,11.3,11.3,723.4,20.2,199.9,11.3,11.3,170.0,3.7,326.3,382.0,3.7,467.8,350.1,350.1,199.9,382.0,170.0,199.9,326.3,350.1,20.2,40.5,467.8,199.9,199.9,350.1,199.9,3.7,3.7,3.7,170.0,326.3,467.8,467.8,723.4,199.9,20.2,170.0,467.8,11.3,11.3,71.3,170.0,20.2,467.8,40.5,71.3,20.2,40.5,382.0,326.3,20.2,11.3,326.3,170.0,40.5,382.0,467.8,723.4,723.4,71.3,170.0,350.1,326.3,11.3,382.0,40.5,199.9,350.1,326.3,71.3,40.5,326.3,20.2,199.9,326.3,350.1,326.3,723.4,71.3,199.9,3.7,723.4,467.8,170.0,20.2,71.3,723.4,11.3,40.5,40.5,326.3,467.8,11.3,170.0,467.8,199.9,467.8,71.3,20.2,199.9,723.4,350.1,199.9,350.1,326.3,382.0,467.8,11.3,723.4,199.9,723.4,382.0,3.7,3.7,71.3,350.1,40.5,350.1,20.2,326.3,71.3,382.0,350.1,467.8,723.4,11.3,326.3,20.2,382.0,170.0,350.1,40.5,71.3,723.4,467.8,350.1,382.0,382.0,382.0,11.3,326.3,40.5,382.0,382.0,326.3,3.7,20.2,20.2,350.1,11.3,350.1,467.8,20.2,382.0,20.2,20.2,3.7,40.5,40.5,723.4,3.7,382.0,40.5,382.0,326.3,467.8,382.0,40.5,71.3,40.5,3.7,350.1,723.4,199.9,199.9,467.8,20.2,723.4,20.2,20.2,467.8,350.1,723.4,3.7,467.8,20.2,723.4,11.3,467.8,11.3,326.3,20.2,3.7,170.0,3.7,382.0,11.3,382.0,382.0,723.4,467.8,326.3,723.4,20.2,40.5,11.3,382.0,40.5,11.3,326.3,723.4,20.2,326.3,723.4,326.3,326.3,350.1,40.5,20.2,723.4,467.8,199.9,11.3,326.3,723.4,40.5,326.3,71.3,723.4,326.3,3.7,350.1,40.5,3.7,350.1,11.3,467.8,11.3,20.2,199.9,20.2,199.9,20.2,71.3,170.0,326.3,326.3,170.0,199.9,467.8,3.7,199.9,199.9,199.9,20.2,20.2,467.8,350.1,170.0,467.8,199.9,71.3,20.2,40.5,467.8,11.3,467.8,723.4,20.2,71.3,3.7,326.3,723.4,20.2,40.5,382.0,3.7,170.0,40.5,11.3,723.4,20.2,11.3,467.8,350.1,3.7,326.3,71.3,199.9,11.3,170.0,723.4,11.3,326.3,382.0,40.5,3.7,40.5,40.5,40.5,20.2,40.5,199.9,199.9,170.0,326.3,170.0,3.7,467.8,20.2,40.5,170.0,467.8,199.9,3.7,3.7,20.2,199.9,20.2,71.3,467.8,326.3,199.9,40.5,326.3,170.0,326.3,350.1,11.3,467.8,467.8,467.8,3.7,3.7,723.4,170.0,326.3,723.4,20.2,20.2,723.4,723.4,326.3,199.9,170.0,3.7,3.7,467.8,382.0,20.2,40.5,350.1,20.2,326.3,71.3,350.1,170.0,350.1,467.8,467.8,20.2,326.3,382.0,723.4,11.3,20.2,20.2,71.3,723.4,326.3,467.8,71.3,723.4,199.9,199.9,723.4,382.0,71.3,723.4,3.7,723.4,723.4,467.8,170.0,3.7,170.0,71.3,199.9,3.7,326.3,20.2,20.2,71.3,382.0,723.4,326.3,199.9,382.0,20.2,3.7,3.7,382.0,11.3,326.3,3.7,40.5,723.4,382.0,40.5,20.2,3.7,326.3,199.9,20.2,3.7,382.0,467.8,350.1,326.3,11.3,350.1,467.8,3.7,71.3,723.4,350.1,40.5,350.1,170.0,40.5,382.0,71.3,382.0,382.0,199.9,170.0,199.9,170.0,40.5,199.9,40.5,467.8,199.9,11.3,40.5,20.2,71.3,40.5,40.5,3.7,170.0,170.0,199.9,382.0,350.1,350.1,170.0,467.8,199.9,199.9,350.1,199.9,326.3,723.4,199.9,170.0,326.3,11.3,20.2,350.1,350.1,382.0,71.3,20.2,40.5,382.0,723.4,170.0,40.5,326.3,3.7,382.0,71.3,350.1,11.3,723.4,170.0,20.2,350.1,350.1,350.1,20.2,40.5,71.3,40.5,20.2,40.5,71.3,723.4,199.9,382.0,71.3,326.3,350.1,11.3,11.3,170.0,382.0,71.3,326.3,467.8,326.3,40.5,3.7,40.5,3.7,382.0,326.3,170.0,3.7,71.3,723.4,71.3,199.9,71.3,382.0,723.4,20.2,3.7,20.2,170.0,71.3,467.8,3.7,40.5,11.3,723.4,40.5,723.4,71.3,20.2,40.5,71.3,20.2,170.0,326.3,350.1,382.0,3.7,40.5,326.3,20.2,170.0,382.0,723.4,71.3,326.3,350.1,723.4,71.3,71.3,3.7,40.5,11.3,350.1,467.8,723.4,20.2,723.4,3.7,20.2,382.0,20.2,382.0,723.4,723.4,40.5,71.3,3.7,350.1,71.3,11.3,40.5,350.1,3.7,382.0,40.5,326.3,199.9,326.3,11.3,723.4,350.1,382.0,11.3,170.0,199.9,20.2,40.5,723.4,723.4,40.5,467.8,350.1,40.5,170.0,3.7,350.1,382.0,170.0,467.8,3.7,170.0,350.1,467.8,199.9,71.3,20.2,467.8,326.3,71.3,20.2,382.0,326.3,40.5,20.2,326.3,382.0,326.3,382.0,326.3,11.3,71.3,11.3,199.9,199.9,326.3,71.3,40.5,723.4,350.1,382.0,326.3,467.8,723.4,350.1,20.2,199.9,20.2,3.7,71.3,170.0,20.2,350.1,20.2,199.9,382.0,11.3,71.3,326.3,71.3,40.5,723.4,40.5,40.5,326.3,11.3,326.3,350.1,326.3,40.5,3.7,350.1,326.3,326.3,170.0,382.0,40.5,3.7,170.0,326.3,3.7,40.5,199.9,170.0,40.5,382.0,382.0,350.1,199.9,40.5,467.8,723.4,326.3,40.5,71.3,170.0,3.7,467.8,3.7,326.3,382.0,71.3,382.0,350.1,3.7,170.0,723.4,3.7,71.3,11.3,3.7,199.9,170.0,350.1,40.5,199.9,723.4,170.0,350.1,467.8,350.1,11.3,350.1,199.9,382.0,170.0,170.0,20.2,350.1,382.0,350.1,3.7,199.9,20.2,199.9,467.8,467.8,326.3,467.8,199.9,723.4,71.3,350.1,20.2,382.0,71.3,11.3,20.2,11.3,71.3,326.3,199.9,382.0,382.0,40.5,326.3,199.9,40.5,350.1,40.5,20.2,326.3,3.7,723.4,11.3,382.0,3.7,170.0,71.3,382.0,3.7,40.5,326.3,3.7,3.7,723.4,326.3,20.2,350.1,350.1,20.2,199.9,170.0,350.1,467.8,326.3,71.3,11.3,382.0,170.0,467.8,382.0,3.7,467.8,11.3,199.9,170.0,170.0,40.5,326.3,11.3,3.7,20.2,20.2,467.8,199.9,326.3,723.4,350.1,199.9,350.1,382.0,467.8,170.0,199.9,723.4,71.3,467.8,382.0,20.2,11.3,40.5,350.1,723.4,723.4,170.0,350.1,71.3,11.3,723.4,382.0,350.1,71.3,199.9,40.5,71.3,20.2,382.0,3.7,71.3,40.5,40.5,467.8,170.0,40.5,350.1,723.4,382.0,382.0,382.0,326.3,3.7,199.9,199.9,467.8,71.3,350.1,3.7,467.8,382.0,723.4,326.3,170.0,71.3,350.1,11.3,3.7,382.0,382.0,199.9,723.4,3.7,40.5,350.1,11.3,3.7,723.4,11.3,40.5,326.3,326.3,326.3,723.4,382.0,40.5,40.5,40.5,326.3,382.0,3.7,71.3,11.3,350.1,723.4,40.5,20.2,20.2,326.3,467.8,467.8,71.3,170.0,382.0,3.7,382.0,3.7,350.1,350.1,11.3,20.2,3.7,3.7,723.4,326.3,326.3,350.1,723.4,11.3,326.3,170.0,382.0,71.3,382.0,723.4,723.4,3.7,326.3,350.1,723.4,20.2,467.8,382.0,350.1,3.7,40.5,170.0,326.3,326.3,467.8,326.3,382.0,467.8,11.3,170.0,20.2,350.1,467.8,20.2,11.3,170.0,199.9,11.3,350.1,326.3,170.0,40.5,199.9,71.3,11.3,326.3,723.4,199.9,382.0,20.2,723.4,71.3,40.5,170.0,382.0,71.3,199.9,3.7,71.3,40.5,467.8,382.0,3.7,11.3,40.5,199.9,350.1,170.0,350.1,723.4,71.3,3.7,382.0,71.3,40.5,382.0,326.3,199.9,40.5,11.3,3.7,3.7,40.5,382.0,382.0,326.3,382.0,3.7,723.4,382.0,199.9,382.0,382.0,723.4,71.3,326.3,170.0,382.0,11.3,3.7,382.0,467.8,326.3,11.3,3.7,199.9,170.0,40.5,199.9,382.0,11.3,382.0,170.0,11.3,467.8,382.0,723.4,467.8,3.7,723.4,723.4,350.1,199.9,326.3,20.2,326.3,170.0,71.3,20.2,467.8,170.0,3.7,20.2,382.0,170.0,723.4,382.0,71.3,467.8,170.0,350.1,40.5,11.3,467.8,20.2,40.5,350.1,199.9,326.3,20.2,20.2,20.2,40.5,40.5,170.0,199.9,467.8,170.0,723.4,3.7,350.1,382.0,71.3,199.9,326.3,723.4,723.4,350.1,199.9,382.0,326.3,11.3,71.3,350.1,71.3,3.7,20.2,170.0,20.2,350.1,199.9,350.1,723.4,350.1,350.1,71.3,723.4,170.0,350.1,382.0,40.5,71.3,3.7,723.4,723.4,350.1,326.3,350.1,350.1,723.4,3.7,199.9,71.3,170.0,723.4,382.0,170.0,326.3,40.5,170.0,350.1,199.9,40.5,3.7,3.7,40.5,20.2,350.1,20.2,40.5,40.5,20.2,170.0,170.0,170.0,382.0,723.4,326.3,723.4,350.1,11.3,723.4,20.2,11.3,723.4,71.3,71.3,199.9,170.0,40.5,71.3,723.4,350.1,3.7,723.4,71.3,20.2,3.7,40.5,71.3,71.3,382.0,20.2,326.3,199.9,326.3,11.3,170.0,326.3,199.9,467.8,467.8,326.3,170.0,11.3,382.0,382.0,382.0,382.0,71.3,170.0,170.0,20.2,350.1,326.3,199.9,350.1,40.5,3.7,199.9,20.2,723.4,40.5,350.1,723.4,350.1,199.9,71.3,40.5,350.1,170.0,71.3,723.4,40.5,350.1,326.3,467.8,382.0,382.0,20.2,3.7,11.3,350.1,71.3,723.4,326.3,199.9,71.3,71.3,170.0,40.5,20.2,382.0,199.9,20.2,326.3,11.3,71.3,467.8,350.1,40.5,170.0,170.0,170.0,723.4,3.7,467.8,723.4,326.3,350.1,170.0,467.8,723.4,350.1,71.3,199.9,20.2,20.2,170.0,71.3,40.5,170.0,3.7,350.1,326.3,170.0,20.2,326.3,20.2,326.3,20.2,199.9,723.4,326.3,723.4,170.0,40.5,467.8,382.0,40.5,382.0,40.5,723.4,199.9,11.3,723.4,71.3,326.3,326.3,723.4,199.9,326.3,3.7,467.8,382.0,199.9,3.7,40.5,350.1,326.3,3.7,350.1,71.3,3.7,71.3,40.5,20.2,20.2,723.4,723.4,350.1,199.9,170.0,467.8,40.5,11.3,3.7,11.3,467.8,3.7,40.5,170.0,350.1,20.2,350.1,350.1,382.0,71.3,71.3,199.9,170.0,723.4,71.3,20.2,199.9,199.9,382.0,326.3,199.9,170.0,723.4,40.5,326.3,40.5,71.3,11.3,199.9,199.9,20.2,382.0,3.7,199.9,20.2,350.1,467.8,170.0,40.5,382.0,467.8,3.7,11.3,170.0,11.3,199.9,382.0,3.7,3.7,20.2,3.7,71.3,71.3,326.3,467.8,71.3,199.9,723.4,170.0,3.7,199.9,20.2,326.3,3.7,40.5,170.0,3.7,3.7,40.5,20.2,11.3,199.9,350.1,326.3,40.5,326.3,20.2,326.3,467.8,11.3,40.5,723.4,40.5,382.0,467.8,71.3,382.0,199.9,71.3,71.3,723.4,20.2,3.7,11.3,350.1,326.3,20.2,199.9,20.2,326.3,326.3,326.3,170.0,3.7,723.4,723.4,199.9,199.9,723.4,20.2,723.4,723.4,382.0,467.8,40.5,467.8,467.8,350.1,71.3,11.3,40.5,40.5,350.1,40.5,11.3,40.5,326.3,382.0,326.3,3.7,199.9,326.3,40.5,199.9,723.4,199.9,326.3,326.3,71.3,11.3,326.3,326.3,71.3,199.9,20.2,350.1,723.4,170.0,350.1,723.4,20.2,3.7,3.7,199.9,11.3,3.7,20.2,723.4,326.3,71.3,350.1,71.3,199.9,382.0,170.0,20.2,723.4,11.3,170.0,71.3,11.3,11.3,467.8,199.9,350.1,467.8,170.0,170.0,3.7,467.8,467.8,20.2,382.0,326.3,382.0,170.0,350.1,326.3,467.8,723.4,199.9,350.1,382.0,71.3,3.7,723.4,467.8,723.4,11.3,723.4,170.0,40.5,71.3,467.8,199.9,382.0,40.5,11.3,3.7,723.4,40.5,326.3,467.8,11.3,326.3,467.8,170.0,40.5,11.3,11.3,326.3,170.0,170.0,20.2,326.3,467.8,71.3,71.3,3.7,199.9,170.0,326.3,199.9,20.2,11.3,723.4,350.1,71.3,199.9,40.5,20.2,382.0,3.7,326.3,3.7,199.9,326.3,350.1,723.4,382.0,723.4,326.3,350.1,11.3,350.1,199.9,11.3,40.5,170.0,40.5,199.9,199.9,199.9,3.7,20.2,467.8,20.2,170.0,20.2,20.2,199.9,382.0,3.7,199.9,11.3,20.2,723.4,170.0,199.9,170.0,40.5,20.2,350.1,326.3,723.4,723.4,199.9,20.2,11.3,71.3,723.4,11.3,467.8,40.5,350.1,382.0,467.8,350.1,326.3,467.8,723.4,20.2,40.5,382.0,40.5,350.1,350.1,20.2,170.0,326.3,170.0,71.3,467.8,350.1,199.9,20.2,350.1,20.2,467.8,170.0,326.3,11.3,71.3,723.4,40.5,11.3,326.3,71.3,723.4,20.2,199.9,3.7,326.3,3.7,350.1,71.3,199.9,350.1,20.2,71.3,467.8,326.3,11.3,199.9,11.3,382.0,71.3,40.5,199.9,170.0,199.9,71.3,40.5,3.7,467.8,20.2,467.8,199.9,199.9,350.1,11.3,20.2,350.1,382.0,71.3,723.4,723.4,382.0,3.7,11.3,170.0,723.4,3.7,20.2,326.3,3.7,3.7,40.5,382.0,467.8,71.3,723.4,382.0,170.0,326.3,723.4,170.0,71.3,170.0,467.8,71.3,382.0,350.1,170.0,20.2,199.9,326.3,723.4,467.8,723.4,326.3,723.4,71.3,723.4,723.4,199.9,11.3,71.3,11.3,40.5,382.0,40.5,326.3,350.1,723.4,326.3,723.4,40.5,326.3,723.4,199.9,11.3,382.0,11.3,3.7,382.0,71.3,20.2,467.8,350.1,71.3,3.7,723.4,326.3,199.9,350.1,170.0,20.2,71.3,71.3,723.4,326.3,350.1,40.5,71.3,3.7,467.8,350.1,723.4,3.7,71.3,3.7,467.8,326.3,326.3,20.2,3.7,40.5,199.9,11.3,382.0,71.3,199.9,382.0,350.1,40.5,3.7,20.2,199.9,723.4,723.4,20.2,20.2,170.0,382.0,20.2,199.9,382.0,326.3,723.4,326.3,467.8,71.3,199.9,199.9,170.0,170.0,71.3,170.0,199.9,199.9,20.2,170.0,3.7,3.7,71.3,723.4,40.5,723.4,326.3,40.5,723.4,40.5,350.1,40.5,467.8,3.7,382.0,382.0,11.3,71.3,723.4,40.5,71.3,723.4,11.3,20.2,170.0,350.1,170.0,199.9,3.7,723.4,350.1,40.5,71.3,40.5,71.3,3.7,20.2,3.7,199.9,170.0,326.3,20.2,350.1,20.2,71.3,3.7,40.5,382.0,71.3,326.3,71.3,40.5,11.3,11.3,170.0,350.1,382.0,467.8,199.9,382.0,3.7,11.3,20.2,71.3,71.3,382.0,199.9,723.4,723.4,723.4,71.3,199.9,350.1,350.1,40.5,199.9,199.9,20.2,199.9,71.3,3.7,11.3,11.3,723.4],\"type\":\"box\",\"xaxis\":\"x6\",\"yaxis\":\"y6\"}],                        {\"template\":{\"data\":{\"bar\":[{\"error_x\":{\"color\":\"#2a3f5f\"},\"error_y\":{\"color\":\"#2a3f5f\"},\"marker\":{\"line\":{\"color\":\"#E5ECF6\",\"width\":0.5},\"pattern\":{\"fillmode\":\"overlay\",\"size\":10,\"solidity\":0.2}},\"type\":\"bar\"}],\"barpolar\":[{\"marker\":{\"line\":{\"color\":\"#E5ECF6\",\"width\":0.5},\"pattern\":{\"fillmode\":\"overlay\",\"size\":10,\"solidity\":0.2}},\"type\":\"barpolar\"}],\"carpet\":[{\"aaxis\":{\"endlinecolor\":\"#2a3f5f\",\"gridcolor\":\"white\",\"linecolor\":\"white\",\"minorgridcolor\":\"white\",\"startlinecolor\":\"#2a3f5f\"},\"baxis\":{\"endlinecolor\":\"#2a3f5f\",\"gridcolor\":\"white\",\"linecolor\":\"white\",\"minorgridcolor\":\"white\",\"startlinecolor\":\"#2a3f5f\"},\"type\":\"carpet\"}],\"choropleth\":[{\"colorbar\":{\"outlinewidth\":0,\"ticks\":\"\"},\"type\":\"choropleth\"}],\"contour\":[{\"colorbar\":{\"outlinewidth\":0,\"ticks\":\"\"},\"colorscale\":[[0.0,\"#0d0887\"],[0.1111111111111111,\"#46039f\"],[0.2222222222222222,\"#7201a8\"],[0.3333333333333333,\"#9c179e\"],[0.4444444444444444,\"#bd3786\"],[0.5555555555555556,\"#d8576b\"],[0.6666666666666666,\"#ed7953\"],[0.7777777777777778,\"#fb9f3a\"],[0.8888888888888888,\"#fdca26\"],[1.0,\"#f0f921\"]],\"type\":\"contour\"}],\"contourcarpet\":[{\"colorbar\":{\"outlinewidth\":0,\"ticks\":\"\"},\"type\":\"contourcarpet\"}],\"heatmap\":[{\"colorbar\":{\"outlinewidth\":0,\"ticks\":\"\"},\"colorscale\":[[0.0,\"#0d0887\"],[0.1111111111111111,\"#46039f\"],[0.2222222222222222,\"#7201a8\"],[0.3333333333333333,\"#9c179e\"],[0.4444444444444444,\"#bd3786\"],[0.5555555555555556,\"#d8576b\"],[0.6666666666666666,\"#ed7953\"],[0.7777777777777778,\"#fb9f3a\"],[0.8888888888888888,\"#fdca26\"],[1.0,\"#f0f921\"]],\"type\":\"heatmap\"}],\"heatmapgl\":[{\"colorbar\":{\"outlinewidth\":0,\"ticks\":\"\"},\"colorscale\":[[0.0,\"#0d0887\"],[0.1111111111111111,\"#46039f\"],[0.2222222222222222,\"#7201a8\"],[0.3333333333333333,\"#9c179e\"],[0.4444444444444444,\"#bd3786\"],[0.5555555555555556,\"#d8576b\"],[0.6666666666666666,\"#ed7953\"],[0.7777777777777778,\"#fb9f3a\"],[0.8888888888888888,\"#fdca26\"],[1.0,\"#f0f921\"]],\"type\":\"heatmapgl\"}],\"histogram\":[{\"marker\":{\"pattern\":{\"fillmode\":\"overlay\",\"size\":10,\"solidity\":0.2}},\"type\":\"histogram\"}],\"histogram2d\":[{\"colorbar\":{\"outlinewidth\":0,\"ticks\":\"\"},\"colorscale\":[[0.0,\"#0d0887\"],[0.1111111111111111,\"#46039f\"],[0.2222222222222222,\"#7201a8\"],[0.3333333333333333,\"#9c179e\"],[0.4444444444444444,\"#bd3786\"],[0.5555555555555556,\"#d8576b\"],[0.6666666666666666,\"#ed7953\"],[0.7777777777777778,\"#fb9f3a\"],[0.8888888888888888,\"#fdca26\"],[1.0,\"#f0f921\"]],\"type\":\"histogram2d\"}],\"histogram2dcontour\":[{\"colorbar\":{\"outlinewidth\":0,\"ticks\":\"\"},\"colorscale\":[[0.0,\"#0d0887\"],[0.1111111111111111,\"#46039f\"],[0.2222222222222222,\"#7201a8\"],[0.3333333333333333,\"#9c179e\"],[0.4444444444444444,\"#bd3786\"],[0.5555555555555556,\"#d8576b\"],[0.6666666666666666,\"#ed7953\"],[0.7777777777777778,\"#fb9f3a\"],[0.8888888888888888,\"#fdca26\"],[1.0,\"#f0f921\"]],\"type\":\"histogram2dcontour\"}],\"mesh3d\":[{\"colorbar\":{\"outlinewidth\":0,\"ticks\":\"\"},\"type\":\"mesh3d\"}],\"parcoords\":[{\"line\":{\"colorbar\":{\"outlinewidth\":0,\"ticks\":\"\"}},\"type\":\"parcoords\"}],\"pie\":[{\"automargin\":true,\"type\":\"pie\"}],\"scatter\":[{\"marker\":{\"colorbar\":{\"outlinewidth\":0,\"ticks\":\"\"}},\"type\":\"scatter\"}],\"scatter3d\":[{\"line\":{\"colorbar\":{\"outlinewidth\":0,\"ticks\":\"\"}},\"marker\":{\"colorbar\":{\"outlinewidth\":0,\"ticks\":\"\"}},\"type\":\"scatter3d\"}],\"scattercarpet\":[{\"marker\":{\"colorbar\":{\"outlinewidth\":0,\"ticks\":\"\"}},\"type\":\"scattercarpet\"}],\"scattergeo\":[{\"marker\":{\"colorbar\":{\"outlinewidth\":0,\"ticks\":\"\"}},\"type\":\"scattergeo\"}],\"scattergl\":[{\"marker\":{\"colorbar\":{\"outlinewidth\":0,\"ticks\":\"\"}},\"type\":\"scattergl\"}],\"scattermapbox\":[{\"marker\":{\"colorbar\":{\"outlinewidth\":0,\"ticks\":\"\"}},\"type\":\"scattermapbox\"}],\"scatterpolar\":[{\"marker\":{\"colorbar\":{\"outlinewidth\":0,\"ticks\":\"\"}},\"type\":\"scatterpolar\"}],\"scatterpolargl\":[{\"marker\":{\"colorbar\":{\"outlinewidth\":0,\"ticks\":\"\"}},\"type\":\"scatterpolargl\"}],\"scatterternary\":[{\"marker\":{\"colorbar\":{\"outlinewidth\":0,\"ticks\":\"\"}},\"type\":\"scatterternary\"}],\"surface\":[{\"colorbar\":{\"outlinewidth\":0,\"ticks\":\"\"},\"colorscale\":[[0.0,\"#0d0887\"],[0.1111111111111111,\"#46039f\"],[0.2222222222222222,\"#7201a8\"],[0.3333333333333333,\"#9c179e\"],[0.4444444444444444,\"#bd3786\"],[0.5555555555555556,\"#d8576b\"],[0.6666666666666666,\"#ed7953\"],[0.7777777777777778,\"#fb9f3a\"],[0.8888888888888888,\"#fdca26\"],[1.0,\"#f0f921\"]],\"type\":\"surface\"}],\"table\":[{\"cells\":{\"fill\":{\"color\":\"#EBF0F8\"},\"line\":{\"color\":\"white\"}},\"header\":{\"fill\":{\"color\":\"#C8D4E3\"},\"line\":{\"color\":\"white\"}},\"type\":\"table\"}]},\"layout\":{\"annotationdefaults\":{\"arrowcolor\":\"#2a3f5f\",\"arrowhead\":0,\"arrowwidth\":1},\"autotypenumbers\":\"strict\",\"coloraxis\":{\"colorbar\":{\"outlinewidth\":0,\"ticks\":\"\"}},\"colorscale\":{\"diverging\":[[0,\"#8e0152\"],[0.1,\"#c51b7d\"],[0.2,\"#de77ae\"],[0.3,\"#f1b6da\"],[0.4,\"#fde0ef\"],[0.5,\"#f7f7f7\"],[0.6,\"#e6f5d0\"],[0.7,\"#b8e186\"],[0.8,\"#7fbc41\"],[0.9,\"#4d9221\"],[1,\"#276419\"]],\"sequential\":[[0.0,\"#0d0887\"],[0.1111111111111111,\"#46039f\"],[0.2222222222222222,\"#7201a8\"],[0.3333333333333333,\"#9c179e\"],[0.4444444444444444,\"#bd3786\"],[0.5555555555555556,\"#d8576b\"],[0.6666666666666666,\"#ed7953\"],[0.7777777777777778,\"#fb9f3a\"],[0.8888888888888888,\"#fdca26\"],[1.0,\"#f0f921\"]],\"sequentialminus\":[[0.0,\"#0d0887\"],[0.1111111111111111,\"#46039f\"],[0.2222222222222222,\"#7201a8\"],[0.3333333333333333,\"#9c179e\"],[0.4444444444444444,\"#bd3786\"],[0.5555555555555556,\"#d8576b\"],[0.6666666666666666,\"#ed7953\"],[0.7777777777777778,\"#fb9f3a\"],[0.8888888888888888,\"#fdca26\"],[1.0,\"#f0f921\"]]},\"colorway\":[\"#636efa\",\"#EF553B\",\"#00cc96\",\"#ab63fa\",\"#FFA15A\",\"#19d3f3\",\"#FF6692\",\"#B6E880\",\"#FF97FF\",\"#FECB52\"],\"font\":{\"color\":\"#2a3f5f\"},\"geo\":{\"bgcolor\":\"white\",\"lakecolor\":\"white\",\"landcolor\":\"#E5ECF6\",\"showlakes\":true,\"showland\":true,\"subunitcolor\":\"white\"},\"hoverlabel\":{\"align\":\"left\"},\"hovermode\":\"closest\",\"mapbox\":{\"style\":\"light\"},\"paper_bgcolor\":\"white\",\"plot_bgcolor\":\"#E5ECF6\",\"polar\":{\"angularaxis\":{\"gridcolor\":\"white\",\"linecolor\":\"white\",\"ticks\":\"\"},\"bgcolor\":\"#E5ECF6\",\"radialaxis\":{\"gridcolor\":\"white\",\"linecolor\":\"white\",\"ticks\":\"\"}},\"scene\":{\"xaxis\":{\"backgroundcolor\":\"#E5ECF6\",\"gridcolor\":\"white\",\"gridwidth\":2,\"linecolor\":\"white\",\"showbackground\":true,\"ticks\":\"\",\"zerolinecolor\":\"white\"},\"yaxis\":{\"backgroundcolor\":\"#E5ECF6\",\"gridcolor\":\"white\",\"gridwidth\":2,\"linecolor\":\"white\",\"showbackground\":true,\"ticks\":\"\",\"zerolinecolor\":\"white\"},\"zaxis\":{\"backgroundcolor\":\"#E5ECF6\",\"gridcolor\":\"white\",\"gridwidth\":2,\"linecolor\":\"white\",\"showbackground\":true,\"ticks\":\"\",\"zerolinecolor\":\"white\"}},\"shapedefaults\":{\"line\":{\"color\":\"#2a3f5f\"}},\"ternary\":{\"aaxis\":{\"gridcolor\":\"white\",\"linecolor\":\"white\",\"ticks\":\"\"},\"baxis\":{\"gridcolor\":\"white\",\"linecolor\":\"white\",\"ticks\":\"\"},\"bgcolor\":\"#E5ECF6\",\"caxis\":{\"gridcolor\":\"white\",\"linecolor\":\"white\",\"ticks\":\"\"}},\"title\":{\"x\":0.05},\"xaxis\":{\"automargin\":true,\"gridcolor\":\"white\",\"linecolor\":\"white\",\"ticks\":\"\",\"title\":{\"standoff\":15},\"zerolinecolor\":\"white\",\"zerolinewidth\":2},\"yaxis\":{\"automargin\":true,\"gridcolor\":\"white\",\"linecolor\":\"white\",\"ticks\":\"\",\"title\":{\"standoff\":15},\"zerolinecolor\":\"white\",\"zerolinewidth\":2}}},\"xaxis\":{\"anchor\":\"y\",\"domain\":[0.0,0.2888888888888889]},\"yaxis\":{\"anchor\":\"x\",\"domain\":[0.625,1.0]},\"xaxis2\":{\"anchor\":\"y2\",\"domain\":[0.35555555555555557,0.6444444444444445]},\"yaxis2\":{\"anchor\":\"x2\",\"domain\":[0.625,1.0]},\"xaxis3\":{\"anchor\":\"y3\",\"domain\":[0.7111111111111111,1.0]},\"yaxis3\":{\"anchor\":\"x3\",\"domain\":[0.625,1.0]},\"xaxis4\":{\"anchor\":\"y4\",\"domain\":[0.0,0.2888888888888889]},\"yaxis4\":{\"anchor\":\"x4\",\"domain\":[0.0,0.375]},\"xaxis5\":{\"anchor\":\"y5\",\"domain\":[0.35555555555555557,0.6444444444444445]},\"yaxis5\":{\"anchor\":\"x5\",\"domain\":[0.0,0.375]},\"xaxis6\":{\"anchor\":\"y6\",\"domain\":[0.7111111111111111,1.0]},\"yaxis6\":{\"anchor\":\"x6\",\"domain\":[0.0,0.375]},\"annotations\":[{\"font\":{\"size\":16},\"showarrow\":false,\"text\":\"Quantity\",\"x\":0.14444444444444446,\"xanchor\":\"center\",\"xref\":\"paper\",\"y\":1.0,\"yanchor\":\"bottom\",\"yref\":\"paper\"},{\"font\":{\"size\":16},\"showarrow\":false,\"text\":\"Price\",\"x\":0.5,\"xanchor\":\"center\",\"xref\":\"paper\",\"y\":1.0,\"yanchor\":\"bottom\",\"yref\":\"paper\"},{\"font\":{\"size\":16},\"showarrow\":false,\"text\":\"Rate\",\"x\":0.8555555555555556,\"xanchor\":\"center\",\"xref\":\"paper\",\"y\":1.0,\"yanchor\":\"bottom\",\"yref\":\"paper\"},{\"font\":{\"size\":16},\"showarrow\":false,\"text\":\"City_Area\",\"x\":0.14444444444444446,\"xanchor\":\"center\",\"xref\":\"paper\",\"y\":0.375,\"yanchor\":\"bottom\",\"yref\":\"paper\"},{\"font\":{\"size\":16},\"showarrow\":false,\"text\":\"City_Population\",\"x\":0.5,\"xanchor\":\"center\",\"xref\":\"paper\",\"y\":0.375,\"yanchor\":\"bottom\",\"yref\":\"paper\"},{\"font\":{\"size\":16},\"showarrow\":false,\"text\":\"City_Density(people/km2)\",\"x\":0.8555555555555556,\"xanchor\":\"center\",\"xref\":\"paper\",\"y\":0.375,\"yanchor\":\"bottom\",\"yref\":\"paper\"}],\"margin\":{\"l\":20,\"r\":20,\"t\":45,\"b\":20},\"height\":600,\"width\":800,\"title\":{\"text\":\"Spread of Numerical Data in the Sales Dataset\"}},                        {\"responsive\": true}                    ).then(function(){\n",
              "                            \n",
              "var gd = document.getElementById('ba2b0579-1d69-4e25-8f73-d2dc365e91e6');\n",
              "var x = new MutationObserver(function (mutations, observer) {{\n",
              "        var display = window.getComputedStyle(gd).display;\n",
              "        if (!display || display === 'none') {{\n",
              "            console.log([gd, 'removed!']);\n",
              "            Plotly.purge(gd);\n",
              "            observer.disconnect();\n",
              "        }}\n",
              "}});\n",
              "\n",
              "// Listen for the removal of the full notebook cells\n",
              "var notebookContainer = gd.closest('#notebook-container');\n",
              "if (notebookContainer) {{\n",
              "    x.observe(notebookContainer, {childList: true});\n",
              "}}\n",
              "\n",
              "// Listen for the clearing of the current output cell\n",
              "var outputEl = gd.closest('.output');\n",
              "if (outputEl) {{\n",
              "    x.observe(outputEl, {childList: true});\n",
              "}}\n",
              "\n",
              "                        })                };                            </script>        </div>\n",
              "</body>\n",
              "</html>"
            ]
          },
          "metadata": {}
        }
      ]
    },
    {
      "cell_type": "markdown",
      "source": [
        "There are potential outliers in the columns City_Popualtion, City_Area, and Quantity. We will explore them further with Rosner's Test later."
      ],
      "metadata": {
        "id": "VtgAEyAktx71"
      }
    },
    {
      "cell_type": "markdown",
      "source": [
        "# Feature Creation"
      ],
      "metadata": {
        "id": "tFhTem5uuVpo"
      }
    },
    {
      "cell_type": "markdown",
      "metadata": {
        "id": "bJjXbIwXkAde"
      },
      "source": [
        "## Customer Age"
      ]
    },
    {
      "cell_type": "code",
      "execution_count": 8,
      "metadata": {
        "id": "csaFEFukkAdf"
      },
      "outputs": [],
      "source": [
        "df[\"customer_age\"] = pd.to_datetime(df[\"customer_birthdate\"]).dt.normalize()\n",
        "date = datetime.datetime(2022, 7,13)\n",
        "df[\"customer_age\"] = date - df[\"customer_age\"]\n",
        "df[\"customer_age\"] = df[\"customer_age\"] / np.timedelta64(1,'Y')\n",
        "df[\"customer_age\"] =df[\"customer_age\"].round(0)"
      ]
    },
    {
      "cell_type": "markdown",
      "metadata": {
        "id": "RSst_kaEkAdf"
      },
      "source": [
        "Binning based on age groups:\n",
        "\n",
        "11-20 years --> Teen\n",
        "\n",
        "\t\n",
        "20-39 years --> Adult\n",
        "\n",
        "\t\n",
        "39-59 years --> Middle Age Adult\n",
        "\n",
        "\t\n",
        "59+ years --> Senior Adult "
      ]
    },
    {
      "cell_type": "code",
      "execution_count": 9,
      "metadata": {
        "id": "BaGs41HgkAdf"
      },
      "outputs": [],
      "source": [
        "df[\"customer_age_bins\"]= pd.cut(df[\"customer_age\"], bins=[11,20,39,59,75], labels = [\"11-20\", \"20-39\",\"39-59\",\"59+\"],right=False)\n"
      ]
    },
    {
      "cell_type": "markdown",
      "metadata": {
        "id": "P-siPVv7kAdg"
      },
      "source": [
        "## Employee Age"
      ]
    },
    {
      "cell_type": "code",
      "execution_count": 10,
      "metadata": {
        "id": "YCtg_-7wkAdg"
      },
      "outputs": [],
      "source": [
        "\n",
        "df[\"employee_age\"] = pd.to_datetime(df[\"employee_BirthDate\"]).dt.normalize()\n",
        "date = datetime.datetime(2022, 7,13)\n",
        "df[\"employee_age\"] = date - df[\"employee_age\"]\n",
        "df[\"employee_age\"] = df[\"employee_age\"] / np.timedelta64(1,'Y')\n",
        "df[\"employee_age\"] =df[\"employee_age\"].round(0)"
      ]
    },
    {
      "cell_type": "markdown",
      "metadata": {
        "id": "C7fQ6fgCkAdg"
      },
      "source": [
        "## Employee Tenure"
      ]
    },
    {
      "cell_type": "markdown",
      "source": [
        "Employee Tenure is a reference to the length of service an employee has given to an employer. \n",
        "We calculated it by subtracting the Employee_Hiredate from the current date\n"
      ],
      "metadata": {
        "id": "msBVOtiqLIie"
      }
    },
    {
      "cell_type": "code",
      "execution_count": 11,
      "metadata": {
        "id": "QxKGbDaWkAdg"
      },
      "outputs": [],
      "source": [
        "df[\"employee_tenure\"] = pd.to_datetime(df[\"employee_HireDate\"]).dt.normalize()\n",
        "date = datetime.datetime(2022, 7,13)\n",
        "df[\"employee_tenure\"] = date - df[\"employee_tenure\"]\n",
        "df[\"employee_tenure\"] = df[\"employee_tenure\"] / np.timedelta64(1,'M')\n",
        "df[\"employee_tenure\"] =df[\"employee_tenure\"].round(0)"
      ]
    },
    {
      "cell_type": "markdown",
      "source": [
        "Binning employee_tenure"
      ],
      "metadata": {
        "id": "alL90AYMW3sd"
      }
    },
    {
      "cell_type": "code",
      "source": [
        "df['employee_tenure_bins']=pd.qcut(df['employee_tenure'] , q=6 , labels=['0-4' ,'5-9','10-14','15-19','20-24','25+'])\n"
      ],
      "metadata": {
        "id": "DGTOf8o4W0jh"
      },
      "execution_count": 12,
      "outputs": []
    },
    {
      "cell_type": "markdown",
      "metadata": {
        "id": "JJsxX4EgkAdh"
      },
      "source": [
        "## Quarter in which order has been placed"
      ]
    },
    {
      "cell_type": "code",
      "execution_count": 13,
      "metadata": {
        "id": "8Jbt7ujhkAdh",
        "outputId": "befb5fc1-1dae-4807-80c5-a9d8e592cd21",
        "colab": {
          "base_uri": "https://localhost:8080/"
        }
      },
      "outputs": [
        {
          "output_type": "execute_result",
          "data": {
            "text/plain": [
              "0       2021\n",
              "1       2021\n",
              "2       2021\n",
              "3       2021\n",
              "4       2021\n",
              "        ... \n",
              "3995    2022\n",
              "3996    2021\n",
              "3997    2021\n",
              "3998    2021\n",
              "3999    2021\n",
              "Name: Sales_Year, Length: 4000, dtype: object"
            ]
          },
          "metadata": {},
          "execution_count": 13
        }
      ],
      "source": [
        "df['Sales_Year'] = df['OrderedDate'].apply(lambda x: x.strftime('%Y'))\n",
        "df[\"Sales_Year\"]"
      ]
    },
    {
      "cell_type": "code",
      "execution_count": 14,
      "metadata": {
        "id": "T9RJBZsckAdh",
        "outputId": "e9083148-a6a2-4b6c-ca93-dd9b9aafdfff",
        "colab": {
          "base_uri": "https://localhost:8080/"
        }
      },
      "outputs": [
        {
          "output_type": "execute_result",
          "data": {
            "text/plain": [
              "0       Q4\n",
              "1       Q4\n",
              "2       Q2\n",
              "3       Q4\n",
              "4       Q3\n",
              "        ..\n",
              "3995    Q1\n",
              "3996    Q3\n",
              "3997    Q1\n",
              "3998    Q2\n",
              "3999    Q3\n",
              "Name: Sales_Q, Length: 4000, dtype: category\n",
              "Categories (4, object): ['Q1' < 'Q2' < 'Q3' < 'Q4']"
            ]
          },
          "metadata": {},
          "execution_count": 14
        }
      ],
      "source": [
        "df[\"Sales_Q\"] = df['OrderedDate'].apply(lambda x: x.strftime('%m'))\n",
        "dict1 = {\"Q1\" : [1,2,3],\n",
        "'Q2': [4,5,6],\n",
        "'Q3':[7,8,9],\n",
        "'Q4': [10,11,12]}\n",
        "df[\"Sales_Q\"] = df[\"Sales_Q\"].astype('int64')\n",
        "df[\"Sales_Q\"] = pd.cut(df[\"Sales_Q\"], bins = 4, labels = [\"Q1\", \"Q2\", \"Q3\",\"Q4\"])\n",
        "df[\"Sales_Q\"]"
      ]
    },
    {
      "cell_type": "markdown",
      "metadata": {
        "id": "xxCQ0MBSkAdi"
      },
      "source": [
        "## Regions "
      ]
    },
    {
      "cell_type": "code",
      "execution_count": 15,
      "metadata": {
        "id": "qFjexRgbkAdi"
      },
      "outputs": [],
      "source": [
        "df[\"Region\"] = df[\"customer_City\"]\n",
        "df[\"Region\"].replace(to_replace =[\"Balqa\", \"Amman\", \"Zarqa\",\"Madaba\"], value =\"Central province\", inplace=True)\n",
        "df[\"Region\"].replace(to_replace =[\"Irbid\", \"Jerash\",\"Ajloun\",\"Mafraq\"], value =\"North Province\", inplace= True)\n",
        "df[\"Region\"].replace(to_replace =[\"Karak\", \"Ma'an\",\"Tafilah\",\"Aqaba\"], value =\"South Province\", inplace=True)"
      ]
    },
    {
      "cell_type": "markdown",
      "metadata": {
        "id": "bwwdvPKtkAdi"
      },
      "source": [
        "## Promotion"
      ]
    },
    {
      "cell_type": "code",
      "execution_count": 16,
      "metadata": {
        "id": "vygX1ieMkAdi"
      },
      "outputs": [],
      "source": [
        "df[\"Promotion\"] = (df[\"PromotionType\"] != \"No Promotion\")"
      ]
    },
    {
      "cell_type": "code",
      "source": [
        "df['Promotion'].unique()"
      ],
      "metadata": {
        "colab": {
          "base_uri": "https://localhost:8080/"
        },
        "id": "5OwFm9yjmsSV",
        "outputId": "224a51a0-bfe5-4db6-aaee-0c30f2b52949"
      },
      "execution_count": 17,
      "outputs": [
        {
          "output_type": "execute_result",
          "data": {
            "text/plain": [
              "array([False,  True])"
            ]
          },
          "metadata": {},
          "execution_count": 17
        }
      ]
    },
    {
      "cell_type": "markdown",
      "source": [
        "## Online"
      ],
      "metadata": {
        "id": "zSgeMgklQMQa"
      }
    },
    {
      "cell_type": "code",
      "execution_count": 18,
      "metadata": {
        "id": "IpbzlZShkAdi"
      },
      "outputs": [],
      "source": [
        "df[\"Online\"] = (df[\"Branch_Location\"] == \"Online\")"
      ]
    },
    {
      "cell_type": "code",
      "source": [
        "df['Online'].unique()"
      ],
      "metadata": {
        "colab": {
          "base_uri": "https://localhost:8080/"
        },
        "id": "gvvh7cDnmoBP",
        "outputId": "e796b2da-d019-4c33-9dc6-be37b8478e03"
      },
      "execution_count": 19,
      "outputs": [
        {
          "output_type": "execute_result",
          "data": {
            "text/plain": [
              "array([False,  True])"
            ]
          },
          "metadata": {},
          "execution_count": 19
        }
      ]
    },
    {
      "cell_type": "markdown",
      "source": [
        "## Dropping unnecessary Columns"
      ],
      "metadata": {
        "id": "I1HeKJ6aR69q"
      }
    },
    {
      "cell_type": "code",
      "source": [
        "drop_cols = ['customer_first_name', 'customer_last_name', 'customer_email','customer_birthdate', 'City_Area', \n",
        "             'City_Population','employee_first_name', 'employee_last_name','employee_email', 'employee_BirthDate', \n",
        "             'employee_HireDate','RoleDesc','CATEGORY']\n",
        "             \n",
        "df.drop(drop_cols, inplace=True, axis=1)"
      ],
      "metadata": {
        "id": "MI0p1YVNSN1W"
      },
      "execution_count": 20,
      "outputs": []
    },
    {
      "cell_type": "code",
      "source": [
        "df"
      ],
      "metadata": {
        "colab": {
          "base_uri": "https://localhost:8080/",
          "height": 661
        },
        "id": "WjFOfdvw-E4w",
        "outputId": "4496aa1e-8980-47e8-af33-64d330a5e3c6"
      },
      "execution_count": 56,
      "outputs": [
        {
          "output_type": "execute_result",
          "data": {
            "text/plain": [
              "      Sales_ID  Quantity  Price  Rate  Holiday customer_gender Customer_Type  \\\n",
              "0            0        40  310.8   8.8        0          Female        Normal   \n",
              "1            1         6   29.3   6.2        0          Female        Normal   \n",
              "2            2         6  664.7   6.9        1          Female        Member   \n",
              "3            3        22  412.9   9.4        1          Female        Member   \n",
              "4            4        45  170.5   2.5        0            Male        Member   \n",
              "...        ...       ...    ...   ...      ...             ...           ...   \n",
              "3995      3995       138  930.0   2.9        0            Male        Member   \n",
              "3996      3996        87  971.0   9.9        1          Female        Member   \n",
              "3997      3997        60  532.1   7.5        1          Female        Member   \n",
              "3998      3998        88  390.6   9.9        1            Male        Member   \n",
              "3999      3999        91  230.0   3.6        1            Male        Member   \n",
              "\n",
              "     customer_City  City_Density(people/km2)   WH       EmpType Branch_Name  \\\n",
              "0           Mafraq                      11.3   6h    Fixed term           A   \n",
              "1            Irbid                     723.4   6h     Part-time           A   \n",
              "2           Ajloun                     350.1  12h     Part-time           C   \n",
              "3            Balqa                     382.0  12h  Shiftworkers           C   \n",
              "4           Mafraq                      11.3  12h     Full-time           D   \n",
              "...            ...                       ...  ...           ...         ...   \n",
              "3995         Karak                      71.3  12h  Shiftworkers           F   \n",
              "3996         Ma'an                       3.7   8h     Part-time           F   \n",
              "3997        Mafraq                      11.3   8h    Fixed term           F   \n",
              "3998        Mafraq                      11.3  12h     Part-time           F   \n",
              "3999         Irbid                     723.4   8h  Shiftworkers           F   \n",
              "\n",
              "     Branch_Location PaymentMethod  DEPARTMENT OrderedDate PromotionDate  \\\n",
              "0              Amman          Cash       Gifts  2021-11-15    2021-11-01   \n",
              "1              Amman       Ewallet    Designer  2021-12-09    2021-10-14   \n",
              "2              Zarqa       Ewallet        Kids  2021-06-20    2021-05-02   \n",
              "3              Zarqa          Cash  Activewear  2021-12-09    2021-11-11   \n",
              "4              Balqa       Ewallet        Kids  2021-09-16    2021-08-05   \n",
              "...              ...           ...         ...         ...           ...   \n",
              "3995          Online          Cash  Activewear  2022-01-05    2021-11-10   \n",
              "3996          Online   Credit card         Men  2021-08-03    2021-06-08   \n",
              "3997          Online       Ewallet         Men  2021-02-17    2021-01-27   \n",
              "3998          Online          Cash  Activewear  2021-05-04    2021-04-20   \n",
              "3999          Online   Credit card        Sale  2021-09-10    2021-07-23   \n",
              "\n",
              "                PromotionType  customer_age customer_age_bins  employee_age  \\\n",
              "0                No Promotion          66.0               59+          33.0   \n",
              "1     Free Gift with Purchase          63.0               59+          28.0   \n",
              "2     Free Gift with Purchase          73.0               59+          33.0   \n",
              "3                   Giveaways          69.0               59+          33.0   \n",
              "4                No Promotion          57.0             39-59          36.0   \n",
              "...                       ...           ...               ...           ...   \n",
              "3995        Tiered Promotions          49.0             39-59          21.0   \n",
              "3996         Online Promotion          30.0             20-39          21.0   \n",
              "3997          Sales Promotion          35.0             20-39          36.0   \n",
              "3998        Tiered Promotions          37.0             20-39          22.0   \n",
              "3999        Tiered Promotions          52.0             39-59          19.0   \n",
              "\n",
              "      employee_tenure employee_tenure_bins Sales_Year Sales_Q  \\\n",
              "0                 9.0                  5-9       2021      Q4   \n",
              "1                 3.0                  0-4       2021      Q4   \n",
              "2                17.0                20-24       2021      Q2   \n",
              "3                12.0                10-14       2021      Q4   \n",
              "4                15.0                15-19       2021      Q3   \n",
              "...               ...                  ...        ...     ...   \n",
              "3995             17.0                20-24       2022      Q1   \n",
              "3996             18.0                20-24       2021      Q3   \n",
              "3997             11.0                10-14       2021      Q1   \n",
              "3998              5.0                  0-4       2021      Q2   \n",
              "3999              4.0                  0-4       2021      Q3   \n",
              "\n",
              "                Region  Promotion  Online  \n",
              "0       North Province      False   False  \n",
              "1       North Province       True   False  \n",
              "2       North Province       True   False  \n",
              "3     Central province       True   False  \n",
              "4       North Province      False   False  \n",
              "...                ...        ...     ...  \n",
              "3995    South Province       True    True  \n",
              "3996    South Province       True    True  \n",
              "3997    North Province       True    True  \n",
              "3998    North Province       True    True  \n",
              "3999    North Province       True    True  \n",
              "\n",
              "[4000 rows x 28 columns]"
            ],
            "text/html": [
              "\n",
              "  <div id=\"df-393fe15b-2b1c-41ec-9acf-d9aa7f93d77e\">\n",
              "    <div class=\"colab-df-container\">\n",
              "      <div>\n",
              "<style scoped>\n",
              "    .dataframe tbody tr th:only-of-type {\n",
              "        vertical-align: middle;\n",
              "    }\n",
              "\n",
              "    .dataframe tbody tr th {\n",
              "        vertical-align: top;\n",
              "    }\n",
              "\n",
              "    .dataframe thead th {\n",
              "        text-align: right;\n",
              "    }\n",
              "</style>\n",
              "<table border=\"1\" class=\"dataframe\">\n",
              "  <thead>\n",
              "    <tr style=\"text-align: right;\">\n",
              "      <th></th>\n",
              "      <th>Sales_ID</th>\n",
              "      <th>Quantity</th>\n",
              "      <th>Price</th>\n",
              "      <th>Rate</th>\n",
              "      <th>Holiday</th>\n",
              "      <th>customer_gender</th>\n",
              "      <th>Customer_Type</th>\n",
              "      <th>customer_City</th>\n",
              "      <th>City_Density(people/km2)</th>\n",
              "      <th>WH</th>\n",
              "      <th>EmpType</th>\n",
              "      <th>Branch_Name</th>\n",
              "      <th>Branch_Location</th>\n",
              "      <th>PaymentMethod</th>\n",
              "      <th>DEPARTMENT</th>\n",
              "      <th>OrderedDate</th>\n",
              "      <th>PromotionDate</th>\n",
              "      <th>PromotionType</th>\n",
              "      <th>customer_age</th>\n",
              "      <th>customer_age_bins</th>\n",
              "      <th>employee_age</th>\n",
              "      <th>employee_tenure</th>\n",
              "      <th>employee_tenure_bins</th>\n",
              "      <th>Sales_Year</th>\n",
              "      <th>Sales_Q</th>\n",
              "      <th>Region</th>\n",
              "      <th>Promotion</th>\n",
              "      <th>Online</th>\n",
              "    </tr>\n",
              "  </thead>\n",
              "  <tbody>\n",
              "    <tr>\n",
              "      <th>0</th>\n",
              "      <td>0</td>\n",
              "      <td>40</td>\n",
              "      <td>310.8</td>\n",
              "      <td>8.8</td>\n",
              "      <td>0</td>\n",
              "      <td>Female</td>\n",
              "      <td>Normal</td>\n",
              "      <td>Mafraq</td>\n",
              "      <td>11.3</td>\n",
              "      <td>6h</td>\n",
              "      <td>Fixed term</td>\n",
              "      <td>A</td>\n",
              "      <td>Amman</td>\n",
              "      <td>Cash</td>\n",
              "      <td>Gifts</td>\n",
              "      <td>2021-11-15</td>\n",
              "      <td>2021-11-01</td>\n",
              "      <td>No Promotion</td>\n",
              "      <td>66.0</td>\n",
              "      <td>59+</td>\n",
              "      <td>33.0</td>\n",
              "      <td>9.0</td>\n",
              "      <td>5-9</td>\n",
              "      <td>2021</td>\n",
              "      <td>Q4</td>\n",
              "      <td>North Province</td>\n",
              "      <td>False</td>\n",
              "      <td>False</td>\n",
              "    </tr>\n",
              "    <tr>\n",
              "      <th>1</th>\n",
              "      <td>1</td>\n",
              "      <td>6</td>\n",
              "      <td>29.3</td>\n",
              "      <td>6.2</td>\n",
              "      <td>0</td>\n",
              "      <td>Female</td>\n",
              "      <td>Normal</td>\n",
              "      <td>Irbid</td>\n",
              "      <td>723.4</td>\n",
              "      <td>6h</td>\n",
              "      <td>Part-time</td>\n",
              "      <td>A</td>\n",
              "      <td>Amman</td>\n",
              "      <td>Ewallet</td>\n",
              "      <td>Designer</td>\n",
              "      <td>2021-12-09</td>\n",
              "      <td>2021-10-14</td>\n",
              "      <td>Free Gift with Purchase</td>\n",
              "      <td>63.0</td>\n",
              "      <td>59+</td>\n",
              "      <td>28.0</td>\n",
              "      <td>3.0</td>\n",
              "      <td>0-4</td>\n",
              "      <td>2021</td>\n",
              "      <td>Q4</td>\n",
              "      <td>North Province</td>\n",
              "      <td>True</td>\n",
              "      <td>False</td>\n",
              "    </tr>\n",
              "    <tr>\n",
              "      <th>2</th>\n",
              "      <td>2</td>\n",
              "      <td>6</td>\n",
              "      <td>664.7</td>\n",
              "      <td>6.9</td>\n",
              "      <td>1</td>\n",
              "      <td>Female</td>\n",
              "      <td>Member</td>\n",
              "      <td>Ajloun</td>\n",
              "      <td>350.1</td>\n",
              "      <td>12h</td>\n",
              "      <td>Part-time</td>\n",
              "      <td>C</td>\n",
              "      <td>Zarqa</td>\n",
              "      <td>Ewallet</td>\n",
              "      <td>Kids</td>\n",
              "      <td>2021-06-20</td>\n",
              "      <td>2021-05-02</td>\n",
              "      <td>Free Gift with Purchase</td>\n",
              "      <td>73.0</td>\n",
              "      <td>59+</td>\n",
              "      <td>33.0</td>\n",
              "      <td>17.0</td>\n",
              "      <td>20-24</td>\n",
              "      <td>2021</td>\n",
              "      <td>Q2</td>\n",
              "      <td>North Province</td>\n",
              "      <td>True</td>\n",
              "      <td>False</td>\n",
              "    </tr>\n",
              "    <tr>\n",
              "      <th>3</th>\n",
              "      <td>3</td>\n",
              "      <td>22</td>\n",
              "      <td>412.9</td>\n",
              "      <td>9.4</td>\n",
              "      <td>1</td>\n",
              "      <td>Female</td>\n",
              "      <td>Member</td>\n",
              "      <td>Balqa</td>\n",
              "      <td>382.0</td>\n",
              "      <td>12h</td>\n",
              "      <td>Shiftworkers</td>\n",
              "      <td>C</td>\n",
              "      <td>Zarqa</td>\n",
              "      <td>Cash</td>\n",
              "      <td>Activewear</td>\n",
              "      <td>2021-12-09</td>\n",
              "      <td>2021-11-11</td>\n",
              "      <td>Giveaways</td>\n",
              "      <td>69.0</td>\n",
              "      <td>59+</td>\n",
              "      <td>33.0</td>\n",
              "      <td>12.0</td>\n",
              "      <td>10-14</td>\n",
              "      <td>2021</td>\n",
              "      <td>Q4</td>\n",
              "      <td>Central province</td>\n",
              "      <td>True</td>\n",
              "      <td>False</td>\n",
              "    </tr>\n",
              "    <tr>\n",
              "      <th>4</th>\n",
              "      <td>4</td>\n",
              "      <td>45</td>\n",
              "      <td>170.5</td>\n",
              "      <td>2.5</td>\n",
              "      <td>0</td>\n",
              "      <td>Male</td>\n",
              "      <td>Member</td>\n",
              "      <td>Mafraq</td>\n",
              "      <td>11.3</td>\n",
              "      <td>12h</td>\n",
              "      <td>Full-time</td>\n",
              "      <td>D</td>\n",
              "      <td>Balqa</td>\n",
              "      <td>Ewallet</td>\n",
              "      <td>Kids</td>\n",
              "      <td>2021-09-16</td>\n",
              "      <td>2021-08-05</td>\n",
              "      <td>No Promotion</td>\n",
              "      <td>57.0</td>\n",
              "      <td>39-59</td>\n",
              "      <td>36.0</td>\n",
              "      <td>15.0</td>\n",
              "      <td>15-19</td>\n",
              "      <td>2021</td>\n",
              "      <td>Q3</td>\n",
              "      <td>North Province</td>\n",
              "      <td>False</td>\n",
              "      <td>False</td>\n",
              "    </tr>\n",
              "    <tr>\n",
              "      <th>...</th>\n",
              "      <td>...</td>\n",
              "      <td>...</td>\n",
              "      <td>...</td>\n",
              "      <td>...</td>\n",
              "      <td>...</td>\n",
              "      <td>...</td>\n",
              "      <td>...</td>\n",
              "      <td>...</td>\n",
              "      <td>...</td>\n",
              "      <td>...</td>\n",
              "      <td>...</td>\n",
              "      <td>...</td>\n",
              "      <td>...</td>\n",
              "      <td>...</td>\n",
              "      <td>...</td>\n",
              "      <td>...</td>\n",
              "      <td>...</td>\n",
              "      <td>...</td>\n",
              "      <td>...</td>\n",
              "      <td>...</td>\n",
              "      <td>...</td>\n",
              "      <td>...</td>\n",
              "      <td>...</td>\n",
              "      <td>...</td>\n",
              "      <td>...</td>\n",
              "      <td>...</td>\n",
              "      <td>...</td>\n",
              "      <td>...</td>\n",
              "    </tr>\n",
              "    <tr>\n",
              "      <th>3995</th>\n",
              "      <td>3995</td>\n",
              "      <td>138</td>\n",
              "      <td>930.0</td>\n",
              "      <td>2.9</td>\n",
              "      <td>0</td>\n",
              "      <td>Male</td>\n",
              "      <td>Member</td>\n",
              "      <td>Karak</td>\n",
              "      <td>71.3</td>\n",
              "      <td>12h</td>\n",
              "      <td>Shiftworkers</td>\n",
              "      <td>F</td>\n",
              "      <td>Online</td>\n",
              "      <td>Cash</td>\n",
              "      <td>Activewear</td>\n",
              "      <td>2022-01-05</td>\n",
              "      <td>2021-11-10</td>\n",
              "      <td>Tiered Promotions</td>\n",
              "      <td>49.0</td>\n",
              "      <td>39-59</td>\n",
              "      <td>21.0</td>\n",
              "      <td>17.0</td>\n",
              "      <td>20-24</td>\n",
              "      <td>2022</td>\n",
              "      <td>Q1</td>\n",
              "      <td>South Province</td>\n",
              "      <td>True</td>\n",
              "      <td>True</td>\n",
              "    </tr>\n",
              "    <tr>\n",
              "      <th>3996</th>\n",
              "      <td>3996</td>\n",
              "      <td>87</td>\n",
              "      <td>971.0</td>\n",
              "      <td>9.9</td>\n",
              "      <td>1</td>\n",
              "      <td>Female</td>\n",
              "      <td>Member</td>\n",
              "      <td>Ma'an</td>\n",
              "      <td>3.7</td>\n",
              "      <td>8h</td>\n",
              "      <td>Part-time</td>\n",
              "      <td>F</td>\n",
              "      <td>Online</td>\n",
              "      <td>Credit card</td>\n",
              "      <td>Men</td>\n",
              "      <td>2021-08-03</td>\n",
              "      <td>2021-06-08</td>\n",
              "      <td>Online Promotion</td>\n",
              "      <td>30.0</td>\n",
              "      <td>20-39</td>\n",
              "      <td>21.0</td>\n",
              "      <td>18.0</td>\n",
              "      <td>20-24</td>\n",
              "      <td>2021</td>\n",
              "      <td>Q3</td>\n",
              "      <td>South Province</td>\n",
              "      <td>True</td>\n",
              "      <td>True</td>\n",
              "    </tr>\n",
              "    <tr>\n",
              "      <th>3997</th>\n",
              "      <td>3997</td>\n",
              "      <td>60</td>\n",
              "      <td>532.1</td>\n",
              "      <td>7.5</td>\n",
              "      <td>1</td>\n",
              "      <td>Female</td>\n",
              "      <td>Member</td>\n",
              "      <td>Mafraq</td>\n",
              "      <td>11.3</td>\n",
              "      <td>8h</td>\n",
              "      <td>Fixed term</td>\n",
              "      <td>F</td>\n",
              "      <td>Online</td>\n",
              "      <td>Ewallet</td>\n",
              "      <td>Men</td>\n",
              "      <td>2021-02-17</td>\n",
              "      <td>2021-01-27</td>\n",
              "      <td>Sales Promotion</td>\n",
              "      <td>35.0</td>\n",
              "      <td>20-39</td>\n",
              "      <td>36.0</td>\n",
              "      <td>11.0</td>\n",
              "      <td>10-14</td>\n",
              "      <td>2021</td>\n",
              "      <td>Q1</td>\n",
              "      <td>North Province</td>\n",
              "      <td>True</td>\n",
              "      <td>True</td>\n",
              "    </tr>\n",
              "    <tr>\n",
              "      <th>3998</th>\n",
              "      <td>3998</td>\n",
              "      <td>88</td>\n",
              "      <td>390.6</td>\n",
              "      <td>9.9</td>\n",
              "      <td>1</td>\n",
              "      <td>Male</td>\n",
              "      <td>Member</td>\n",
              "      <td>Mafraq</td>\n",
              "      <td>11.3</td>\n",
              "      <td>12h</td>\n",
              "      <td>Part-time</td>\n",
              "      <td>F</td>\n",
              "      <td>Online</td>\n",
              "      <td>Cash</td>\n",
              "      <td>Activewear</td>\n",
              "      <td>2021-05-04</td>\n",
              "      <td>2021-04-20</td>\n",
              "      <td>Tiered Promotions</td>\n",
              "      <td>37.0</td>\n",
              "      <td>20-39</td>\n",
              "      <td>22.0</td>\n",
              "      <td>5.0</td>\n",
              "      <td>0-4</td>\n",
              "      <td>2021</td>\n",
              "      <td>Q2</td>\n",
              "      <td>North Province</td>\n",
              "      <td>True</td>\n",
              "      <td>True</td>\n",
              "    </tr>\n",
              "    <tr>\n",
              "      <th>3999</th>\n",
              "      <td>3999</td>\n",
              "      <td>91</td>\n",
              "      <td>230.0</td>\n",
              "      <td>3.6</td>\n",
              "      <td>1</td>\n",
              "      <td>Male</td>\n",
              "      <td>Member</td>\n",
              "      <td>Irbid</td>\n",
              "      <td>723.4</td>\n",
              "      <td>8h</td>\n",
              "      <td>Shiftworkers</td>\n",
              "      <td>F</td>\n",
              "      <td>Online</td>\n",
              "      <td>Credit card</td>\n",
              "      <td>Sale</td>\n",
              "      <td>2021-09-10</td>\n",
              "      <td>2021-07-23</td>\n",
              "      <td>Tiered Promotions</td>\n",
              "      <td>52.0</td>\n",
              "      <td>39-59</td>\n",
              "      <td>19.0</td>\n",
              "      <td>4.0</td>\n",
              "      <td>0-4</td>\n",
              "      <td>2021</td>\n",
              "      <td>Q3</td>\n",
              "      <td>North Province</td>\n",
              "      <td>True</td>\n",
              "      <td>True</td>\n",
              "    </tr>\n",
              "  </tbody>\n",
              "</table>\n",
              "<p>4000 rows × 28 columns</p>\n",
              "</div>\n",
              "      <button class=\"colab-df-convert\" onclick=\"convertToInteractive('df-393fe15b-2b1c-41ec-9acf-d9aa7f93d77e')\"\n",
              "              title=\"Convert this dataframe to an interactive table.\"\n",
              "              style=\"display:none;\">\n",
              "        \n",
              "  <svg xmlns=\"http://www.w3.org/2000/svg\" height=\"24px\"viewBox=\"0 0 24 24\"\n",
              "       width=\"24px\">\n",
              "    <path d=\"M0 0h24v24H0V0z\" fill=\"none\"/>\n",
              "    <path d=\"M18.56 5.44l.94 2.06.94-2.06 2.06-.94-2.06-.94-.94-2.06-.94 2.06-2.06.94zm-11 1L8.5 8.5l.94-2.06 2.06-.94-2.06-.94L8.5 2.5l-.94 2.06-2.06.94zm10 10l.94 2.06.94-2.06 2.06-.94-2.06-.94-.94-2.06-.94 2.06-2.06.94z\"/><path d=\"M17.41 7.96l-1.37-1.37c-.4-.4-.92-.59-1.43-.59-.52 0-1.04.2-1.43.59L10.3 9.45l-7.72 7.72c-.78.78-.78 2.05 0 2.83L4 21.41c.39.39.9.59 1.41.59.51 0 1.02-.2 1.41-.59l7.78-7.78 2.81-2.81c.8-.78.8-2.07 0-2.86zM5.41 20L4 18.59l7.72-7.72 1.47 1.35L5.41 20z\"/>\n",
              "  </svg>\n",
              "      </button>\n",
              "      \n",
              "  <style>\n",
              "    .colab-df-container {\n",
              "      display:flex;\n",
              "      flex-wrap:wrap;\n",
              "      gap: 12px;\n",
              "    }\n",
              "\n",
              "    .colab-df-convert {\n",
              "      background-color: #E8F0FE;\n",
              "      border: none;\n",
              "      border-radius: 50%;\n",
              "      cursor: pointer;\n",
              "      display: none;\n",
              "      fill: #1967D2;\n",
              "      height: 32px;\n",
              "      padding: 0 0 0 0;\n",
              "      width: 32px;\n",
              "    }\n",
              "\n",
              "    .colab-df-convert:hover {\n",
              "      background-color: #E2EBFA;\n",
              "      box-shadow: 0px 1px 2px rgba(60, 64, 67, 0.3), 0px 1px 3px 1px rgba(60, 64, 67, 0.15);\n",
              "      fill: #174EA6;\n",
              "    }\n",
              "\n",
              "    [theme=dark] .colab-df-convert {\n",
              "      background-color: #3B4455;\n",
              "      fill: #D2E3FC;\n",
              "    }\n",
              "\n",
              "    [theme=dark] .colab-df-convert:hover {\n",
              "      background-color: #434B5C;\n",
              "      box-shadow: 0px 1px 3px 1px rgba(0, 0, 0, 0.15);\n",
              "      filter: drop-shadow(0px 1px 2px rgba(0, 0, 0, 0.3));\n",
              "      fill: #FFFFFF;\n",
              "    }\n",
              "  </style>\n",
              "\n",
              "      <script>\n",
              "        const buttonEl =\n",
              "          document.querySelector('#df-393fe15b-2b1c-41ec-9acf-d9aa7f93d77e button.colab-df-convert');\n",
              "        buttonEl.style.display =\n",
              "          google.colab.kernel.accessAllowed ? 'block' : 'none';\n",
              "\n",
              "        async function convertToInteractive(key) {\n",
              "          const element = document.querySelector('#df-393fe15b-2b1c-41ec-9acf-d9aa7f93d77e');\n",
              "          const dataTable =\n",
              "            await google.colab.kernel.invokeFunction('convertToInteractive',\n",
              "                                                     [key], {});\n",
              "          if (!dataTable) return;\n",
              "\n",
              "          const docLinkHtml = 'Like what you see? Visit the ' +\n",
              "            '<a target=\"_blank\" href=https://colab.research.google.com/notebooks/data_table.ipynb>data table notebook</a>'\n",
              "            + ' to learn more about interactive tables.';\n",
              "          element.innerHTML = '';\n",
              "          dataTable['output_type'] = 'display_data';\n",
              "          await google.colab.output.renderOutput(dataTable, element);\n",
              "          const docLink = document.createElement('div');\n",
              "          docLink.innerHTML = docLinkHtml;\n",
              "          element.appendChild(docLink);\n",
              "        }\n",
              "      </script>\n",
              "    </div>\n",
              "  </div>\n",
              "  "
            ]
          },
          "metadata": {},
          "execution_count": 56
        }
      ]
    },
    {
      "cell_type": "markdown",
      "source": [
        "# Correlations"
      ],
      "metadata": {
        "id": "Fv8DztuaQnA2"
      }
    },
    {
      "cell_type": "markdown",
      "source": [
        "## Heatmap"
      ],
      "metadata": {
        "id": "CajzO9tLRU3g"
      }
    },
    {
      "cell_type": "markdown",
      "source": [
        "**Size of Correlation**|**Interpretation**\n",
        ":-----:|:-----:\n",
        ".90 to 1.00 (−.90 to −1.00)|Very high positive (negative) correlation\n",
        ".70 to .90 (−.70 to −.90)|High positive (negative) correlation\n",
        ".50 to .70 (−.50 to −.70)|Moderate positive (negative) correlation\n",
        ".30 to .50 (−.30 to −.50)|Low positive (negative) correlation\n",
        ".00 to .30 (.00 to −.30)|negligible correlation"
      ],
      "metadata": {
        "id": "GxD0yE8eRZuo"
      }
    },
    {
      "cell_type": "markdown",
      "source": [
        "## Pearson Correlation"
      ],
      "metadata": {
        "id": "59QQEDEaRc3E"
      }
    },
    {
      "cell_type": "markdown",
      "source": [
        "Pearson's Correlation using only the lower half of the heatmap to avoid redundancy.\n"
      ],
      "metadata": {
        "id": "Lh1IPvSffYfF"
      }
    },
    {
      "cell_type": "code",
      "source": [
        "df2 = df.drop('Sales_ID',axis=1)"
      ],
      "metadata": {
        "id": "ZjQ3sniZ-WvY"
      },
      "execution_count": 57,
      "outputs": []
    },
    {
      "cell_type": "code",
      "source": [
        "plt.figure(figsize = (12,10))\n",
        "corr = df2.corr()\n",
        "matrix = np.triu(corr)\n",
        "sns.heatmap(corr, annot = True, cmap = 'coolwarm', mask = matrix)"
      ],
      "metadata": {
        "colab": {
          "base_uri": "https://localhost:8080/",
          "height": 728
        },
        "id": "LxIRnWmsQpZA",
        "outputId": "f3a516b5-9e73-4ce0-ccbc-dd7f1467c019"
      },
      "execution_count": 59,
      "outputs": [
        {
          "output_type": "execute_result",
          "data": {
            "text/plain": [
              "<matplotlib.axes._subplots.AxesSubplot at 0x7f3d9a88bb50>"
            ]
          },
          "metadata": {},
          "execution_count": 59
        },
        {
          "output_type": "display_data",
          "data": {
            "text/plain": [
              "<Figure size 864x720 with 2 Axes>"
            ],
            "image/png": "[encoded data removed]"
          },
          "metadata": {}
        }
      ]
    },
    {
      "cell_type": "markdown",
      "source": [
        "We can see that most of the correlations between numerical variables are negligbile, or low correlations. "
      ],
      "metadata": {
        "id": "rJMWrbETggiW"
      }
    },
    {
      "cell_type": "markdown",
      "metadata": {
        "id": "U1laJgo8kAdj"
      },
      "source": [
        "# Distributions of Variables"
      ]
    },
    {
      "cell_type": "code",
      "source": [
        "df.describe()"
      ],
      "metadata": {
        "colab": {
          "base_uri": "https://localhost:8080/",
          "height": 364
        },
        "id": "0_DJIhZJmxeJ",
        "outputId": "119d9b53-e387-419b-80a3-f15a5e7ccd29"
      },
      "execution_count": 22,
      "outputs": [
        {
          "output_type": "execute_result",
          "data": {
            "text/plain": [
              "          Sales_ID     Quantity        Price         Rate      Holiday  \\\n",
              "count  4000.000000  4000.000000  4000.000000  4000.000000  4000.000000   \n",
              "mean   1999.500000    63.538750   495.345250     5.463725     0.496000   \n",
              "std    1154.844867    44.012558   287.884564     2.604830     0.500047   \n",
              "min       0.000000     1.000000     1.800000     1.000000     0.000000   \n",
              "25%     999.750000    28.000000   244.775000     3.200000     0.000000   \n",
              "50%    1999.500000    56.000000   491.450000     5.500000     0.000000   \n",
              "75%    2999.250000    88.000000   742.575000     7.700000     1.000000   \n",
              "max    3999.000000   180.000000   999.900000    10.000000     1.000000   \n",
              "\n",
              "       City_Density(people/km2)  customer_age  employee_age  employee_tenure  \n",
              "count               4000.000000    4000.00000   4000.000000      4000.000000  \n",
              "mean                 231.492025      45.62825     30.380750        13.131500  \n",
              "std                  215.922483      13.90201      6.800172         7.357496  \n",
              "min                    3.700000      11.00000     19.000000         2.000000  \n",
              "25%                   40.500000      35.00000     24.000000         8.000000  \n",
              "50%                  199.900000      45.00000     31.000000        12.000000  \n",
              "75%                  350.100000      56.00000     36.000000        17.000000  \n",
              "max                  723.400000      73.00000     42.000000        30.000000  "
            ],
            "text/html": [
              "\n",
              "  <div id=\"df-99c74ffc-5840-4b49-9a3c-e620c92e8056\">\n",
              "    <div class=\"colab-df-container\">\n",
              "      <div>\n",
              "<style scoped>\n",
              "    .dataframe tbody tr th:only-of-type {\n",
              "        vertical-align: middle;\n",
              "    }\n",
              "\n",
              "    .dataframe tbody tr th {\n",
              "        vertical-align: top;\n",
              "    }\n",
              "\n",
              "    .dataframe thead th {\n",
              "        text-align: right;\n",
              "    }\n",
              "</style>\n",
              "<table border=\"1\" class=\"dataframe\">\n",
              "  <thead>\n",
              "    <tr style=\"text-align: right;\">\n",
              "      <th></th>\n",
              "      <th>Sales_ID</th>\n",
              "      <th>Quantity</th>\n",
              "      <th>Price</th>\n",
              "      <th>Rate</th>\n",
              "      <th>Holiday</th>\n",
              "      <th>City_Density(people/km2)</th>\n",
              "      <th>customer_age</th>\n",
              "      <th>employee_age</th>\n",
              "      <th>employee_tenure</th>\n",
              "    </tr>\n",
              "  </thead>\n",
              "  <tbody>\n",
              "    <tr>\n",
              "      <th>count</th>\n",
              "      <td>4000.000000</td>\n",
              "      <td>4000.000000</td>\n",
              "      <td>4000.000000</td>\n",
              "      <td>4000.000000</td>\n",
              "      <td>4000.000000</td>\n",
              "      <td>4000.000000</td>\n",
              "      <td>4000.00000</td>\n",
              "      <td>4000.000000</td>\n",
              "      <td>4000.000000</td>\n",
              "    </tr>\n",
              "    <tr>\n",
              "      <th>mean</th>\n",
              "      <td>1999.500000</td>\n",
              "      <td>63.538750</td>\n",
              "      <td>495.345250</td>\n",
              "      <td>5.463725</td>\n",
              "      <td>0.496000</td>\n",
              "      <td>231.492025</td>\n",
              "      <td>45.62825</td>\n",
              "      <td>30.380750</td>\n",
              "      <td>13.131500</td>\n",
              "    </tr>\n",
              "    <tr>\n",
              "      <th>std</th>\n",
              "      <td>1154.844867</td>\n",
              "      <td>44.012558</td>\n",
              "      <td>287.884564</td>\n",
              "      <td>2.604830</td>\n",
              "      <td>0.500047</td>\n",
              "      <td>215.922483</td>\n",
              "      <td>13.90201</td>\n",
              "      <td>6.800172</td>\n",
              "      <td>7.357496</td>\n",
              "    </tr>\n",
              "    <tr>\n",
              "      <th>min</th>\n",
              "      <td>0.000000</td>\n",
              "      <td>1.000000</td>\n",
              "      <td>1.800000</td>\n",
              "      <td>1.000000</td>\n",
              "      <td>0.000000</td>\n",
              "      <td>3.700000</td>\n",
              "      <td>11.00000</td>\n",
              "      <td>19.000000</td>\n",
              "      <td>2.000000</td>\n",
              "    </tr>\n",
              "    <tr>\n",
              "      <th>25%</th>\n",
              "      <td>999.750000</td>\n",
              "      <td>28.000000</td>\n",
              "      <td>244.775000</td>\n",
              "      <td>3.200000</td>\n",
              "      <td>0.000000</td>\n",
              "      <td>40.500000</td>\n",
              "      <td>35.00000</td>\n",
              "      <td>24.000000</td>\n",
              "      <td>8.000000</td>\n",
              "    </tr>\n",
              "    <tr>\n",
              "      <th>50%</th>\n",
              "      <td>1999.500000</td>\n",
              "      <td>56.000000</td>\n",
              "      <td>491.450000</td>\n",
              "      <td>5.500000</td>\n",
              "      <td>0.000000</td>\n",
              "      <td>199.900000</td>\n",
              "      <td>45.00000</td>\n",
              "      <td>31.000000</td>\n",
              "      <td>12.000000</td>\n",
              "    </tr>\n",
              "    <tr>\n",
              "      <th>75%</th>\n",
              "      <td>2999.250000</td>\n",
              "      <td>88.000000</td>\n",
              "      <td>742.575000</td>\n",
              "      <td>7.700000</td>\n",
              "      <td>1.000000</td>\n",
              "      <td>350.100000</td>\n",
              "      <td>56.00000</td>\n",
              "      <td>36.000000</td>\n",
              "      <td>17.000000</td>\n",
              "    </tr>\n",
              "    <tr>\n",
              "      <th>max</th>\n",
              "      <td>3999.000000</td>\n",
              "      <td>180.000000</td>\n",
              "      <td>999.900000</td>\n",
              "      <td>10.000000</td>\n",
              "      <td>1.000000</td>\n",
              "      <td>723.400000</td>\n",
              "      <td>73.00000</td>\n",
              "      <td>42.000000</td>\n",
              "      <td>30.000000</td>\n",
              "    </tr>\n",
              "  </tbody>\n",
              "</table>\n",
              "</div>\n",
              "      <button class=\"colab-df-convert\" onclick=\"convertToInteractive('df-99c74ffc-5840-4b49-9a3c-e620c92e8056')\"\n",
              "              title=\"Convert this dataframe to an interactive table.\"\n",
              "              style=\"display:none;\">\n",
              "        \n",
              "  <svg xmlns=\"http://www.w3.org/2000/svg\" height=\"24px\"viewBox=\"0 0 24 24\"\n",
              "       width=\"24px\">\n",
              "    <path d=\"M0 0h24v24H0V0z\" fill=\"none\"/>\n",
              "    <path d=\"M18.56 5.44l.94 2.06.94-2.06 2.06-.94-2.06-.94-.94-2.06-.94 2.06-2.06.94zm-11 1L8.5 8.5l.94-2.06 2.06-.94-2.06-.94L8.5 2.5l-.94 2.06-2.06.94zm10 10l.94 2.06.94-2.06 2.06-.94-2.06-.94-.94-2.06-.94 2.06-2.06.94z\"/><path d=\"M17.41 7.96l-1.37-1.37c-.4-.4-.92-.59-1.43-.59-.52 0-1.04.2-1.43.59L10.3 9.45l-7.72 7.72c-.78.78-.78 2.05 0 2.83L4 21.41c.39.39.9.59 1.41.59.51 0 1.02-.2 1.41-.59l7.78-7.78 2.81-2.81c.8-.78.8-2.07 0-2.86zM5.41 20L4 18.59l7.72-7.72 1.47 1.35L5.41 20z\"/>\n",
              "  </svg>\n",
              "      </button>\n",
              "      \n",
              "  <style>\n",
              "    .colab-df-container {\n",
              "      display:flex;\n",
              "      flex-wrap:wrap;\n",
              "      gap: 12px;\n",
              "    }\n",
              "\n",
              "    .colab-df-convert {\n",
              "      background-color: #E8F0FE;\n",
              "      border: none;\n",
              "      border-radius: 50%;\n",
              "      cursor: pointer;\n",
              "      display: none;\n",
              "      fill: #1967D2;\n",
              "      height: 32px;\n",
              "      padding: 0 0 0 0;\n",
              "      width: 32px;\n",
              "    }\n",
              "\n",
              "    .colab-df-convert:hover {\n",
              "      background-color: #E2EBFA;\n",
              "      box-shadow: 0px 1px 2px rgba(60, 64, 67, 0.3), 0px 1px 3px 1px rgba(60, 64, 67, 0.15);\n",
              "      fill: #174EA6;\n",
              "    }\n",
              "\n",
              "    [theme=dark] .colab-df-convert {\n",
              "      background-color: #3B4455;\n",
              "      fill: #D2E3FC;\n",
              "    }\n",
              "\n",
              "    [theme=dark] .colab-df-convert:hover {\n",
              "      background-color: #434B5C;\n",
              "      box-shadow: 0px 1px 3px 1px rgba(0, 0, 0, 0.15);\n",
              "      filter: drop-shadow(0px 1px 2px rgba(0, 0, 0, 0.3));\n",
              "      fill: #FFFFFF;\n",
              "    }\n",
              "  </style>\n",
              "\n",
              "      <script>\n",
              "        const buttonEl =\n",
              "          document.querySelector('#df-99c74ffc-5840-4b49-9a3c-e620c92e8056 button.colab-df-convert');\n",
              "        buttonEl.style.display =\n",
              "          google.colab.kernel.accessAllowed ? 'block' : 'none';\n",
              "\n",
              "        async function convertToInteractive(key) {\n",
              "          const element = document.querySelector('#df-99c74ffc-5840-4b49-9a3c-e620c92e8056');\n",
              "          const dataTable =\n",
              "            await google.colab.kernel.invokeFunction('convertToInteractive',\n",
              "                                                     [key], {});\n",
              "          if (!dataTable) return;\n",
              "\n",
              "          const docLinkHtml = 'Like what you see? Visit the ' +\n",
              "            '<a target=\"_blank\" href=https://colab.research.google.com/notebooks/data_table.ipynb>data table notebook</a>'\n",
              "            + ' to learn more about interactive tables.';\n",
              "          element.innerHTML = '';\n",
              "          dataTable['output_type'] = 'display_data';\n",
              "          await google.colab.output.renderOutput(dataTable, element);\n",
              "          const docLink = document.createElement('div');\n",
              "          docLink.innerHTML = docLinkHtml;\n",
              "          element.appendChild(docLink);\n",
              "        }\n",
              "      </script>\n",
              "    </div>\n",
              "  </div>\n",
              "  "
            ]
          },
          "metadata": {},
          "execution_count": 22
        }
      ]
    },
    {
      "cell_type": "markdown",
      "metadata": {
        "id": "HSJaSoZwkAdj"
      },
      "source": [
        " Distribution of Employees/Customer ages"
      ]
    },
    {
      "cell_type": "code",
      "execution_count": 23,
      "metadata": {
        "id": "IVlhVY9jkAdj",
        "outputId": "3f5f1891-8768-4396-e78e-447dd25f5018",
        "colab": {
          "base_uri": "https://localhost:8080/",
          "height": 382
        }
      },
      "outputs": [
        {
          "output_type": "stream",
          "name": "stdout",
          "text": [
            "Skewness:  0.0407988516867981\n",
            "Kurtosis:  -0.7482232672085551 \n",
            "\n",
            "\n"
          ]
        },
        {
          "output_type": "execute_result",
          "data": {
            "text/plain": [
              "Text(0.5, 1.0, 'Distribution of Customer Ages')"
            ]
          },
          "metadata": {},
          "execution_count": 23
        },
        {
          "output_type": "display_data",
          "data": {
            "text/plain": [
              "<Figure size 432x288 with 1 Axes>"
            ],
            "image/png": "[encoded data removed]"
          },
          "metadata": {
            "needs_background": "light"
          }
        }
      ],
      "source": [
        "print(\"Skewness: \", df[\"customer_age\"].skew())\n",
        "print(\"Kurtosis: \", df[\"customer_age\"].kurtosis(),'\\n\\n')\n",
        "sns.boxplot(data =df, x = \"customer_age\")\n",
        "plt.xlabel(\"Customer Age (Years)\")\n",
        "plt.title(\"Distribution of Customer Ages\")"
      ]
    },
    {
      "cell_type": "code",
      "execution_count": 24,
      "metadata": {
        "id": "Rep-4FodkAdj",
        "outputId": "e9267a1a-4152-498b-9113-987164ea3be0",
        "colab": {
          "base_uri": "https://localhost:8080/",
          "height": 503
        }
      },
      "outputs": [
        {
          "output_type": "stream",
          "name": "stdout",
          "text": [
            "Skewness:  -0.11729376748820634\n",
            "Kurtosis:  -1.2475981668773617 \n",
            "\n"
          ]
        },
        {
          "output_type": "execute_result",
          "data": {
            "text/plain": [
              "count    4000.000000\n",
              "mean       30.380750\n",
              "std         6.800172\n",
              "min        19.000000\n",
              "25%        24.000000\n",
              "50%        31.000000\n",
              "75%        36.000000\n",
              "max        42.000000\n",
              "Name: employee_age, dtype: float64"
            ]
          },
          "metadata": {},
          "execution_count": 24
        },
        {
          "output_type": "display_data",
          "data": {
            "text/plain": [
              "<Figure size 432x288 with 1 Axes>"
            ],
            "image/png": "[encoded data removed]"
          },
          "metadata": {
            "needs_background": "light"
          }
        }
      ],
      "source": [
        "print(\"Skewness: \", df[\"employee_age\"].skew())\n",
        "print(\"Kurtosis: \", df[\"employee_age\"].kurtosis(),'\\n')\n",
        "sns.boxplot(data = df, x = \"employee_age\")\n",
        "plt.xlabel(\"Employee Age (Years)\")\n",
        "plt.title(\"Distribution of Employee Ages\")\n",
        "stats = df.describe()\n",
        "stats[\"employee_age\"]"
      ]
    },
    {
      "cell_type": "code",
      "execution_count": 25,
      "metadata": {
        "id": "cztu_9yOkAdj",
        "outputId": "0e42a3ec-73e8-469c-8166-69b72bc1df55",
        "colab": {
          "base_uri": "https://localhost:8080/",
          "height": 382
        }
      },
      "outputs": [
        {
          "output_type": "stream",
          "name": "stdout",
          "text": [
            "Skewness:  0.552837288052286\n",
            "Kurtosis:  -0.36675555728192855 \n",
            "\n",
            "\n"
          ]
        },
        {
          "output_type": "execute_result",
          "data": {
            "text/plain": [
              "Text(0.5, 1.0, 'Distribution of Employee Tenure')"
            ]
          },
          "metadata": {},
          "execution_count": 25
        },
        {
          "output_type": "display_data",
          "data": {
            "text/plain": [
              "<Figure size 432x288 with 1 Axes>"
            ],
            "image/png": "[encoded data removed]"
          },
          "metadata": {
            "needs_background": "light"
          }
        }
      ],
      "source": [
        "print(\"Skewness: \", df[\"employee_tenure\"].skew())\n",
        "print(\"Kurtosis: \", df[\"employee_tenure\"].kurtosis(),'\\n\\n')\n",
        "sns.boxplot(data = df, x = \"employee_tenure\")\n",
        "plt.xlabel(\"Employee Tenure (Months)\")\n",
        "plt.title(\"Distribution of Employee Tenure\")\n",
        "\n"
      ]
    },
    {
      "cell_type": "code",
      "execution_count": 26,
      "metadata": {
        "id": "artplOgkkAdj",
        "outputId": "04620ef3-b5ed-4746-eb27-4391e2b27e4a",
        "colab": {
          "base_uri": "https://localhost:8080/",
          "height": 610
        }
      },
      "outputs": [
        {
          "output_type": "stream",
          "name": "stdout",
          "text": [
            "Skewness:  0.015207131832901424\n",
            "Kurtosis:  -1.191966826178514 \n",
            "\n",
            "\n"
          ]
        },
        {
          "output_type": "stream",
          "name": "stderr",
          "text": [
            "/usr/local/lib/python3.7/dist-packages/seaborn/_decorators.py:43: FutureWarning:\n",
            "\n",
            "Pass the following variable as a keyword arg: x. From version 0.12, the only valid positional argument will be `data`, and passing other arguments without an explicit keyword will result in an error or misinterpretation.\n",
            "\n"
          ]
        },
        {
          "output_type": "execute_result",
          "data": {
            "text/plain": [
              "count    4000.000000\n",
              "mean      495.345250\n",
              "std       287.884564\n",
              "min         1.800000\n",
              "25%       244.775000\n",
              "50%       491.450000\n",
              "75%       742.575000\n",
              "max       999.900000\n",
              "Name: Price, dtype: float64"
            ]
          },
          "metadata": {},
          "execution_count": 26
        },
        {
          "output_type": "display_data",
          "data": {
            "text/plain": [
              "<Figure size 432x288 with 1 Axes>"
            ],
            "image/png": "[encoded data removed]"
          },
          "metadata": {
            "needs_background": "light"
          }
        }
      ],
      "source": [
        "print(\"Skewness: \", df[\"Price\"].skew())\n",
        "print(\"Kurtosis: \", df[\"Price\"].kurtosis(),'\\n\\n')\n",
        "sns.boxplot(df[\"Price\"])\n",
        "plt.title(\"Distribution of Amount spent in store\")\n",
        "stats[\"Price\"]"
      ]
    },
    {
      "cell_type": "code",
      "execution_count": 27,
      "metadata": {
        "id": "zudbcK6VkAdk",
        "outputId": "ba417631-3d02-4ec6-aee4-c4475f226646",
        "colab": {
          "base_uri": "https://localhost:8080/",
          "height": 593
        }
      },
      "outputs": [
        {
          "output_type": "stream",
          "name": "stdout",
          "text": [
            "Skewness:  0.6963504953101468\n",
            "Kurtosis:  -0.33356247908662073 \n",
            "\n"
          ]
        },
        {
          "output_type": "stream",
          "name": "stderr",
          "text": [
            "/usr/local/lib/python3.7/dist-packages/seaborn/_decorators.py:43: FutureWarning:\n",
            "\n",
            "Pass the following variable as a keyword arg: x. From version 0.12, the only valid positional argument will be `data`, and passing other arguments without an explicit keyword will result in an error or misinterpretation.\n",
            "\n"
          ]
        },
        {
          "output_type": "execute_result",
          "data": {
            "text/plain": [
              "count    4000.000000\n",
              "mean       63.538750\n",
              "std        44.012558\n",
              "min         1.000000\n",
              "25%        28.000000\n",
              "50%        56.000000\n",
              "75%        88.000000\n",
              "max       180.000000\n",
              "Name: Quantity, dtype: float64"
            ]
          },
          "metadata": {},
          "execution_count": 27
        },
        {
          "output_type": "display_data",
          "data": {
            "text/plain": [
              "<Figure size 432x288 with 1 Axes>"
            ],
            "image/png": "[encoded data removed]"
          },
          "metadata": {
            "needs_background": "light"
          }
        }
      ],
      "source": [
        "print(\"Skewness: \", df[\"Quantity\"].skew())\n",
        "print(\"Kurtosis: \", df[\"Quantity\"].kurtosis(),'\\n')\n",
        "\n",
        "sns.boxplot(df[\"Quantity\"])\n",
        "plt.title(\"Distribution of Quantities purchased in store\")\n",
        "stats[\"Quantity\"]\n"
      ]
    },
    {
      "cell_type": "code",
      "execution_count": 28,
      "metadata": {
        "id": "soGrO5sHkAdk",
        "outputId": "c154acaa-4799-4884-d1de-5f9185fffbe1",
        "colab": {
          "base_uri": "https://localhost:8080/"
        }
      },
      "outputs": [
        {
          "output_type": "execute_result",
          "data": {
            "text/plain": [
              "count    2000.000000\n",
              "mean       57.664500\n",
              "std        39.755379\n",
              "min         1.000000\n",
              "25%        26.000000\n",
              "50%        51.000000\n",
              "75%        78.000000\n",
              "max       150.000000\n",
              "Name: Quantity, dtype: float64"
            ]
          },
          "metadata": {},
          "execution_count": 28
        }
      ],
      "source": [
        "df[df[\"Online\"] == True][\"Quantity\"].describe()"
      ]
    },
    {
      "cell_type": "code",
      "execution_count": 29,
      "metadata": {
        "id": "D4bY-zPAkAdk",
        "outputId": "acfe9db5-0dc9-4651-97d1-0f8a001bf1af",
        "colab": {
          "base_uri": "https://localhost:8080/"
        }
      },
      "outputs": [
        {
          "output_type": "execute_result",
          "data": {
            "text/plain": [
              "count    2000.000000\n",
              "mean       69.413000\n",
              "std        47.176702\n",
              "min         1.000000\n",
              "25%        32.000000\n",
              "50%        61.000000\n",
              "75%        94.250000\n",
              "max       180.000000\n",
              "Name: Quantity, dtype: float64"
            ]
          },
          "metadata": {},
          "execution_count": 29
        }
      ],
      "source": [
        "df[df[\"Online\"] == False][\"Quantity\"].describe()"
      ]
    },
    {
      "cell_type": "code",
      "execution_count": 30,
      "metadata": {
        "id": "Kp8Y74EzkAdk",
        "outputId": "e09bce28-cad8-4357-e297-382ebf38cbab",
        "colab": {
          "base_uri": "https://localhost:8080/",
          "height": 312
        }
      },
      "outputs": [
        {
          "output_type": "execute_result",
          "data": {
            "text/plain": [
              "<matplotlib.axes._subplots.AxesSubplot at 0x7f3da02045d0>"
            ]
          },
          "metadata": {},
          "execution_count": 30
        },
        {
          "output_type": "display_data",
          "data": {
            "text/plain": [
              "<Figure size 432x288 with 1 Axes>"
            ],
            "image/png": "[encoded data removed]"
          },
          "metadata": {
            "needs_background": "light"
          }
        }
      ],
      "source": [
        "df.groupby(\"Online\")[\"Quantity\"].mean().plot(kind ='bar')"
      ]
    },
    {
      "cell_type": "markdown",
      "metadata": {
        "id": "RQIU4gsVkAdk"
      },
      "source": [
        "# Sales Percentages of each employee Type"
      ]
    },
    {
      "cell_type": "code",
      "execution_count": 31,
      "metadata": {
        "id": "IcZdg0cZkAdk",
        "outputId": "d7273554-614b-410b-e6fb-a628ef6f8ebb",
        "colab": {
          "base_uri": "https://localhost:8080/",
          "height": 0
        }
      },
      "outputs": [
        {
          "output_type": "display_data",
          "data": {
            "text/plain": [
              "<Figure size 432x288 with 1 Axes>"
            ],
            "image/png": "[encoded data removed]"
          },
          "metadata": {}
        }
      ],
      "source": [
        "x = (df.groupby(\"EmpType\")[\"Price\"].sum() /df[\"Price\"].sum())*100\n",
        "fig, ax = plt.subplots()\n",
        "ax.pie(x, autopct='%1.1f%%', startangle=90, labels = x.index, explode =(x == max(x)))\n",
        "fig.patch.set_facecolor('white')\n",
        "ax.set_title(\"Sales per employee type\")\n",
        "plt.show()"
      ]
    },
    {
      "cell_type": "code",
      "execution_count": 32,
      "metadata": {
        "id": "dmxx4tD1kAdk",
        "outputId": "7755f41f-e3a0-4375-fabb-177823935c01",
        "colab": {
          "base_uri": "https://localhost:8080/"
        }
      },
      "outputs": [
        {
          "output_type": "execute_result",
          "data": {
            "text/plain": [
              "Branch_Location\n",
              "Amman      180851.9\n",
              "Aqaba      187848.5\n",
              "Balqa      187464.9\n",
              "Irbid      215509.7\n",
              "Online    1003753.3\n",
              "Zarqa      205952.7\n",
              "Name: Price, dtype: float64"
            ]
          },
          "metadata": {},
          "execution_count": 32
        }
      ],
      "source": [
        "df.groupby(\"Branch_Location\")[\"Price\"].sum()"
      ]
    },
    {
      "cell_type": "code",
      "execution_count": 33,
      "metadata": {
        "id": "TBbg_w6PkAdk",
        "outputId": "4e0d002a-4007-4ee7-a569-7a0e3a6ab5be",
        "colab": {
          "base_uri": "https://localhost:8080/",
          "height": 0
        }
      },
      "outputs": [
        {
          "output_type": "display_data",
          "data": {
            "text/plain": [
              "<Figure size 432x288 with 1 Axes>"
            ],
            "image/png": "[encoded data removed]"
          },
          "metadata": {
            "needs_background": "light"
          }
        }
      ],
      "source": [
        "x= df.groupby(\"PromotionType\")[\"Price\"].sum().sort_values().plot(kind= 'barh')\n",
        "#obviously the income from giveaways sales are the most and the standard price with no promotion is the least with 220k"
      ]
    },
    {
      "cell_type": "code",
      "execution_count": 34,
      "metadata": {
        "id": "h1fZmaowkAdl",
        "outputId": "14b3b14f-fe5d-43dd-c854-fcf630190c4c",
        "colab": {
          "base_uri": "https://localhost:8080/",
          "height": 0
        }
      },
      "outputs": [
        {
          "output_type": "execute_result",
          "data": {
            "text/plain": [
              "<matplotlib.axes._subplots.AxesSubplot at 0x7f3d9b211d50>"
            ]
          },
          "metadata": {},
          "execution_count": 34
        },
        {
          "output_type": "display_data",
          "data": {
            "text/plain": [
              "<Figure size 432x288 with 1 Axes>"
            ],
            "image/png": "[encoded data removed]"
          },
          "metadata": {
            "needs_background": "light"
          }
        }
      ],
      "source": [
        "df1 = df.groupby(\"PromotionType\")[\"Price\"].mean()\n",
        "df1.plot(kind = 'bar')"
      ]
    },
    {
      "cell_type": "code",
      "execution_count": 35,
      "metadata": {
        "id": "lizfgIG9kAdl",
        "outputId": "1d0757b5-966b-4df0-ed78-da02ee4e3285",
        "colab": {
          "base_uri": "https://localhost:8080/",
          "height": 0
        }
      },
      "outputs": [
        {
          "output_type": "execute_result",
          "data": {
            "text/plain": [
              "<matplotlib.axes._subplots.AxesSubplot at 0x7f3d9b269c50>"
            ]
          },
          "metadata": {},
          "execution_count": 35
        },
        {
          "output_type": "display_data",
          "data": {
            "text/plain": [
              "<Figure size 432x288 with 1 Axes>"
            ],
            "image/png": "[encoded data removed]"
          },
          "metadata": {
            "needs_background": "light"
          }
        }
      ],
      "source": [
        "df2 = df.groupby(\"Promotion\")[\"Price\"].mean()\n",
        "df2.plot(kind = 'bar')"
      ]
    },
    {
      "cell_type": "code",
      "execution_count": 36,
      "metadata": {
        "id": "t9a-ATTdkAdl",
        "outputId": "b8900b58-6087-44e8-878a-fe57dfb132f3",
        "colab": {
          "base_uri": "https://localhost:8080/"
        }
      },
      "outputs": [
        {
          "output_type": "execute_result",
          "data": {
            "text/plain": [
              "488.665522174535"
            ]
          },
          "metadata": {},
          "execution_count": 36
        }
      ],
      "source": [
        "df[df[\"PromotionType\"] == \"Giveaways\"][\"Price\"].sum()/len(df[df[\"PromotionType\"] == \"Giveaways\"])"
      ]
    },
    {
      "cell_type": "code",
      "execution_count": 37,
      "metadata": {
        "id": "ksGZQsZekAdl",
        "outputId": "0c2323e5-c2c3-4893-b3cd-d8dc3ba7135c",
        "colab": {
          "base_uri": "https://localhost:8080/"
        }
      },
      "outputs": [
        {
          "output_type": "execute_result",
          "data": {
            "text/plain": [
              "472.1779443254818"
            ]
          },
          "metadata": {},
          "execution_count": 37
        }
      ],
      "source": [
        "df[df[\"PromotionType\"] == \"No Promotion\"][\"Price\"].sum()/len(df[df[\"PromotionType\"] == \"No Promotion\"])"
      ]
    },
    {
      "cell_type": "code",
      "execution_count": 38,
      "metadata": {
        "id": "5S6bB74SkAdl",
        "outputId": "b05d31ee-17c5-43ec-ffa5-010cb83477cf",
        "colab": {
          "base_uri": "https://localhost:8080/"
        }
      },
      "outputs": [
        {
          "output_type": "execute_result",
          "data": {
            "text/plain": [
              "498.40755731672795"
            ]
          },
          "metadata": {},
          "execution_count": 38
        }
      ],
      "source": [
        "df[df[\"Promotion\"] == 1][\"Price\"].sum()/len(df[df[\"Promotion\"] == 1])"
      ]
    },
    {
      "cell_type": "code",
      "execution_count": 39,
      "metadata": {
        "id": "dsReih0NkAdl",
        "outputId": "cbadd04c-19ed-43f5-b9a3-f12c74e31bc1",
        "colab": {
          "base_uri": "https://localhost:8080/"
        }
      },
      "outputs": [
        {
          "output_type": "execute_result",
          "data": {
            "text/plain": [
              "472.1779443254818"
            ]
          },
          "metadata": {},
          "execution_count": 39
        }
      ],
      "source": [
        "df[df[\"Promotion\"] == 0][\"Price\"].sum()/len(df[df[\"Promotion\"] == 0])"
      ]
    },
    {
      "cell_type": "code",
      "execution_count": 40,
      "metadata": {
        "id": "RnSxhR6zkAdl",
        "outputId": "27875c04-3cc5-4b1e-be17-ce8735a2fb7b",
        "colab": {
          "base_uri": "https://localhost:8080/",
          "height": 0
        }
      },
      "outputs": [
        {
          "output_type": "stream",
          "name": "stderr",
          "text": [
            "/usr/local/lib/python3.7/dist-packages/seaborn/distributions.py:2619: FutureWarning:\n",
            "\n",
            "`distplot` is a deprecated function and will be removed in a future version. Please adapt your code to use either `displot` (a figure-level function with similar flexibility) or `histplot` (an axes-level function for histograms).\n",
            "\n"
          ]
        },
        {
          "output_type": "stream",
          "name": "stdout",
          "text": [
            "292.5389759722141\n"
          ]
        },
        {
          "output_type": "display_data",
          "data": {
            "text/plain": [
              "<Figure size 432x288 with 1 Axes>"
            ],
            "image/png": "[encoded data removed]"
          },
          "metadata": {
            "needs_background": "light"
          }
        }
      ],
      "source": [
        "sns.distplot(df[df[\"PromotionType\"] == \"Giveaways\"][\"Price\"])\n",
        "print(df[df[\"PromotionType\"] == \"Giveaways\"][\"Price\"].std())"
      ]
    },
    {
      "cell_type": "code",
      "execution_count": 41,
      "metadata": {
        "id": "QOj-OXuBkAdl",
        "outputId": "285f30cb-94de-4512-a9e6-717d8ffbda3f",
        "colab": {
          "base_uri": "https://localhost:8080/",
          "height": 0
        }
      },
      "outputs": [
        {
          "output_type": "stream",
          "name": "stderr",
          "text": [
            "/usr/local/lib/python3.7/dist-packages/seaborn/distributions.py:2619: FutureWarning:\n",
            "\n",
            "`distplot` is a deprecated function and will be removed in a future version. Please adapt your code to use either `displot` (a figure-level function with similar flexibility) or `histplot` (an axes-level function for histograms).\n",
            "\n"
          ]
        },
        {
          "output_type": "stream",
          "name": "stdout",
          "text": [
            "289.7461229371992\n"
          ]
        },
        {
          "output_type": "display_data",
          "data": {
            "text/plain": [
              "<Figure size 432x288 with 1 Axes>"
            ],
            "image/png": "[encoded data removed]"
          },
          "metadata": {
            "needs_background": "light"
          }
        }
      ],
      "source": [
        "sns.distplot(df[df[\"PromotionType\"] == \"No Promotion\"][\"Price\"])\n",
        "print(df[df[\"PromotionType\"] == \"No Promotion\"][\"Price\"].std())"
      ]
    },
    {
      "cell_type": "code",
      "execution_count": 42,
      "metadata": {
        "id": "lRlXHsDJkAdl",
        "outputId": "5e256756-e0c8-4abd-90c6-b4ea948c8897",
        "colab": {
          "base_uri": "https://localhost:8080/",
          "height": 0
        }
      },
      "outputs": [
        {
          "output_type": "stream",
          "name": "stderr",
          "text": [
            "/usr/local/lib/python3.7/dist-packages/seaborn/distributions.py:2619: FutureWarning:\n",
            "\n",
            "`distplot` is a deprecated function and will be removed in a future version. Please adapt your code to use either `displot` (a figure-level function with similar flexibility) or `histplot` (an axes-level function for histograms).\n",
            "\n"
          ]
        },
        {
          "output_type": "stream",
          "name": "stdout",
          "text": [
            "284.47669563388826\n"
          ]
        },
        {
          "output_type": "display_data",
          "data": {
            "text/plain": [
              "<Figure size 432x288 with 1 Axes>"
            ],
            "image/png": "[encoded data removed]"
          },
          "metadata": {
            "needs_background": "light"
          }
        }
      ],
      "source": [
        "sns.distplot(df[df[\"PromotionType\"] == \"Online Promotion\"][\"Price\"])\n",
        "print(df[df[\"PromotionType\"] == \"Online Promotion\"][\"Price\"].std())"
      ]
    },
    {
      "cell_type": "code",
      "source": [
        "df[df[\"Branch_Location\"] == \"Online\"].groupby(\"employee_tenure_bins\")[\"Price\"].sum().plot(kind = 'bar', title = \"Employee Tenure Online Sales\", xlabel = \"Employee Tenure (Months)\", ylabel = \"Price \")"
      ],
      "metadata": {
        "colab": {
          "base_uri": "https://localhost:8080/",
          "height": 0
        },
        "id": "DJWFc9waXClX",
        "outputId": "48236e1e-b34e-4da0-f192-fb8735b5aa48"
      },
      "execution_count": 43,
      "outputs": [
        {
          "output_type": "execute_result",
          "data": {
            "text/plain": [
              "<matplotlib.axes._subplots.AxesSubplot at 0x7f3d9aefc3d0>"
            ]
          },
          "metadata": {},
          "execution_count": 43
        },
        {
          "output_type": "display_data",
          "data": {
            "text/plain": [
              "<Figure size 432x288 with 1 Axes>"
            ],
            "image/png": "[encoded data removed]"
          },
          "metadata": {
            "needs_background": "light"
          }
        }
      ]
    },
    {
      "cell_type": "markdown",
      "metadata": {
        "id": "Ev2R4ceqkAdm"
      },
      "source": [
        "# Sales percentages for each promotion type"
      ]
    },
    {
      "cell_type": "code",
      "execution_count": 44,
      "metadata": {
        "id": "jtutfzorkAdm",
        "outputId": "8b06d1bd-c9ce-4a97-c37e-069fe3dfd914",
        "colab": {
          "base_uri": "https://localhost:8080/",
          "height": 0
        }
      },
      "outputs": [
        {
          "output_type": "display_data",
          "data": {
            "text/plain": [
              "<Figure size 432x288 with 1 Axes>"
            ],
            "image/png": "[encoded data removed]"
          },
          "metadata": {}
        }
      ],
      "source": [
        "g = ((df.groupby(\"PromotionType\")[\"Price\"].sum() / df['Price'].sum())*100)\n",
        "fig1, ax1 = plt.subplots()\n",
        "ax1.pie(g, autopct='%1.1f%%', startangle=90, labels= g.index)\n",
        "fig1.patch.set_facecolor('white')\n",
        "ax1.set_title(\"Percentage of Sales Across Promotion Types\")\n",
        "plt.show()"
      ]
    },
    {
      "cell_type": "code",
      "execution_count": 45,
      "metadata": {
        "id": "J5yeBpCmkAdm"
      },
      "outputs": [],
      "source": [
        "# sns.catplot(data = df, kind='bar', x='DEPARTMENT', y=\"Price\", hue =\"Promotion\", size = 10)\n",
        "# #sales with and with out promotion for every department"
      ]
    },
    {
      "cell_type": "code",
      "execution_count": 46,
      "metadata": {
        "id": "DaKq-F6ukAdm",
        "outputId": "9202b752-ccc8-4498-ddcb-0b8f60bb5433",
        "colab": {
          "base_uri": "https://localhost:8080/"
        }
      },
      "outputs": [
        {
          "output_type": "execute_result",
          "data": {
            "text/plain": [
              "(3665, 28)"
            ]
          },
          "metadata": {},
          "execution_count": 46
        }
      ],
      "source": [
        "df[df[\"Sales_Year\"] == \"2021\"].shape"
      ]
    },
    {
      "cell_type": "code",
      "execution_count": 47,
      "metadata": {
        "id": "7Oot419JkAdm",
        "outputId": "722e959d-1834-4385-b4d6-e9b6d8e241d6",
        "colab": {
          "base_uri": "https://localhost:8080/"
        }
      },
      "outputs": [
        {
          "output_type": "execute_result",
          "data": {
            "text/plain": [
              "(335, 28)"
            ]
          },
          "metadata": {},
          "execution_count": 47
        }
      ],
      "source": [
        "df[df[\"Sales_Year\"] == \"2022\"].shape"
      ]
    },
    {
      "cell_type": "code",
      "execution_count": 48,
      "metadata": {
        "id": "8sBQGuELkAdm",
        "outputId": "64c9e33b-c952-4f88-811a-6ad9fa86d805",
        "colab": {
          "base_uri": "https://localhost:8080/",
          "height": 0
        }
      },
      "outputs": [
        {
          "output_type": "display_data",
          "data": {
            "text/plain": [
              "<Figure size 432x288 with 1 Axes>"
            ],
            "image/png": "[encoded data removed]"
          },
          "metadata": {}
        }
      ],
      "source": [
        "f = (df.groupby(\"Sales_Year\")[\"Price\"].sum()/df[\"Price\"].sum() *100)\n",
        "fig3, ax2 = plt.subplots()\n",
        "ax2.pie(f, autopct='%1.1f%%', labels = f.index, explode=(f == min(f)))\n",
        "fig3.patch.set_facecolor('white')\n",
        "ax2.set_title(\"Sales Percentages for each year\")\n",
        "ax2.legend()\n",
        "plt.show()"
      ]
    },
    {
      "cell_type": "code",
      "execution_count": 49,
      "metadata": {
        "id": "auZk6ZdEkAdm",
        "outputId": "d72f323a-b4e6-4d29-db42-ddeb05675678",
        "colab": {
          "base_uri": "https://localhost:8080/",
          "height": 0
        }
      },
      "outputs": [
        {
          "output_type": "display_data",
          "data": {
            "text/plain": [
              "<Figure size 432x288 with 1 Axes>"
            ],
            "image/png": "[encoded data removed]"
          },
          "metadata": {
            "needs_background": "light"
          }
        }
      ],
      "source": [
        "df.groupby(\"PaymentMethod\")[\"Price\"].mean().plot(kind = \"bar\")\n",
        "sns.set_style(\"whitegrid\")"
      ]
    },
    {
      "cell_type": "code",
      "execution_count": 50,
      "metadata": {
        "id": "lTBEnwg5kAdm",
        "outputId": "41c8162e-fcab-4f37-8952-9ac7f131b7e7",
        "colab": {
          "base_uri": "https://localhost:8080/",
          "height": 0
        }
      },
      "outputs": [
        {
          "output_type": "execute_result",
          "data": {
            "text/plain": [
              "Text(0.5, 0.98, 'Number of transactions made in each department by Payment Method')"
            ]
          },
          "metadata": {},
          "execution_count": 50
        },
        {
          "output_type": "display_data",
          "data": {
            "text/plain": [
              "<Figure size 720x720 with 3 Axes>"
            ],
            "image/png": "[encoded data removed]"
          },
          "metadata": {}
        }
      ],
      "source": [
        "fig5, ax3 = plt.subplots(3,1, sharex = False,sharey=True, figsize=(10,10))\n",
        "a =df[df[\"PaymentMethod\"] == \"Credit card\"]\n",
        "b = df[df[\"PaymentMethod\"] == \"Cash\"]\n",
        "c = df[df[\"PaymentMethod\"] == \"Ewallet\"]\n",
        "\n",
        "sns.barplot(ax = ax3[0], x = (a[\"DEPARTMENT\"].value_counts()).index,y = (a[\"DEPARTMENT\"].value_counts()).values)\n",
        "ax3[0].set_title(\"Credit Card\")\n",
        "\n",
        "sns.barplot(ax = ax3[1], x = (b[\"DEPARTMENT\"].value_counts()).index,y = (b[\"DEPARTMENT\"].value_counts()).values)\n",
        "ax3[1].set_title(\"Cash\")\n",
        "\n",
        "sns.barplot(ax = ax3[2], x = (c[\"DEPARTMENT\"].value_counts()).index,y = (c[\"DEPARTMENT\"].value_counts()).values)\n",
        "ax3[2].set_title(\"Ewallet\")\n",
        "sns.set_style(\"whitegrid\")\n",
        "\n",
        "fig5.suptitle(\"Number of transactions made in each department by Payment Method\")"
      ]
    },
    {
      "cell_type": "code",
      "execution_count": 51,
      "metadata": {
        "id": "ynA8pbzCkAdm",
        "outputId": "b7deee6b-67d2-413e-a8ba-43689a74bb90",
        "colab": {
          "base_uri": "https://localhost:8080/",
          "height": 0
        }
      },
      "outputs": [
        {
          "output_type": "execute_result",
          "data": {
            "text/plain": [
              "Text(0.5, 0.98, 'Gender Distribution across membership type')"
            ]
          },
          "metadata": {},
          "execution_count": 51
        },
        {
          "output_type": "display_data",
          "data": {
            "text/plain": [
              "<Figure size 576x360 with 2 Axes>"
            ],
            "image/png": "[encoded data removed]"
          },
          "metadata": {}
        }
      ],
      "source": [
        "aa = df.groupby(\"customer_gender\")[\"customer_gender\"]\n",
        "fig6, ax4 = plt.subplots(1,2, sharex = False,sharey=True, figsize=(8,5))\n",
        "e =df[df[\"Customer_Type\"] == \"Member\"]\n",
        "f = df[df[\"Customer_Type\"] == \"Normal\"]\n",
        "\n",
        "sns.barplot(ax = ax4[0], x = (e[\"customer_gender\"].value_counts()).index,y = (e[\"customer_gender\"].value_counts()).values)\n",
        "ax4[0].set_title(\"Members\")\n",
        "\n",
        "sns.barplot(ax = ax4[1], x = (f[\"customer_gender\"].value_counts()).index,y = (f[\"customer_gender\"].value_counts()).values)\n",
        "ax4[1].set_title(\"Non-members\")\n",
        "\n",
        "sns.set_style(\"whitegrid\")\n",
        "\n",
        "fig6.suptitle(\"Gender Distribution across membership type\")\n"
      ]
    },
    {
      "cell_type": "code",
      "source": [
        "df.groupby('DEPARTMENT')['Price'].sum().sort_values().plot(kind='barh')"
      ],
      "metadata": {
        "colab": {
          "base_uri": "https://localhost:8080/",
          "height": 0
        },
        "id": "0EmIqhA7iH3O",
        "outputId": "c8ba4f49-28f6-43df-972f-ede333d2e6cf"
      },
      "execution_count": 52,
      "outputs": [
        {
          "output_type": "execute_result",
          "data": {
            "text/plain": [
              "<matplotlib.axes._subplots.AxesSubplot at 0x7f3d9b187810>"
            ]
          },
          "metadata": {},
          "execution_count": 52
        },
        {
          "output_type": "display_data",
          "data": {
            "text/plain": [
              "<Figure size 432x288 with 1 Axes>"
            ],
            "image/png": "[encoded data removed]"
          },
          "metadata": {}
        }
      ]
    },
    {
      "cell_type": "code",
      "source": [
        "df.groupby('customer_age_bins')['Price'].sum().sort_values().plot(kind='bar')"
      ],
      "metadata": {
        "colab": {
          "base_uri": "https://localhost:8080/",
          "height": 0
        },
        "id": "PxXakfJBiJEj",
        "outputId": "1beb595a-82cc-45b8-95ba-c72ee96da1bd"
      },
      "execution_count": 53,
      "outputs": [
        {
          "output_type": "execute_result",
          "data": {
            "text/plain": [
              "<matplotlib.axes._subplots.AxesSubplot at 0x7f3d9b44c850>"
            ]
          },
          "metadata": {},
          "execution_count": 53
        },
        {
          "output_type": "display_data",
          "data": {
            "text/plain": [
              "<Figure size 432x288 with 1 Axes>"
            ],
            "image/png": "[encoded data removed]"
          },
          "metadata": {}
        }
      ]
    },
    {
      "cell_type": "code",
      "source": [
        "df.groupby('Promotion')['Quantity'].mean().plot(kind='bar')"
      ],
      "metadata": {
        "colab": {
          "base_uri": "https://localhost:8080/",
          "height": 0
        },
        "id": "kQzD5VI9iOQX",
        "outputId": "2aef4926-7dce-4941-8965-44d785a5926a"
      },
      "execution_count": 54,
      "outputs": [
        {
          "output_type": "execute_result",
          "data": {
            "text/plain": [
              "<matplotlib.axes._subplots.AxesSubplot at 0x7f3d9ba5ce90>"
            ]
          },
          "metadata": {},
          "execution_count": 54
        },
        {
          "output_type": "display_data",
          "data": {
            "text/plain": [
              "<Figure size 432x288 with 1 Axes>"
            ],
            "image/png": "[encoded data removed]"
          },
          "metadata": {}
        }
      ]
    },
    {
      "cell_type": "markdown",
      "source": [
        "# Sales Percentages based on Customer Age"
      ],
      "metadata": {
        "id": "I7aDXN6THrgU"
      }
    },
    {
      "cell_type": "code",
      "source": [
        "df.groupby('customer_age_bins')['Price'].mean().sort_values().plot(kind='bar')"
      ],
      "metadata": {
        "colab": {
          "base_uri": "https://localhost:8080/",
          "height": 316
        },
        "id": "L4IBr-sWIMJs",
        "outputId": "0a3a8f4a-1e06-4425-ebf9-6b1c327bfd44"
      },
      "execution_count": 61,
      "outputs": [
        {
          "output_type": "execute_result",
          "data": {
            "text/plain": [
              "<matplotlib.axes._subplots.AxesSubplot at 0x7f3d9a52c490>"
            ]
          },
          "metadata": {},
          "execution_count": 61
        },
        {
          "output_type": "display_data",
          "data": {
            "text/plain": [
              "<Figure size 432x288 with 1 Axes>"
            ],
            "image/png": "[encoded data removed]"
          },
          "metadata": {}
        }
      ]
    },
    {
      "cell_type": "code",
      "source": [
        "df.groupby('customer_age_bins')['Quantity'].mean().sort_values().plot(kind='bar')"
      ],
      "metadata": {
        "colab": {
          "base_uri": "https://localhost:8080/",
          "height": 316
        },
        "id": "55QvzTKZIP3z",
        "outputId": "724ed27a-5c14-4ba6-8758-dc6fb6d6b232"
      },
      "execution_count": 62,
      "outputs": [
        {
          "output_type": "execute_result",
          "data": {
            "text/plain": [
              "<matplotlib.axes._subplots.AxesSubplot at 0x7f3d9a4e3a10>"
            ]
          },
          "metadata": {},
          "execution_count": 62
        },
        {
          "output_type": "display_data",
          "data": {
            "text/plain": [
              "<Figure size 432x288 with 1 Axes>"
            ],
            "image/png": "[encoded data removed]"
          },
          "metadata": {}
        }
      ]
    },
    {
      "cell_type": "markdown",
      "source": [
        "# R Code"
      ],
      "metadata": {
        "id": "rnIUQSFGEolz"
      }
    },
    {
      "cell_type": "markdown",
      "source": [
        "## P_Value"
      ],
      "metadata": {
        "id": "OBZAmzTxMmlH"
      }
    },
    {
      "cell_type": "markdown",
      "source": [
        "When identifying a relationship between two variables, there is always a possibility that this correlation might be a coincidence (data randomly generated), a p-value calculation helps determine if the observed relationship could arise as a result of chance.\n",
        "\n",
        "\n",
        "\n",
        "P_value < 0.05 means it's significant, not a coicidence.\n",
        "\n",
        "\n",
        "P_value > 0.05 means it's not significant (randomly generated)"
      ],
      "metadata": {
        "id": "0VAtadrwMu5u"
      }
    },
    {
      "cell_type": "code",
      "execution_count": null,
      "metadata": {
        "id": "IgUmTiHjFp2-"
      },
      "outputs": [],
      "source": [
        "\"\"\"\n",
        "install.packages(c(\"Hmisc\", \"tidyverse\"))\n",
        "library(\"tidyverse\")\n",
        "library(\"Hmisc\")\n",
        "\n",
        "df = read.csv('Sales Data-Table 1.csv')\n",
        "\n",
        "#taking the numeric columns only\n",
        "\n",
        "num_df <- df[, c(3,4,5,14,15,16,33)]\n",
        "num_df\n",
        "\n",
        "results <- cor(num_df)\n",
        "results\n",
        "round(results,2)\n",
        "\n",
        "results2 <- rcorr(as.matrix(num_df))\n",
        "results2\n",
        "\"\"\""
      ]
    },
    {
      "cell_type": "markdown",
      "source": [
        "Results of P_Value:"
      ],
      "metadata": {
        "id": "UNtB9AJFjyLf"
      }
    },
    {
      "cell_type": "markdown",
      "source": [
        "\n",
        ">         **-**|**Quantity**|**Price**|**Rate**|**City_Area**|**City_Population**|**City_Density**|**Customer_Age**|\n",
        ":-----:|:-----:|:-----:|:-----:|:-----:|:-----:|:-----:|:-----:|\n",
        "Quantity |-| 0.9402|0.0047| 0.6140|    0.9724|         0.1768|  0.3139| \n",
        "Price |0.9402   |-|       0.6050| 0.1394|    0.8456|          0.3819|                   0.3206|\n",
        "Rate |0.0047|   0.6050|     -   |0.4286|    0.2986|          0.2082|                   0.1261|\n",
        "City_Area  |0.6140|   0.1394| 0.4286|       -|    0.0000|          0.0000|                   0.7286|\n",
        "City_Population  |0.9724|   0.8456| 0.2986| 0.0000|-|                    0.0000|                   0.7093|\n",
        "City_Density |0.1768|   0.3819| 0.2082| 0.0000|    0.0000| -|                            0.9466| \n",
        "Customer_Age  |0.3139|   0.3206| 0.1261| 0.7286|    0.7093|          0.9466|-| "
      ],
      "metadata": {
        "id": "rGgU8QEycNw3"
      }
    },
    {
      "cell_type": "markdown",
      "source": [
        "## Visualizations"
      ],
      "metadata": {
        "id": "uwEkJx-_MpgV"
      }
    },
    {
      "cell_type": "markdown",
      "source": [
        "#### customer_gender and Price"
      ],
      "metadata": {
        "id": "AqATqQRuykC4"
      }
    },
    {
      "cell_type": "code",
      "execution_count": null,
      "metadata": {
        "id": "u_TR_x74Fp29"
      },
      "outputs": [],
      "source": [
        "\"\"\"\n",
        "PCG = aggregate(Price~customer_gender, df, sum)\n",
        "g = ggplot(PCG, aes(x = customer_gender,y = Price, fill = customer_gender)) + \n",
        "    geom_col() + \n",
        "    geom_text(label = PCG$Price, position = position_stack())\n",
        "\n",
        "plot(g)\n",
        "\n",
        "# Comment on Plot:\n",
        "# Money spent per gender has shown no major differences on the graph. Females have spent slightly higher amounts. \n",
        "\n",
        "\"\"\""
      ]
    },
    {
      "cell_type": "markdown",
      "source": [
        "![Rplot077.png](data:image/png;base64,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)"
      ],
      "metadata": {
        "id": "JX_M_AOvAY7o"
      }
    },
    {
      "cell_type": "markdown",
      "source": [
        "#### Customer_Type and Price:"
      ],
      "metadata": {
        "id": "IwCKuBUvyxdv"
      }
    },
    {
      "cell_type": "code",
      "source": [
        "\"\"\"\n",
        "pct = aggregate(Price~Customer_Type,df,sum)\n",
        "x = ggplot(pct, aes(x = Customer_Type,y = Price, fill = Customer_Type))+ \n",
        "    geom_col() + \n",
        "    geom_text(label = pct$Price, position = position_stack(vjust=0.5))\n",
        "\n",
        "plot(x)\n",
        "\n",
        "# Comments on Plot:\n",
        "# The plot shows a difference between the amount spent depending on the Customer_type. It is more likely\n",
        "   members have spent more money since they have more chances of discounts and promotions\n",
        "\n",
        "\"\"\""
      ],
      "metadata": {
        "id": "0p5o8s55ue6J"
      },
      "execution_count": null,
      "outputs": []
    },
    {
      "cell_type": "markdown",
      "source": [
        "![Rplot066.png](data:image/png;base64,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)"
      ],
      "metadata": {
        "id": "t55WOxdgAMjf"
      }
    },
    {
      "cell_type": "markdown",
      "source": [
        "#### Customer_Type and customer_City"
      ],
      "metadata": {
        "id": "A5KAu_NvzAqV"
      }
    },
    {
      "cell_type": "code",
      "source": [
        "\"\"\"\n",
        "x = ggplot(df, aes(x=Customer_Type, fill=Customer_Type)) + geom_bar() + facet_wrap(~customer_City) +\n",
        "   labs(title = 'Proportion of Members and Non Members in each Customer City', x= 'Customer Type' , y = 'Count')  +\n",
        "   theme_bw() + \n",
        "   theme (axis.title.x = element_blank())\n",
        "\n",
        "plot(x)\n",
        "\n",
        "\"\"\""
      ],
      "metadata": {
        "id": "elK9jImWvCQI"
      },
      "execution_count": null,
      "outputs": []
    },
    {
      "cell_type": "markdown",
      "source": [
        "![Rplot.png](data:image/png;base64,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)"
      ],
      "metadata": {
        "id": "50M8YZJcxfvm"
      }
    },
    {
      "cell_type": "markdown",
      "source": [
        "#### Customer_Type and Branch_Location"
      ],
      "metadata": {
        "id": "kvLXDJSkzKWV"
      }
    },
    {
      "cell_type": "code",
      "source": [
        "\"\"\"\n",
        "x = ggplot(df, aes(x=Customer_Type, fill=Customer_Type)) + geom_bar() + facet_wrap(~Branch_Location) + \n",
        "   labs(title = 'Proportion of Members and Non Members in each Branch', x= 'Customer Type' , y = 'Count')  +\n",
        "   theme_bw() + theme (axis.title.x = element_blank())\n",
        "\n",
        "plot(x)\n",
        "\n",
        "\"\"\""
      ],
      "metadata": {
        "id": "9NOr6HyJvSWm"
      },
      "execution_count": null,
      "outputs": []
    },
    {
      "cell_type": "markdown",
      "source": [
        "![Rplot012.png](data:image/png;base64,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)"
      ],
      "metadata": {
        "id": "JrqV1Ma1yOyJ"
      }
    },
    {
      "cell_type": "markdown",
      "source": [
        "#### DEPARTMENT and Holiday"
      ],
      "metadata": {
        "id": "bMeuAI6RzNsM"
      }
    },
    {
      "cell_type": "code",
      "source": [
        "\"\"\"\n",
        "x = ggplot(df,aes(x=DEPARTMENT,y=Price,fill=DEPARTMENT )) +\n",
        "   geom_bar(stat='identity') +\n",
        "   facet_wrap(~Holiday , ncol=1)+labs(title = 'Sales of the Departments depending on Holidays')\n",
        "\n",
        "plot(x)\n",
        "\n",
        "\"\"\""
      ],
      "metadata": {
        "id": "5YEETBc5zTt1"
      },
      "execution_count": null,
      "outputs": []
    },
    {
      "cell_type": "markdown",
      "source": [
        "![Rplot033.png](data:image/png;base64,iVBORw0KGgoAAAANSUhEUgAAAmQAAAF0CAMAAAC68dWIAAACkVBMVEUAAAAAADoAAGYAOjoAOmYAOpAAZpAAZrYAsPYAv30Av8QZGT8ZGWIZP4EZYp8aGhozMzM5tgA6AAA6ADo6AGY6OgA6Ojo6OmY6OpA6ZmY6ZpA6ZrY6kJA6kLY6kNs/GWI/P4E/gb1NTU1NTW5NTW9NTYNNTY5NZG9NaX9Nbo5NbqtNjqJNjqtNjshTTU1TTYNZTU1ZTVlZTW5ZTY5eTU1eTVleTY5eU1lejp1iGRliGT9iGWJin9ljTU1jTW5jTY5kTY5mAABmADpmAGZmOgBmOjpmOmZmOpBmZgBmZjpmZmZmZrZmkJBmkLZmkNtmtpBmtrZmtttmtv9pTVlpTY5uTU1uTW5uTY5ubk1ubo5ubqtujo5ujqtujshuq6tuq+RvaU15TU15jo55yP+BPxmBn4GBvdmDTVODyP+OTU2OTV6OTW6OTW+OTY6Obk2Obm6ObquOg02Ojm6Ojo6OjsiOq6uOtauOyP+O5MiO5P+QOgCQOjqQOmaQZgCQZjqQZmaQZpCQkGaQkLaQtpCQtraQttuQ27aQ29uQ2/+VkP+fYhmf2dmjpQCraV6rbk2rbm6rbo6rjk2rjqurq46ryKurzaur5Mir5P+1//+2ZgC2Zjq2kDq2kGa2tma2tpC2ttu225C229u22/+2/7a2/9u2//+9gT+92dnIg03Ijk3Ijm7IyI7I5KvI/8jI/+TI///Nq27YkADZn2LZvYHZ2Z/Z2b3Z2dnbkDrbkGbbtmbbtpDb25Db27bb29vb2//b/7bb/9vb///kq27kq47k5Kvk/8jk/+Tk///na/Pr6+vy8vL4dm3/Yrz/tW//tmb/yI7/zX//25D/27b/5I7/5J3/5Kv//7b//8j//9v//+T///8MGkbrAAAACXBIWXMAAA7DAAAOwwHHb6hkAAAf+UlEQVR4nO2djZ8kR1nHezd3DKgITA6z4WDQOT01cqDi+xvu3cXTMygZzZ2cxlXBlzMGUNTVvYCeEVgE704JLHMoHiQrbLywQkKGI2iyKxIJOOsAOzfbf4311Et3dXfNTHV39XbPzO/3SW52u5+uqq76zlPVtV31eD4EFSyv7AJA0y9ABhUuQAYVLkAGFS5ABhUuQAYVLkAGFS5ABhUup5AN/umlnnfL67cix1YObg2z13XV82rcsPdz6yMu6nhct33ctkyUXA6zwUrNNiftCtubjqkzLwrRX2xEEjy4FSaYvkDlyyVkgxVBQKSCLeu7y64TtUc1PRYyz2tZFko1XEYzQOZALiHregeZg/naSgQAa8jURWMg4+0w+Fx9btWuUKVAllHDIXOSfGlyCVlHNHx/karhBus5535JVdHXTsoubvBOdvju4BI6foAdbzPfJPAhb9hgFz19kl+uXSrykO3Q9RraOdYq3bp3gGcfZlzreHN1Sq5Xb9yos2PM5mVb2mUsm4++lIxFrvHC3WBJfoy3qSmfRCLaFdL56MfnXh/Soe5aN9FvTkCmWUlPFhZI3aT4bpJ9rOyVkltPFn4BO6pT49XTo7b2GIOyR1Veq6uOJyA7cFLaBZfKdGU7RJPtL95el1ZaxrewNjkpIKPTcw/WRZ8cL43XUrlGCsdTOnBSv0DLJ5mIdoXgInpcDQe0u9ZMIjfHIdOsJGRhgYKbFF/o7txqrOzVktOB/1Vv7va//U/6abAy/3FqCFXf9B37PPutVz+8xQ/7wsq7m2qMVWC8u6Rjn/PocnVpeJarPb8enusvsqeGwUe4fZgxZ54uYEDc7d8gX9Wr66VhJjVqu5oy0wvXX5x7F/X9ehn0fJKJ6FdwyBLHY3et5S9uTg04yatqVuJ/PXl1k1QN7J+DW9GyV0xupzC+8M564LT/46N/VZf1zborOsIasle/5a6PBeayUtrs6xqHjOqOvqbhpeFZrjYlps71F/mwhdd4mDH/TdBTo9SYTbQ0YTbSLFq4hiyiKR9TIuEVggt1XHj4gIDwrrX8xc1pkOlWArIw+fAmeb2R44uWvWJyPk82+PydVKeiN5GQdWXVyX7Re5kcYvXqnKyuATJqTBrjapcGZ7lYQ4fnZDvRoDCSsa/oaai2bOulCbMR6UYKJ0oULUOYjymR8IpwGEW/ibFqMGIP71rLP3JzghrdStSiSj68SQExpR8pe8VUwGSscO3e7X/zL08vJiDzP39SDb9yQRZNNmz8aMZ+OsgihaswZOFN8i9bm9+oXvaKySFksi+RvQlViOo5ZIUpfeEdkqgR3aWq/dilkafL8JzImnqfaMa+CbLwsgRk0cI1fNUNDssnmkh4RRSyEd3lKMjM3WVYIGHR9d4QTHgEZa+YXHqyNnfXgxt1qhA2omXP4GrYyoasbMxKPdwr2MDoI9IvmQf+8oFK+QR1qTyr5sk4iuoc+2q/QgzIoxn7qgvVIQsv0yHjoOuFY+Psu/mo3piPKRH9Ch2yEQP/4ZAZB/4y+fAm6epvowJHy14xuYSMNYHq2sLJf16RXe2ZSRwWVwSP6TpkYp5M1X5waXBWPb5r5/qLt9RFZxHLWCQXhUwvTQhZOIURFI5+4TMGhnyMiQRXRCEbMYUxHDLDFIaWvBeWtMOLEyt7teT+b5dzfPTJZxLf1VZf9B779RZ66uRzhoeDqujJCUcNsv5Jr/aMVvvBpVyivebkCFedYwDRRKshY57cU1HIgsu0RiazrVjh2CjnwCORMmj5mBIJrohBxidjfzl4iAzueiRkESthGRQouEk/6H1jZa+UpuMtjHAWoLr5RP9W5E7dao7DdAGy4vPp1Z/HxkvtYmD42slqdpG6AFnx+RQ4XqJhcDEO0qUA2T7kU9x4ifF7uIBkHWs6IIMqLUAGFS5ABhUuQAYVLkAGFS5ABhUuh5A9CVVL7po2pwDZ9Mpd0+YUIJteuWvanAJk0yt3TZtTgGx65a5pcwqQTa/cNW1OAbLplbumzSlANr1y17Q5BcimV+6aNqcAWUxP/PiLXviJsgvhRu6aNqcAWVSfffNPPfmv31p2KdzIXdPmFCCL6omffN+Tj7/yfWUXw4ncNW1OAbKoHv/2Tzz5xE/8XtnFcCJ3TZtTgCyqz7wQkDkXIIsKnqwAAbKoMCYrQIAsqs+++TvwdOlagCwmzJO5FyCbXrlr2pwCZNMrd02bU4BseuWuaXMKkE2v3DVtTgGy6ZW7ps0pQDa9cte0OeUQsi8P0dATRZqVk2u1CueuaXMKK8ihwgVPVoIZPFlmlVujlci1WoVz17Q5BchKMANkmVVujbpM7pssVFrh7M3cNW1OATKDyoHsfyyUKld3TZtTgMwgQOZWgMwgQOZWgMwgQOZWgMwgQOZWgMwgQOZWgMwgQOZWgMygqYZMhhOrhT96FBxUi/Te4THB1MkgEi67plfnITYpSnZ4rQw41Z1/JLBLA9nu2U3f3242m0c3/Zvnm3c865s/AJmLwu0bZAKhg1vyx/CgiOo6WDktPvghGWy9d+sq/2VOfBBk6tr+ogijLEK83moIUD0Ksh2Cy99Ypp/3Li3728fMH4DMSeH2FTKGRisJGR1ktFwjsNTJdk2H7DQd7JyOQnbXwlZWyDaOPMQ82d7lNfrl5v2b5NiMH4DMSeH2FzK/UxsCWfvgMxSC2gzZG04xB3jhYhSyVruR2ZNxgFiP2Gwu+7vnnvVv3rdm/GCWL2YaldJkyQYy97naQOYgG0VHVwdF/kRRzSmMNXWb8pCMPq0gu/uBdb+3cCMGWe/Qei7Ids+skTfbuYPzZPyQ1qm+tkWbwZON82TdYLgfju2JE4KFBmLqpAhqrSBrdVp+t9ENB/4N7v46jVyQcW0sj/FkgCx/4fYbMoMnI7V5Vyn70l5dHg8g69b8dqsb82R+//iqA8gwJps2yNqGMZkvoprLWQ061I17sv6pp0+sJyBjI7w8kFGXuHdlc+/SknieNHwAMieF21/IjE+XvpzFIJq0YZoOmX/1Ys1PQsYeBvJ4su1m88jakAkyzJM5LNy+QmaeJxMdpfgI5skiT5ctPlWbhIy5vIyQpVOqGi3aDJCNmfHXJ/XnVgNk5Nyr35l7j5rq4KYhZPSTNvCfWxWQSZcHyGzNphqyEgTIDAJkbgXIDAJkblUWZJ+2UKoazWgHyPZBgMwgQOZWgMwgQOZWgMwgQOZWgMygqYbsObPccZAUIDPIFrLnj1eKXPcLsq+YNCmQpZINZCUVzf59MgvIUuRqA5mDm5tsyFI5C3iyhODJLJSqHQFZQoDMQqnaEZAlBMgslKodAVlCgMxCqdoRkCUEyCyUqh0BWUKAzEKp2hGQJVQRyPrHg9cOe4fWabFbbgEyg2Yasu7pYOGSE8J8QAbIYpANLrz71BZftDT37kVv/tqhawu0ZnyVHaAVTMHr1/x3eiGbVmb2bjs5P4JHQGbQLEPWW9hq0zqmFiPpKeouH7mwyg82aGODDvvX42t5xe/Ut1KnKlcGADJ7s1mGjNaC12RHKcZkBFaDaOqfWGe0Xb1YI8cmfqcr6PDofhWQGTTDkPFFSPMEUwBZb+EZ3lvylUknHj5x7dDDJ9bl777f5uaALLXZDEPG6Wq3dE82uPDgwpb0Wn77rsODCxdrgRdbbFk8g45f3DtqVW/2xb2ALCFbyL46XjKXDJB1+ELdGh/hH7om8OErL9t8Sa/f9cSoTP5Op9mTQA7I+CZ4o3a/y7EJHiBLqAqQDR7g23Uep+6Rlvyyp8t1sWCXHxCLd/muF/L3jucdONnKDpnYBG/UTis5NlwBZAlVAbJiNH5/shF7RuXYBM8Gsjz3lUs2kJGdBWQpcrWBjOwsIBuVTRUhG7X7XY5N8ODJEoInc70JHiBLaIYhw5hs2iCr2GolAmjU7nc5NsEDZAnNMGSYJ5s2yIx1jffJxqaW3Q6QATLL1LLbATJAZpladjtABsgsU8tuB8gAmWVqtnYvsNCXAZlrATJABsisUrO1A2SADJCVDhktDFFBuxLKunoJkAGyCGTEkTHigw/I7OwAmRVkgwurfnTJG726eOhhdujnW+IN7VRyvgme8W/8UZGZDWSui+b7NpD50/4+mYUnYxhFl7xxyOij2/C7jVHJm+Tck1lABk9WYU/Gx2QHt5JL3gRk/VNbV8196QgBMkCW8GSDlVZyyZtausQXmKcTIANkCcj8diu55E1+dE6n7i0B2T5A9t7xqhZk1FdGlrzRgY50aEOePEcJkAGyCGRqniyy5I0+Xn5ifbAyvy4WzaUTIANkOmRj1TucngxABsjSQNaZS99bAjJAls6TZREgA2SADJC5hqxiq5XSCZABMrMA2cxB9n6TSoZsu9mkLaRs110CMkAW13jINpbpX+v9yQAZIItrLGR7l/mGKtZ7YQAyQBbXWMhYj9hsLo/c3MfX9yezgIzMbCBzf7c2kPnO3yezgIzMbCAjOwvIRtVBFSHbPbNG3sx6fzJ4MniyuOyeLjeWrfcnA2SALC5byMoakxlrJCpANvGQUZe4d2XTen8yQDbRkA1ZEpcvlJfVPNmRNfv9yQDZZEPGX1pcHBkqKbWqPuMPyEqAjC9XkmviuvSOPz/MDhy4c7W38A71UiMdHx0eTgqQAbIkZPL9644Ib9MRAb3ohey51V5dhCYRp8eEh5MCZIAsCVkYBk7G8aXFcAw3dlyuKVFR46zGaoAMkBk9mVoTx54E5sQCXxFcVUEmTgMyQGaSDWQUmfdEgI9YtRTzZOI0IANkJtk+XYo1cTwynFgaJ8dkAjJtydx4ATJAFoEsmCeTa+La+tPl8wJPJk8DMkBmUp4Z/4xzsoAMkNlBRoGjs6yH86cGspeMFyATquLfLtPKAjIys4GM7CwgIzMLyMjMBjIf75O5FjwZPBkgA2SuIcOSOEBWOGTG2gFkgAyQSQEyQGYWIANkgAyQATJNgAyQmQXIABkgA2SATBMgmwrIup7n1fgLF4MV7/ZcS+GUABkgi0DWnV/3Bys8IIQMD5Ff+SCrzLpLQOYIssEKvbDYW9jiQeE8emNRLIrLo1yQ7cP+ZIBsfyELXJdwY/Jt/k4tDyb5IKvOXhiAzBVkKphlCNnxbG8qasoFmWl/MqjiGu/J+Cq4ADK5KC6PckFm2p8sKcvNntyalZNrtQpnbjSbMRnzXiFkPl8Ul4cTR56MVG6NViLXahXO3Gjjni7Ja3U1TyYXxeXhxPmYrKwarUSu1SqcudHGzZPRorj5IIbqyvx6u+yny+T+ZGXVaCVyrVbhzI1W+ox/x/NanRSu0TBPVlaNViLXahXO3GZlQ9Y++PRia7CSb1IEqrZKhqy/2KJdELo5e2Co0gJkUOEqu7vsUHfZX2wUmSFUskpfEkeveXhgbKr1nPGPaZPyPhk0EQJkUOEqGzJ6WS37DMaTULVkbqayIWsTX5kpK7tOoZjMzVQyZDIQRdYpjLLrFIrJ3EyADHIoczOV3V125vnWxxnnMMquUygmczOVDVm+ebKy6xSKydxMoyGTsZWcLFIK5HAKo+w6hWIyNxMggxzK3Ey2kIkwcIMLF1nf1uX9m4wbl14BZPyv454nltplSQmQVU3mZrKFTIQcoQmtXj0IE5dtbRw8WUKPv/J9ZRfBjczNNAayuvQztNyyf3x1cGGVIirxkF4iMFwGMnTIxEqVzCq7Th3pMy/6llmGTHky+oHRpUMm48all2GeLKvKrlM3+rtv/t2Z9mQKMoMny+TFSLH3yfKsfCq7Tl1ptrvL+JgshEweyUBG1JNh4P8kIPOjT5chZDJuXHph4J/QTENWiABZQoDMtTTI8q4ULrtOXQmQuVYIWZuN6Tp5KCu7Tl0JkLlWABmfJMs1U1Z2nUIxmZupTMj4JJncLDSbyq5TKCZzM5W5JA6QTZ3MzfScceNIQAZlkrmZABnkUOZmKhcyT2nGZ/ynRuZmKhOy/Cp3M65K5FqtwpmbabIhgyZCkw1ZuV/bSuRarcKZmwmQOTMDZICscDNAlg0y/qrPYKUm1yvlfFlaCpCVYFZxyDSyANk+JjeRhTM301jIOFjytcUDJ1t+yVHioiq3RiuRa7UKZ26mcZA9IoIRyhewvVbZUeKiKrdGXSZnbIaYSiucvZm5mcZAdutLKW6vWkrCvFrZUeKiKrdGXSY3y5DVG3zHHRW8q90qO0pcVOXWqMvkZhkyij1466rmyehomQG8oiq3Rl0mVw5ktkFVrXM1N9N4yGhpZDgmKztKXFSparRoM0CWa57s4FN8KoM/XZYcJS6qVDVatBkgm5QZfx7LcrvZbB7dVAHhjB9CqWq0aDNANiGQ7RBc/sYy/bx3aZlCWxo/pFLVaNFmgGwyINs48hDzZHuXefhnGaTX+CHtU9Vo0WaAbDIgE90l6xGbzWUVbtz4wSxfzFRkMfdXNpC5z9UGMgfZVBGy3TNr5M127uA8GT+kdaqvbdFm8GRDPVnZUeJiCrrCjeUxnoyUqkaLNgNkEwgZxmRTA9nzTSoXMuoS965s7l1aEs+Thg+pVDVatBkgmyTIaJ7syNqQCTLMkzks3IxClk6parRoM0AGyAo3A2SArHAzQAbICjcDZICscDNAlg0yCnHj++2c7/bEBMgMmmXIbn3Zlt+/s7JR4lLVaNFmgCwjZId+YdXvnQ728e8tvMPz8q69BGQGzTRk/9zyP/dgEBOuV88ahkQTIDNopiG7dnjwwLVD6zImHF9YkrfzLAuyT1soVY1mtANkccge+eunf5HWKomYcFWDLJVsICupaNP+PtkYyNavXmzIBXG+XCJXIchSfW3hyRKqiCdb7wr/JWLCAbJRAmRZIZOLx0VMOEA2SvsBmbG5okqRayUgK0SAzCBA5laAzCBA5laAzCBA5laAzCBA5laAzKDphqxiq5XSKVU7ArKEAJmFUrUjIEtovyB7r0mAzKZGM9oBMkBmX6MZ7QAZILOv0Yx2gKxsyPji3lGrerMv7gVkCc0mZHwTvFG73+XYBA+QJTSTkIlN8EbttJJjwxVAltBMQib3JxuxZ1SOTfBsIMtzX7lkAxnZWUCWIlcbyBzc3BjI6I3YcEFc7rd8uKx29Rm2+12OTfDgyRKqhCfrL7b4Pv77C5mdJwNkUwIZp4oWkfTqtBSuF6yNKxQyjMmqBtlXx0vmkgGywYrwYpwz8YqsWBtXKGSjdr/LsQkeIEuoEpD5FN5SxusSK+Lk2rhCIUs7T/aV8SIzQJZQRSDzfR7BS0S7CdfGFQZZOok7A2QTDVmXd4ztFj0AiO4ypxcjATKDZhgy/nTJekgZkjBcG5eHDEBm0AxDxufJqHPseBQiLlwbl0eAzKBZhqwIATKDAJlbzRZkL7AQIHMuQAbIABkgA2SaANlkQDYFq5UAGSCLy/kmeBaQkZkNZK6L5vs2kPnO3ycz9k9RkZkNZGRnAdmoOnjOmPCkQAZPNsSTWUC2n54MkAEyQDZKgAyQmQXIABkgA2SATBMgA2RmATJApkPWbtEL2C319qIbATJApkPWabD/TzfED64EyACZDllvYWtw4UH6Z1WuhRtcuOh5jS77388aOQ6QATIdsv6J9f6pZx7gb/aL964HKzUearWXPXIcIANkOmTMg/UOs5EZ+4c46x9fJZ/G/drx1ayR4wAZINMh8zutTsvvNtiQjDhidOmQZYwcNx6y7WaTtpCainWXgGwsZN3a1VW/d/jqqsmTZYwcNx6yjWX613p/MkA22ZD171zYYlDdxhiSY7IQsqyR48ZCtneZb6hivRcGIJtsyGicz/iif9TTZQhZxshxYyFjPWKzuTxycx9f35/MAjIys4HM/i5sZQOZj/fJXGssZLtn1sibWe9PBk822Z6sCNk9XW4sW+9PBsgAWVy2kGFMBsgyayxk1CXuXdm03p8MkAGyuKzmyY6sTcn+ZIBs0lcrATJAZhYgmznIjFcAMkAGyKQAGSAza0oge8l4ATIhQAbIANlIATJAZlbVIXv/eAEyQAbIJggy7UWf0aIXf+QVakmJjJJjECADZLono2AkNu+KdU/LJXP7DJmQBWRkZgMZ2VlARmYWkJGZDWT+tL9PNhIy8mLtcPGbeD1RrYFjBw/cyT3Y4MK7T22JA2Kzf07Yw0PiycGTwZNFIOsff3Bhy4++aK3WwNFBETeit7BFa83pgBdChu4SkFlB5ne4zxKLSEJ8fBlliV7E9vn68m6NW7HuEpABspSQcVDkcrgoZD2+xIQgG6x4MoYc7Z4ByABZFsjGeLIe71Fb8GSALAdkckxGExWd+WDJeDAm69ATZbcmx2ShFSADZCkgk4HHO5738nBfAnbweeTJBg9wk+OrrNtkT5eh1WAFT5eAzAKy0Uq13lIJkAEyW8houJ8p8iUgA2RpPFkmATJABsgAGSDTBMgmAzKsVgJkRUNWgvJBVvziXkA265DtwyZ4gGzWIduHDVcA2axDZtoED4LiygWZaRO8pCyX47o1KyfXahXOAR5u5MiTkcqt0UrkWq3COcDDjZyPycqq0UrkWq3COcDDjXI+XSY3wSurRiuRa7UKl58OR3I4TzZMlk8Ebs3KybXShStPzpfEJTVD7VjpwpUnQFaCGSBzrhlqx0oXrjztA2TQrAuQQYULkEGFC5BBhQuQQYXLFWThnzDpD03h35qGaPeeJo9waD7JEjCfH5fuDrvoGDfbu9T8dYOxSGBs8QLTvUvHpDG9O2e2u4f+5rFxdFySFNMxNIoVgSLX7tD97hyLX8eKQAaJ48kMVBOERbVpin2QK8h23r6kfrS5LW5DUQ6HnOTnb54f0q5DC8Eakf7U5Q+t3pSQaWQNh+zMbzzr33zruCT5zWwHfx+JFWGbFXqbqnB7KXElVZNNiYMmmFbI9i5/6G0i1tKRD51vHr1+9vq5ZylMJjtwdJNummpq545n+e/CkS373/jR3zr6mH6AKmT3LB3649du7p57lr/lIQx2uBsgA3bge9+6tnvuH7inE6d33/iWowoJuo7S4KHTd3Tv4euQiQv3Ln+g2VxiVksqKd2UJ6jyfMuyH09N2v0Jg+DtQZKqZAmzTeFswlvVMmSF3rv8EP2zlizZxvedb37Xpv/17yfnLupoU7t/VhvRJmBFVVZnHztvKPJ+yxFkrJKYx6dG2bnji3Rzn2K1RQf5X9DZ13Ob1Qj7EL/fvO+DZ6+f3fy/V/9BcGBNfevEx/++ZnNniR+WBvdv0gcZsAM7R9Z271nir7OJ07v3cLzUl1akIWMlbusdTQjZBr+e+iLq7+QR3Zbdw6Vlzbi5nEhN2v3bsv9fDwUJqJLFtHdJHNNuVcuQJX3zbV+6wgucKNnN3/6xc/9+zP/kq5d2vptqV4wngvvfObIWNoEsaliTU+TJGD87x8ImZP8RWEtUo6ze2P0/+oFj5NjE72pM9p0fDg7weg6r5us/+OFHecRgaSDHG5IbdlyaqgxExudk04aQ3RfrkEW+7MtNybCz5Dm497hvTSuKMD3zazS+C/K8tJxITWZ2/d69K9cjZTG27I4Itxfcqp4h3dG9FLv2Xt9Qst8nwB+773WbN//wR64HdaTVRtgEsqjTCBkbZlPLiVaWN3fuS7y3pJplNXT/9bOPMVbE777/STL/xg+9KTiwwa8PquYbP/wXb+MvRCoDRscR4QJEP6wqWZwOHRS3C6tXXBZK/xpQMnpTqqIo03uWbp5fCsc1zE3EU5NJfuof//tPo2UZ1rJ8FKpuNZLh9vI26wWWGCnDSvbBM6/b3Pv7GGSyNrQmEEWdRsg4XeLWVKvwIYb6om782b1sjHEscFrn/5y6y92fflNwYDnaXe7+yu8s8de7Nd/Cfkt6MnFaZCzGZBS2Wq/eSNcVlNDgL+6PtgbPQYy5pXtIpKbsHv3AUrQshpYVj40by+GtRjLcOcY89+69j66ZPNkf/Swfz430ZLIJptiTbVMD7BzjI3yOD7uzbRpMi/EF6ynEqEz+TjbXz6x9/Qf+MjjAG5Q6kG3+bdw98zNr4oFMGPBEhJ0ck8mmDK+nEpBf2NE8mbwsLGhiTBY2pSprxHQ7zLO5nEhN2cnyaPeSbFl+M+ILQLca2svTb+U+6Y2bvqFkn3wN3Qn9+z2/+lhQR9oINWwCNXwMa3JaINu7QjciHPuRtb1LR69LL8AfN9dEN0HzC+r3bT4yar52UztAj2/s4zfv36QEgnkyabChP12+KvBk8rSqSRpyHVXfYZbM5sbYp8uwKWVOEVM2XP8in8rgxYunpuxkW4ZlMbUsdXrhrYb2sgrD2bBkydhz5RH+L1WsqCPt/l9FnixoAlnUwIpqwUUb51FVZ/zZCHjEyQp8O6uj6tdGRSHbTg6wpWiAO/TkzGkyaqOikEHTJEAGFS5ABhUuQAYVrumHjIdo8bxa+KM3vy5/Ens5d7yGdrIR/OTVevV5san9wa3w2v4iDwfZnX8ksCvx9iZBswCZQOjglvwxPEhxNOjn0+KDH+rVefxGivtIv8yJD4JMXdtf9HhADs6fsINGalYgY2i0kpDRQUbLNQJLnRRhaxVkPHZo53QUsrsotBAgs9bMQOZ3akMgax98hoIimyF7wymKjHYxClmLwo4CMmvNDmRdHRT5U3ueAgY1eLcpD3W9SHd59wPrfm/hRgwyCv4CyKw1Q5AFw/1wbE+cECw0EFMnRUhtBVmr0/K7jW448G9w90dBRQGZrWYIMoMnI7V5Vyn7UgqEzBVARgH3Wt2YJ6MIaYDMWrMDWdswJvP5s6Ka1aBD3bgn6596+sR6AjI2wgNk1poZyIxPl76cxSCatGGar0HmX71Y85OQsYcBQGarWYHMPE8mOkrxEcyTRZ4uW3yqNgkZc3mAzFazAJkcsIeT+nOrATJy7tXvzL1HTXVw0xAy+kkb+M+tCsikywNkFpp+yKDSBcigwgXIoMIFyKDCBcigwgXIoMIFyKDCBcigwgXIoMIFyKDC9f/kT3PPrIe80wAAAABJRU5ErkJggg==)"
      ],
      "metadata": {
        "id": "Ztwlmn79zliM"
      }
    },
    {
      "cell_type": "markdown",
      "source": [
        "#### customer_age_bins and customer_gender"
      ],
      "metadata": {
        "id": "BFydjZcmzwM4"
      }
    },
    {
      "cell_type": "code",
      "execution_count": null,
      "metadata": {
        "id": "a2y7PRmstxcC"
      },
      "outputs": [],
      "source": [
        "\"\"\"\n",
        "x = ggplot(df,aes(x=customer_age_bins,y=Price , fill = customer_gender)) +\n",
        "   geom_bar(stat='summary',fun = sum ,position = 'dodge') +\n",
        "   labs(title = 'Sales for different age-groups',subtitle = 'with respect of Gender ', x = 'Customer age' , y = 'total sales')\n",
        "\n",
        "plot(x)\n",
        "\"\"\""
      ]
    },
    {
      "cell_type": "markdown",
      "source": [
        "![Rplot044.png](data:image/png;base64,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)"
      ],
      "metadata": {
        "id": "DIM3FSDy0DK4"
      }
    },
    {
      "cell_type": "markdown",
      "source": [
        "## Rosner's Test"
      ],
      "metadata": {
        "id": "HdeJ95EQKWKV"
      }
    },
    {
      "cell_type": "markdown",
      "source": [
        "Since the boxplots displayed some potential outliers, we used Rosner’s test on some columns due to its suitability to the problem at hand, since the data is larger than 25 data points."
      ],
      "metadata": {
        "id": "I2l1cYy9KZ-t"
      }
    },
    {
      "cell_type": "code",
      "source": [
        "\"\"\"\n",
        "#Library for Rosner's Test:\n",
        "\n",
        "install.packages(\"EnvStats\")\n",
        "library(EnvStats)\n",
        "\n",
        "\"\"\""
      ],
      "metadata": {
        "id": "BJ3pq4DDp3sd"
      },
      "execution_count": null,
      "outputs": []
    },
    {
      "cell_type": "markdown",
      "source": [
        "### For Quantity"
      ],
      "metadata": {
        "id": "tZ_LBFAXK9Ne"
      }
    },
    {
      "cell_type": "code",
      "source": [
        "\"\"\"\n",
        "boxplot(df$Quantity, outcol= \"red\", cex=1.5)\n",
        "\n",
        "test <- rosnerTest(df$Quantity,k = 1, warn=TRUE) # Number of suspected outliers is 1\n",
        "test                                             # Default alpha = 0.05\n",
        "\n",
        "test$all.stats\n",
        "\"\"\""
      ],
      "metadata": {
        "id": "1ZFzCSZ5LV65"
      },
      "execution_count": null,
      "outputs": []
    },
    {
      "cell_type": "markdown",
      "source": [
        "\n",
        "Result :\n",
        "```\n",
        "$distribution\n",
        "[1] \"Normal\"\n",
        "\n",
        "$statistic\n",
        "     R.1 \n",
        "\n",
        "2.646091 \n",
        "\n",
        "$sample.size\n",
        "[1] 4000\n",
        "\n",
        "$parameters\n",
        "k \n",
        "1 \n",
        "\n",
        "$alpha\n",
        "[1] 0.05\n",
        "\n",
        "$crit.value\n",
        "lambda.1 \n",
        "4.363743 \n",
        "\n",
        "$n.outliers\n",
        "[1] 0\n",
        "\n",
        "$alternative\n",
        "[1] \"Up to 1 observations are not\\n                                 from the same Distribution.\"\n",
        "\n",
        "$method\n",
        "[1] \"Rosner's Test for Outliers\"\n",
        "\n",
        "$data.name\n",
        "\"df$Quantity\"\n",
        "\n",
        "$bad.obs\n",
        "[1] 0\n",
        "\n",
        "$all.stats\n",
        "  i   Mean.i     SD.i Value Obs.Num    R.i+1 lambda.i+1 Outlier\n",
        "1 0 63.53875 44.01256   180     312 2.646091   4.363743   FALSE\n",
        "\n",
        "attr(,\"class\")\n",
        "[1] \"gofOutlier\"\n",
        "```\n",
        " **i**|**Mean.i**|**SD.i**|**Value**|**Obs.Num**|**R.i+1**|**lambda.i+1**|**Outlier**|\n",
        ":-----:|:-----:|:-----:|:-----:|:-----:|:-----:|:-----:|:-----:|\n",
        "0|\t63.53875|\t44.01256|\t180|\t312|\t2.646091|\t4.363743|\tFALSE\n"
      ],
      "metadata": {
        "id": "3YPA2SfcqFvD"
      }
    },
    {
      "cell_type": "markdown",
      "source": [
        "### For Price"
      ],
      "metadata": {
        "id": "yALrgJMaLkV1"
      }
    },
    {
      "cell_type": "code",
      "source": [
        "\"\"\"\n",
        "\n",
        "boxplot(df$Price, outcol= \"red\", cex=1.5)\n",
        "\n",
        "test2 <- rosnerTest(df$Price,k = 3) # Number of suspected outliers is 3\n",
        "test2                                \n",
        "\n",
        "test2$all.stats\n",
        "\n",
        "\"\"\""
      ],
      "metadata": {
        "id": "_Tu91KypLh4_"
      },
      "execution_count": null,
      "outputs": []
    },
    {
      "cell_type": "markdown",
      "source": [
        "\n",
        "Result :\n",
        "\n",
        "```\n",
        "$distribution\n",
        "[1] \"Normal\"\n",
        "\n",
        "$statistic\n",
        "     R.1      R.2      R.3 \n",
        "1.752629 1.749005 1.749546 \n",
        "\n",
        "$sample.size\n",
        "[1] 4000\n",
        "\n",
        "$parameters\n",
        "k \n",
        "3 \n",
        "\n",
        "$alpha\n",
        "[1] 0.05\n",
        "\n",
        "$crit.value\n",
        "lambda.1 lambda.2 lambda.3 \n",
        "4.363743 4.363688 4.363632 \n",
        "\n",
        "$n.outliers\n",
        "[1] 0\n",
        "\n",
        "$alternative\n",
        "[1] \"Up to 3 observations are not\\n                                 from the same Distribution.\"\n",
        "\n",
        "$method\n",
        "[1] \"Rosner's Test for Outliers\"\n",
        "\n",
        "$data.name\n",
        "[1] \"df$Price\"\n",
        "\n",
        "$bad.obs\n",
        "[1] 0\n",
        "\n",
        "$all.stats\n",
        "  i   Mean.i     SD.i Value Obs.Num    R.i+1 lambda.i+1 Outlier\n",
        "1 0 495.3453 287.8846 999.9     578 1.752629   4.363743   FALSE\n",
        "2 1 495.2191 287.8099 998.6    2961 1.749005   4.363688   FALSE\n",
        "3 2 495.0932 287.7358 998.5    3203 1.749546   4.363632   FALSE\n",
        "\n",
        "attr(,\"class\")\n",
        "[1] \"gofOutlier\"\n",
        "\n",
        "```\n",
        " **i**|**Mean.i**|**SD.i**|**Value**|**Obs.Num**|**R.i+1**|**lambda.i+1**|**Outlier**|\n",
        ":-----:|:-----:|:-----:|:-----:|:-----:|:-----:|:-----:|:-----:|\n",
        "0|\t\t495.3453|\t287.8846|\t999.9|\t578|\t1.752629|\t4.363743|\tFALSE\n",
        "1|\t495.2191|\t287.8099|\t998.6\t|2961|\t1.749005|\t4.363688|\tFALSE|\n",
        "2|\t495.0932|\t287.7358|\t998.5|\t3203\t|1.749546\t|4.363632|\tFALSE"
      ],
      "metadata": {
        "id": "PdbGrvDArCE8"
      }
    },
    {
      "cell_type": "markdown",
      "source": [
        "### For City_Population"
      ],
      "metadata": {
        "id": "8ruobl9ZLq4b"
      }
    },
    {
      "cell_type": "code",
      "source": [
        "\"\"\"\n",
        "boxplot(df$City_Population, outcol= \"red\", cex=1.5)\n",
        "test3 <- rosnerTest(df$City_Population,k = 1)  # Number of suspected outliers is 1                               \n",
        "test3\n",
        "\n",
        "test3$all.stats\n",
        "\"\"\""
      ],
      "metadata": {
        "id": "1DDPMc0lLwEc"
      },
      "execution_count": null,
      "outputs": []
    },
    {
      "cell_type": "markdown",
      "source": [
        "\n",
        "Result :\n",
        "\n",
        "```\n",
        "$distribution\n",
        "[1] \"Normal\"\n",
        "\n",
        "$statistic\n",
        "     R.1 \n",
        "2.785632 \n",
        "\n",
        "$sample.size\n",
        "[1] 4000\n",
        "\n",
        "$parameters\n",
        "k \n",
        "1 \n",
        "\n",
        "$alpha\n",
        "[1] 0.05\n",
        "\n",
        "$crit.value\n",
        "lambda.1 \n",
        "4.363743 \n",
        "\n",
        "$n.outliers\n",
        "[1] 0\n",
        "\n",
        "$alternative\n",
        "[1] \"Up to 1 observations are not\\n                                 from the same Distribution.\"\n",
        "\n",
        "$method\n",
        "[1] \"Rosner's Test for Outliers\"\n",
        "\n",
        "$data.name\n",
        "[1] \"df$City_Population\"\n",
        "\n",
        "$bad.obs\n",
        "[1] 0\n",
        "\n",
        "$all.stats\n",
        "  i   Mean.i     SD.i   Value Obs.Num    R.i+1 lambda.i+1 Outlier\n",
        "1 0 555086.2 688645.9 2473400      30 2.785632   4.363743   FALSE\n",
        "\n",
        "attr(,\"class\")\n",
        "[1] \"gofOutlier\"\n",
        "\n",
        "```\n"
      ],
      "metadata": {
        "id": "9ttKS_QYr0hu"
      }
    },
    {
      "cell_type": "markdown",
      "source": [
        " **i**|**Mean.i**|**SD.i**|**Value**|**Obs.Num**|**R.i+1**|**lambda.i+1**|**Outlier**|\n",
        ":-----:|:-----:|:-----:|:-----:|:-----:|:-----:|:-----:|:-----:|\n",
        "0|\t555086.2|\t688645.9|\t2473400|\t30|\t2.785632|\t4.363743 |FALSE"
      ],
      "metadata": {
        "id": "YfHM8tfI4jej"
      }
    },
    {
      "cell_type": "markdown",
      "source": [
        "### For City_Area"
      ],
      "metadata": {
        "id": "53oHLr8TL1_C"
      }
    },
    {
      "cell_type": "code",
      "source": [
        "\"\"\"\n",
        "boxplot(df$City_Area, outcol= \"red\", cex=1.5)\n",
        "\n",
        "test4 <- rosnerTest(df$City_Area,k = 2) # Number of suspected outliers is 2\n",
        "test4                                \n",
        "\n",
        "test4$all.stats\n",
        "\"\"\""
      ],
      "metadata": {
        "id": "T62wLl0hL5sd"
      },
      "execution_count": null,
      "outputs": []
    },
    {
      "cell_type": "markdown",
      "source": [
        "Result :\n",
        "\n",
        "```\n",
        "$distribution\n",
        "[1] \"Normal\"\n",
        "\n",
        "$statistic\n",
        "     R.1      R.2 \n",
        "2.526981 2.529317 \n",
        "\n",
        "$sample.size\n",
        "[1] 4000\n",
        "\n",
        "$parameters\n",
        "k \n",
        "2 \n",
        "\n",
        "$alpha\n",
        "[1] 0.05\n",
        "\n",
        "$crit.value\n",
        "lambda.1 lambda.2 \n",
        "4.363743 4.363688 \n",
        "\n",
        "$n.outliers\n",
        "[1] 0\n",
        "\n",
        "$alternative\n",
        "[1] \"Up to 2 observations are not\\n                                 from the same Distribution.\"\n",
        "\n",
        "$method\n",
        "[1] \"Rosner's Test for Outliers\"\n",
        "\n",
        "$data.name\n",
        "[1] \"df$City_Area\"\n",
        "\n",
        "$bad.obs\n",
        "[1] 0\n",
        "\n",
        "$all.stats\n",
        "  i   Mean.i     SD.i Value Obs.Num    R.i+1 lambda.i+1 Outlier\n",
        "1 0 7259.676 10119.71 32832      17 2.526981   4.363743   FALSE\n",
        "2 1 7253.281 10112.89 32832      22 2.529317   4.363688   FALSE\n",
        "\n",
        "attr(,\"class\")\n",
        "[1] \"gofOutlier\"\n",
        "```\n",
        "\n",
        " **i**|**Mean.i**|**SD.i**|**Value**|**Obs.Num**|**R.i+1**|**lambda.i+1**|**Outlier**|\n",
        ":-----:|:-----:|:-----:|:-----:|:-----:|:-----:|:-----:|:-----:|\n",
        "0|7259.676|\t10119.71|\t32832|\t17|\t2.526981|\t4.363743|FALSE\n",
        "1|\t7253.281|\t10112.89|\t32832|\t22|\t2.529317|\t4.363688|\tFALSE"
      ],
      "metadata": {
        "id": "pcU5qdO2sJqV"
      }
    },
    {
      "cell_type": "markdown",
      "source": [
        "### For City_Density"
      ],
      "metadata": {
        "id": "70OQVZo0MF1Y"
      }
    },
    {
      "cell_type": "code",
      "execution_count": null,
      "metadata": {
        "id": "-X1WvQHTFp2-"
      },
      "outputs": [],
      "source": [
        "\"\"\"\n",
        "boxplot(df$City_Density.people.km2., outcol= \"red\", cex=1.5)\n",
        "test5 <- rosnerTest(df$City_Density.people.km2.,k = 5) # Number of suspected outliers is 5\n",
        "test5                              \n",
        "\n",
        "test5$all.stats\n",
        "\"\"\""
      ]
    },
    {
      "cell_type": "markdown",
      "source": [
        "Result :\n",
        "\n",
        "```\n",
        "$distribution\n",
        "[1] \"Normal\"\n",
        "\n",
        "$statistic\n",
        "     R.1      R.2      R.3      R.4      R.5 \n",
        "2.278169 2.279934 2.281704 2.283477 2.285254 \n",
        "\n",
        "$sample.size\n",
        "[1] 4000\n",
        "\n",
        "$parameters\n",
        "k \n",
        "5 \n",
        "\n",
        "$alpha\n",
        "[1] 0.05\n",
        "\n",
        "$crit.value\n",
        "lambda.1 lambda.2 lambda.3 lambda.4 lambda.5 \n",
        "4.363743 4.363688 4.363632 4.363576 4.363521 \n",
        "\n",
        "$n.outliers\n",
        "[1] 0\n",
        "\n",
        "$alternative\n",
        "[1] \"Up to 5 observations are not\\n                                 from the same Distribution.\"\n",
        "\n",
        "$method\n",
        "[1] \"Rosner's Test for Outliers\"\n",
        "\n",
        "$data.name\n",
        "[1] \"df$City_Density.people.km2.\"\n",
        "\n",
        "$bad.obs\n",
        "[1] 0\n",
        "\n",
        "$all.stats\n",
        "  i   Mean.i     SD.i Value Obs.Num    R.i+1 lambda.i+1 Outlier\n",
        "1 0 231.4920 215.9225 723.4       2 2.278169   4.363743   FALSE\n",
        "2 1 231.3690 215.8093 723.4      10 2.279934   4.363688   FALSE\n",
        "3 2 231.2459 215.6959 723.4      11 2.281704   4.363632   FALSE\n",
        "4 3 231.1228 215.5823 723.4      50 2.283477   4.363576   FALSE\n",
        "5 4 230.9996 215.4685 723.4      55 2.285254   4.363521   FALSE\n",
        "\n",
        "attr(,\"class\")\n",
        "[1] \"gofOutlier\"\n",
        "```\n",
        " **i**|**Mean.i**|**SD.i**|**Value**|**Obs.Num**|**R.i+1**|**lambda.i+1**|**Outlier**|\n",
        ":-----:|:-----:|:-----:|:-----:|:-----:|:-----:|:-----:|:-----:|\n",
        "0|\t231.4920|\t215.9225|\t723.4|\t2|\t2.278169|\t4.363743|\tFALSE\n",
        "1|\t231.3690|\t215.8093|\t723.4|\t10|\t2.279934|\t4.363688|\tFALSE\n",
        "2|\t231.2459|\t215.6959|\t723.4|\t11|\t2.281704|\t4.363632\t|FALSE\n",
        "3|\t231.1228|\t215.5823|\t723.4|\t50|\t2.283477|\t4.363576|\tFALSE\n",
        "4|\t230.9996|\t215.4685|\t723.4|\t55\t|2.285254\t|4.363521\t|FALSE"
      ],
      "metadata": {
        "id": "uRiDG1Eosa3f"
      }
    },
    {
      "cell_type": "markdown",
      "source": [
        "# Saving Dataset"
      ],
      "metadata": {
        "id": "itgiH6OxbMOr"
      }
    },
    {
      "cell_type": "code",
      "source": [
        "df.to_csv('Final_Dataset_.csv')"
      ],
      "metadata": {
        "id": "AuE8CQD4Xm1k"
      },
      "execution_count": null,
      "outputs": []
    }
  ],
  "metadata": {
    "kernelspec": {
      "display_name": "Python 3.9.2 64-bit",
      "language": "python",
      "name": "python3"
    },
    "language_info": {
      "codemirror_mode": {
        "name": "ipython",
        "version": 3
      },
      "file_extension": ".py",
      "mimetype": "text/x-python",
      "name": "python",
      "nbconvert_exporter": "python",
      "pygments_lexer": "ipython3",
      "version": "3.9.2"
    },
    "orig_nbformat": 4,
    "vscode": {
      "interpreter": {
        "hash": "79bc079d97d2338e53dca45659ca242f5c8d9552e25524b09e1782a2cb999947"
      }
    },
    "colab": {
      "name": "DataVis_FinalPR.ipynb",
      "provenance": [],
      "collapsed_sections": [
        "3W2SGreJo7Yz",
        "_oCzK-_qrU_G",
        "rPbNpvUcsNQh",
        "U1laJgo8kAdj",
        "RQIU4gsVkAdk"
      ]
    }
  },
  "nbformat": 4,
  "nbformat_minor": 0
}